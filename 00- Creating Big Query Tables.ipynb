{
 "cells": [
  {
   "cell_type": "code",
   "execution_count": 1,
   "metadata": {},
   "outputs": [],
   "source": [
    "from google.cloud import bigquery\n",
    "\n",
    "from open_patstat.utils.gcp import create_table, load_gcs_file, delete_table\n",
    "from open_patstat.utils.schema import Schema"
   ]
  },
  {
   "cell_type": "code",
   "execution_count": 2,
   "metadata": {},
   "outputs": [],
   "source": [
    "client = bigquery.Client()"
   ]
  },
  {
   "cell_type": "code",
   "execution_count": 3,
   "metadata": {},
   "outputs": [],
   "source": [
    "job_config = bigquery.LoadJobConfig()\n",
    "job_config.skip_leading_rows = 1\n",
    "job_config.max_bad_records = 10\n",
    "job_config.source_format = bigquery.SourceFormat.CSV\n",
    "dataset_ref = client.dataset('patstat')"
   ]
  },
  {
   "cell_type": "markdown",
   "metadata": {},
   "source": [
    "# 1. Loading Tables"
   ]
  },
  {
   "cell_type": "markdown",
   "metadata": {},
   "source": [
    "## 1.1. Table \"tls201\" (main table)"
   ]
  },
  {
   "cell_type": "code",
   "execution_count": 4,
   "metadata": {},
   "outputs": [],
   "source": [
    "create_table(client,\n",
    "             dataset_id='patstat',\n",
    "             table_id='tls201',\n",
    "             schema=Schema().tls201)"
   ]
  },
  {
   "cell_type": "code",
   "execution_count": 5,
   "metadata": {},
   "outputs": [
    {
     "name": "stdout",
     "output_type": "stream",
     "text": [
      "Starting job lgs-da4c45c0-e673-4ba5-bfff-b103083da844\n",
      "Job took 9.093069076538086 seconds\n"
     ]
    }
   ],
   "source": [
    "table_ref = dataset_ref.table('tls201_s')\n",
    "job_config.schema = Schema().tls201\n",
    "load_gcs_file(client, 'gs://patstat_2018g/data_PATSTAT_Global_2018_Autumn_01/tls201_*.gz', \n",
    "              table_ref, job_config)\n",
    "#load_gcs_file(client, 'gs://patstat_2018g/data_PATSTAT_Global_2018_Autumn_01/tls201_part01.txt', \n",
    "#              table_ref, job_config)"
   ]
  },
  {
   "cell_type": "markdown",
   "metadata": {},
   "source": [
    "## 1.2. Table \"tls209_appln_ipc\" (IPC codes assigned to each application)"
   ]
  },
  {
   "cell_type": "code",
   "execution_count": 7,
   "metadata": {},
   "outputs": [],
   "source": [
    "# Creating main table\n",
    "create_table(client,\n",
    "             dataset_id='patstat',\n",
    "             table_id='tls209',\n",
    "             schema=Schema().tls209)"
   ]
  },
  {
   "cell_type": "code",
   "execution_count": 8,
   "metadata": {},
   "outputs": [
    {
     "name": "stdout",
     "output_type": "stream",
     "text": [
      "Starting job lgs-88f2b615-3abd-4d3d-93ad-ef855e397bcf\n",
      "Job took 267.2587592601776 seconds\n"
     ]
    }
   ],
   "source": [
    "# Adding files to the main table from GCP bucket\n",
    "table_ref = dataset_ref.table('tls209')\n",
    "job_config.schema = Schema().tls209\n",
    "load_gcs_file(client, 'gs://patstat_2018g/data_PATSTAT_Global_2018_Autumn/tls209_*.gz', \n",
    "              table_ref, job_config)"
   ]
  },
  {
   "cell_type": "code",
   "execution_count": 9,
   "metadata": {},
   "outputs": [],
   "source": [
    "# Creating Sample dataset\n",
    "create_table(client,\n",
    "             dataset_id='patstat',\n",
    "             table_id='tls209_s',\n",
    "             schema=Schema().tls209)"
   ]
  },
  {
   "cell_type": "code",
   "execution_count": 10,
   "metadata": {},
   "outputs": [
    {
     "name": "stdout",
     "output_type": "stream",
     "text": [
      "Starting job lgs-97d56603-15b6-4d21-ba28-016a6117f4bc\n",
      "Job took 3.600205659866333 seconds\n"
     ]
    }
   ],
   "source": [
    "# Adding files to the sample table from GCP bucket\n",
    "table_ref = dataset_ref.table('tls209_s')\n",
    "job_config.schema = Schema().tls209\n",
    "load_gcs_file(client, 'gs://patstat_2018g/data_PATSTAT_Global_2018_Autumn/tls209_part01.txt', \n",
    "              table_ref, job_config)"
   ]
  },
  {
   "cell_type": "markdown",
   "metadata": {},
   "source": [
    "## 1.3. Table \"tls204\" (the priority status of patents)"
   ]
  },
  {
   "cell_type": "code",
   "execution_count": 5,
   "metadata": {},
   "outputs": [],
   "source": [
    "create_table(client,\n",
    "             dataset_id='patstat',\n",
    "             table_id='tls204',\n",
    "             schema=Schema().tls204)"
   ]
  },
  {
   "cell_type": "code",
   "execution_count": 6,
   "metadata": {},
   "outputs": [
    {
     "name": "stdout",
     "output_type": "stream",
     "text": [
      "Starting job lgs-816820f0-9966-4b84-a2ae-25fc42b4fe62\n",
      "Job took 216.11920499801636 seconds\n"
     ]
    }
   ],
   "source": [
    "# Adding files to the main table from GCP bucket\n",
    "table_ref = dataset_ref.table('tls204')\n",
    "job_config.schema = Schema().tls204\n",
    "load_gcs_file(client, 'gs://patstat_2018g/data_PATSTAT_Global_2018_Autumn/tls204_*.gz', \n",
    "              table_ref, job_config)"
   ]
  },
  {
   "cell_type": "code",
   "execution_count": 9,
   "metadata": {},
   "outputs": [],
   "source": [
    "# Creating Sample dataset\n",
    "create_table(client,\n",
    "             dataset_id='patstat',\n",
    "             table_id='tls204_s',\n",
    "             schema=Schema().tls204)"
   ]
  },
  {
   "cell_type": "code",
   "execution_count": 10,
   "metadata": {},
   "outputs": [
    {
     "name": "stdout",
     "output_type": "stream",
     "text": [
      "Starting job lgs-506b7785-bd98-4b75-a829-28c88a20187f\n",
      "Job took 6.117683410644531 seconds\n"
     ]
    }
   ],
   "source": [
    "# Adding files to the sample table from GCP bucket\n",
    "table_ref = dataset_ref.table('tls204_s')\n",
    "job_config.schema = Schema().tls204\n",
    "load_gcs_file(client, 'gs://patstat_2018g/data_PATSTAT_Global_2018_Autumn/tls204_part01.txt', \n",
    "              table_ref, job_config)"
   ]
  },
  {
   "cell_type": "markdown",
   "metadata": {},
   "source": [
    "## 1.4. Table \"tls207\": the correspondence between patent application and inventors"
   ]
  },
  {
   "cell_type": "code",
   "execution_count": 7,
   "metadata": {},
   "outputs": [],
   "source": [
    "# Creating main table\n",
    "create_table(client,\n",
    "             dataset_id='patstat',\n",
    "             table_id='tls207',\n",
    "             schema=Schema().tls207)"
   ]
  },
  {
   "cell_type": "code",
   "execution_count": 8,
   "metadata": {},
   "outputs": [
    {
     "name": "stdout",
     "output_type": "stream",
     "text": [
      "Starting job lgs-ad379b9e-f584-4829-8ae0-ebed6eb950af\n",
      "Job took 379.3931813240051 seconds\n"
     ]
    }
   ],
   "source": [
    "# Adding files to the main table from GCP bucket\n",
    "table_ref = dataset_ref.table('tls207')\n",
    "job_config.schema = Schema().tls207\n",
    "load_gcs_file(client, 'gs://patstat_2018g/data_PATSTAT_Global_2018_Autumn/tls207_*.gz', \n",
    "              table_ref, job_config)"
   ]
  },
  {
   "cell_type": "code",
   "execution_count": 11,
   "metadata": {},
   "outputs": [],
   "source": [
    "# Creating Sample dataset\n",
    "create_table(client,\n",
    "             dataset_id='patstat',\n",
    "             table_id='tls207_s',\n",
    "             schema=Schema().tls207)"
   ]
  },
  {
   "cell_type": "code",
   "execution_count": 12,
   "metadata": {},
   "outputs": [
    {
     "name": "stdout",
     "output_type": "stream",
     "text": [
      "Starting job lgs-15d0c099-f0c0-4706-9e15-af4fcc411147\n",
      "Job took 5.712496280670166 seconds\n"
     ]
    }
   ],
   "source": [
    "# Adding files to the sample table from GCP bucket\n",
    "table_ref = dataset_ref.table('tls207_s')\n",
    "job_config.schema = Schema().tls207\n",
    "load_gcs_file(client, 'gs://patstat_2018g/data_PATSTAT_Global_2018_Autumn/tls207_part01.txt', \n",
    "              table_ref, job_config)"
   ]
  },
  {
   "cell_type": "markdown",
   "metadata": {},
   "source": [
    "## 1.5. Table \"tls206\": Details on names and addresses of applicants"
   ]
  },
  {
   "cell_type": "code",
   "execution_count": null,
   "metadata": {},
   "outputs": [],
   "source": [
    "# Creating main table\n",
    "create_table(client,\n",
    "             dataset_id='patstat',\n",
    "             table_id='tls206',\n",
    "             schema=Schema().tls206)"
   ]
  },
  {
   "cell_type": "code",
   "execution_count": null,
   "metadata": {},
   "outputs": [],
   "source": [
    "# Adding files to the main table from GCP bucket\n",
    "table_ref = dataset_ref.table('tls206')\n",
    "job_config.schema = Schema().tls206\n",
    "load_gcs_file(client, 'gs://patstat_2018g/data_PATSTAT_Global_2018_Autumn/tls206_*.gz', \n",
    "              table_ref, job_config)"
   ]
  },
  {
   "cell_type": "code",
   "execution_count": 13,
   "metadata": {},
   "outputs": [],
   "source": [
    "# Creating Sample dataset\n",
    "create_table(client,\n",
    "             dataset_id='patstat',\n",
    "             table_id='tls206_s',\n",
    "             schema=Schema().tls206)"
   ]
  },
  {
   "cell_type": "code",
   "execution_count": 15,
   "metadata": {},
   "outputs": [
    {
     "name": "stdout",
     "output_type": "stream",
     "text": [
      "Starting job lgs-a1667418-f504-487d-94f9-0f9eead2d590\n",
      "Job took 8.971823930740356 seconds\n"
     ]
    }
   ],
   "source": [
    "# Adding files to the sample table from GCP bucket\n",
    "table_ref = dataset_ref.table('tls206_s')\n",
    "job_config.schema = Schema().tls206\n",
    "load_gcs_file(client, 'gs://patstat_2018g/data_PATSTAT_Global_2018_Autumn/tls206_part01.txt', \n",
    "              table_ref, job_config)"
   ]
  },
  {
   "cell_type": "markdown",
   "metadata": {},
   "source": [
    "## 1.6. Table \"tls211\": \n",
    "## Information on the patent offices of destination (publication authorities) of all INPADOC family members and excludes the PCT publication authority (WO)"
   ]
  },
  {
   "cell_type": "code",
   "execution_count": 5,
   "metadata": {},
   "outputs": [],
   "source": [
    "# Creating main table\n",
    "create_table(client,\n",
    "             dataset_id='patstat',\n",
    "             table_id='tls211',\n",
    "             schema=Schema().tls211)"
   ]
  },
  {
   "cell_type": "code",
   "execution_count": 6,
   "metadata": {},
   "outputs": [],
   "source": [
    "# Adding files to the main table from GCP bucket\n",
    "table_ref = dataset_ref.table('tls211')\n",
    "job_config.schema = Schema().tls211"
   ]
  },
  {
   "cell_type": "code",
   "execution_count": 7,
   "metadata": {},
   "outputs": [],
   "source": [
    "load_job = client.load_table_from_uri(\n",
    "        source_uris='gs://patstat_2018g/data_PATSTAT_Global_2018_Autumn/tls211_*.gz',\n",
    "        destination=table_ref,\n",
    "        # job_id=job_id,\n",
    "        job_id_prefix='lgs-',\n",
    "        job_config=job_config,\n",
    "    )"
   ]
  },
  {
   "cell_type": "code",
   "execution_count": 8,
   "metadata": {},
   "outputs": [
    {
     "data": {
      "text/plain": [
       "<google.cloud.bigquery.job.LoadJob at 0x7f45f5fd0940>"
      ]
     },
     "execution_count": 8,
     "metadata": {},
     "output_type": "execute_result"
    }
   ],
   "source": [
    "load_job.result()"
   ]
  },
  {
   "cell_type": "code",
   "execution_count": null,
   "metadata": {},
   "outputs": [],
   "source": [
    "# Creating Sample dataset\n",
    "create_table(client,\n",
    "             dataset_id='patstat',\n",
    "             table_id='tls211_s',\n",
    "             schema=Schema().tls211)"
   ]
  },
  {
   "cell_type": "code",
   "execution_count": 4,
   "metadata": {},
   "outputs": [
    {
     "name": "stdout",
     "output_type": "stream",
     "text": [
      "THIS TABLE ALREADY EXISTS IN usptobias:patstat\n"
     ]
    }
   ],
   "source": [
    "# Creating Sample dataset\n",
    "create_table(client,\n",
    "             dataset_id='patstat',\n",
    "             table_id='tls211_s',\n",
    "             schema=Schema().tls211)"
   ]
  },
  {
   "cell_type": "code",
   "execution_count": null,
   "metadata": {},
   "outputs": [],
   "source": [
    "# Adding files to the sample table from GCP bucket\n",
    "table_ref = dataset_ref.table('tls211_s')\n",
    "job_config.schema = Schema().tls211\n",
    "load_gcs_file(client, 'gs://patstat_2018g/data_PATSTAT_Global_2018_Autumn/tls211_part01.txt', \n",
    "              table_ref, job_config)"
   ]
  },
  {
   "cell_type": "markdown",
   "metadata": {},
   "source": [
    "## 1.7. Table \"tls212\": Citations"
   ]
  },
  {
   "cell_type": "code",
   "execution_count": null,
   "metadata": {},
   "outputs": [],
   "source": [
    "# Creating main table\n",
    "create_table(client,\n",
    "             dataset_id='patstat',\n",
    "             table_id='tls212',\n",
    "             schema=Schema().tls212)"
   ]
  },
  {
   "cell_type": "code",
   "execution_count": null,
   "metadata": {},
   "outputs": [],
   "source": [
    "# Adding files to the sample table from GCP bucket\n",
    "table_ref = dataset_ref.table('tls212')\n",
    "job_config.schema = Schema().tls212\n",
    "load_gcs_file(client, 'gs://patstat_2018g/data_PATSTAT_Global_2018_Autumn/tls212_*.gz', \n",
    "              table_ref, job_config)"
   ]
  },
  {
   "cell_type": "markdown",
   "metadata": {},
   "source": [
    "## 1.8. Checking to see if the data is loaded correctly on the tables"
   ]
  },
  {
   "cell_type": "code",
   "execution_count": null,
   "metadata": {},
   "outputs": [],
   "source": [
    "# Check table creation and displays meta data\n",
    "# Run in command line\n",
    "bq show my-dataset:patstat.tls201"
   ]
  }
 ],
 "metadata": {
  "kernelspec": {
   "display_name": "Python 3",
   "language": "python",
   "name": "python3"
  },
  "language_info": {
   "codemirror_mode": {
    "name": "ipython",
    "version": 3
   },
   "file_extension": ".py",
   "mimetype": "text/x-python",
   "name": "python",
   "nbconvert_exporter": "python",
   "pygments_lexer": "ipython3",
   "version": "3.7.2"
  }
 },
 "nbformat": 4,
 "nbformat_minor": 2
}
