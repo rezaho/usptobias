{
 "cells": [
  {
   "cell_type": "markdown",
   "metadata": {},
   "source": [
    "## 1. Copying \"tls209\" table from Local to Bucket (multi-threat and all subdirectories)"
   ]
  },
  {
   "cell_type": "raw",
   "metadata": {},
   "source": [
    "gsutil -m cp -r /home/reza/patstat2018/openPatstat/data/data_PATSTAT_Global_2018_Autumn/tls209_*.txt.gz \n",
    "                gs://patstat_2018g/data_PATSTAT_Global_2018_Autumn/"
   ]
  },
  {
   "cell_type": "code",
   "execution_count": null,
   "metadata": {},
   "outputs": [],
   "source": []
  },
  {
   "cell_type": "markdown",
   "metadata": {},
   "source": [
    "## Which Datasets are uploaded?"
   ]
  },
  {
   "cell_type": "raw",
   "metadata": {},
   "source": [
    "tls201\n",
    "tls204\n",
    "tls209\n",
    "tls207"
   ]
  },
  {
   "cell_type": "code",
   "execution_count": null,
   "metadata": {},
   "outputs": [],
   "source": []
  },
  {
   "cell_type": "code",
   "execution_count": null,
   "metadata": {},
   "outputs": [],
   "source": []
  },
  {
   "cell_type": "markdown",
   "metadata": {},
   "source": [
    "# Linux Commands:"
   ]
  },
  {
   "cell_type": "markdown",
   "metadata": {},
   "source": [
    "## 1. Moving objects"
   ]
  },
  {
   "cell_type": "raw",
   "metadata": {},
   "source": [
    "mv -v Downloads/familyInformation.csv.zip patstat2018/family_patents/data/"
   ]
  },
  {
   "cell_type": "markdown",
   "metadata": {},
   "source": [
    "## 2. Creating Sub directories"
   ]
  },
  {
   "cell_type": "raw",
   "metadata": {},
   "source": [
    "mkdir -p patstat2018/family_patent/data/"
   ]
  },
  {
   "cell_type": "code",
   "execution_count": null,
   "metadata": {},
   "outputs": [],
   "source": [
    "# setting folder permissions while making the directory\n",
    "mkdir -m777 folder_name"
   ]
  },
  {
   "cell_type": "markdown",
   "metadata": {},
   "source": [
    "# 3. Renaming a folder or directory"
   ]
  },
  {
   "cell_type": "markdown",
   "metadata": {},
   "source": [
    "mv data_01.txt data_02.txt"
   ]
  },
  {
   "cell_type": "markdown",
   "metadata": {},
   "source": [
    "# 4. changing the permissions of a file or folder\n",
    "\n",
    "The `chmode` let you specify three numbers which set the permissions:\n",
    "\n",
    "- Read = 4\n",
    "- Write = 2\n",
    "- Execute = 1\n",
    "\n",
    "     And the `first number` is owner's access, `second` is group access, and `third number` is anybody else"
   ]
  },
  {
   "cell_type": "code",
   "execution_count": null,
   "metadata": {},
   "outputs": [],
   "source": [
    "# Owner: full access, group: read and execute, anyone else: no permissions\n",
    "chmod 750 test"
   ]
  },
  {
   "cell_type": "code",
   "execution_count": null,
   "metadata": {},
   "outputs": [],
   "source": []
  }
 ],
 "metadata": {
  "kernelspec": {
   "display_name": "Python 3",
   "language": "python",
   "name": "python3"
  },
  "language_info": {
   "codemirror_mode": {
    "name": "ipython",
    "version": 3
   },
   "file_extension": ".py",
   "mimetype": "text/x-python",
   "name": "python",
   "nbconvert_exporter": "python",
   "pygments_lexer": "ipython3",
   "version": "3.7.2"
  }
 },
 "nbformat": 4,
 "nbformat_minor": 2
}
