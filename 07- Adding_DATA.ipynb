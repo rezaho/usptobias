{
 "cells": [
  {
   "cell_type": "code",
   "execution_count": 1,
   "metadata": {},
   "outputs": [],
   "source": [
    "import pandas as pd\n",
    "import numpy as np\n",
    "from google.cloud import bigquery\n",
    "%load_ext google.cloud.bigquery\n",
    "\n",
    "from IPython.display import clear_output\n",
    "from tqdm import tqdm\n",
    "import time\n",
    "\n",
    "import matplotlib.pyplot as plt\n",
    "from matplotlib import ticker\n",
    "import seaborn as sns\n",
    "\n",
    "sns.set(style='darkgrid', font_scale=1.5)\n",
    "#sns.set_style('darkgrid', {\"xtick.minor.size\": 10, \"ytick.major.size\": 10})\n",
    "current_palette = sns.color_palette('deep')\n",
    "#sns.palplot(current_palette)"
   ]
  },
  {
   "cell_type": "markdown",
   "metadata": {},
   "source": [
    "# 1. Creating a Mapping between Application number and PatStat Application ID"
   ]
  },
  {
   "cell_type": "markdown",
   "metadata": {},
   "source": [
    "## 1.1. Investigating how to extract \"appln_kind\" and \"appln_auth\" from \"Application_number\" in Google Patents Public Dataset"
   ]
  },
  {
   "cell_type": "code",
   "execution_count": 4,
   "metadata": {},
   "outputs": [
    {
     "data": {
      "text/html": [
       "<div>\n",
       "<style scoped>\n",
       "    .dataframe tbody tr th:only-of-type {\n",
       "        vertical-align: middle;\n",
       "    }\n",
       "\n",
       "    .dataframe tbody tr th {\n",
       "        vertical-align: top;\n",
       "    }\n",
       "\n",
       "    .dataframe thead th {\n",
       "        text-align: right;\n",
       "    }\n",
       "</style>\n",
       "<table border=\"1\" class=\"dataframe\">\n",
       "  <thead>\n",
       "    <tr style=\"text-align: right;\">\n",
       "      <th></th>\n",
       "      <th>nb_appln_auth_matched</th>\n",
       "      <th>nb_publn_auth_matched</th>\n",
       "      <th>nb_appln_kind_matched</th>\n",
       "      <th>nb_publn_kind_matched</th>\n",
       "      <th>nb_total</th>\n",
       "    </tr>\n",
       "  </thead>\n",
       "  <tbody>\n",
       "    <tr>\n",
       "      <th>0</th>\n",
       "      <td>108185073</td>\n",
       "      <td>112527100</td>\n",
       "      <td>112492646</td>\n",
       "      <td>75692551</td>\n",
       "      <td>112527100</td>\n",
       "    </tr>\n",
       "  </tbody>\n",
       "</table>\n",
       "</div>"
      ],
      "text/plain": [
       "   nb_appln_auth_matched  nb_publn_auth_matched  nb_appln_kind_matched  \\\n",
       "0              108185073              112527100              112492646   \n",
       "\n",
       "   nb_publn_kind_matched   nb_total  \n",
       "0               75692551  112527100  "
      ]
     },
     "execution_count": 4,
     "metadata": {},
     "output_type": "execute_result"
    }
   ],
   "source": [
    "%%bigquery df_1\n",
    "WITH t1 AS(\n",
    "    SELECT a.application_number AS appln_nr_orig, a.publication_number AS publn_nr_orig, country_code AS appln_auth, application_kind AS appln_kind, \n",
    "    PC.application_number AS prior_appln_nr_orig, PC.publication_number AS prior_publn_nr_orig\n",
    "    FROM `patents-public-data.patents.publications` AS a, UNNEST(a.priority_claim) AS PC\n",
    "), t2 AS(\n",
    "    SELECT DISTINCT\n",
    "        appln_nr_orig,\n",
    "        publn_nr_orig,\n",
    "        appln_auth,\n",
    "        appln_kind\n",
    "    FROM t1\n",
    ")\n",
    "\n",
    "SELECT\n",
    "    COUNT(CASE WHEN REGEXP_EXTRACT(appln_nr_orig, r'(\\w{2})-.*-.*')=appln_auth THEN 1 END) AS nb_appln_auth_matched,\n",
    "    COUNT(CASE WHEN REGEXP_EXTRACT(publn_nr_orig, r'(\\w{2})-.*-.*')=appln_auth THEN 1 END) AS nb_publn_auth_matched,\n",
    "    COUNT(CASE WHEN REGEXP_EXTRACT(appln_nr_orig, r'\\w{2}-.*-(\\w{1}).*')=appln_kind THEN 1 END) AS nb_appln_kind_matched,\n",
    "    COUNT(CASE WHEN REGEXP_EXTRACT(publn_nr_orig, r'\\w{2}-.*-(\\w{1}).*')=appln_kind THEN 1 END) AS nb_publn_kind_matched,\n",
    "    COUNT(*) AS nb_total\n",
    "FROM t2"
   ]
  },
  {
   "cell_type": "markdown",
   "metadata": {},
   "source": [
    "Thus, this shows that for extracting `appln_kind` we should use `application_number` field, but for extracting `appln_auth` we must use `publication_number`!"
   ]
  },
  {
   "cell_type": "markdown",
   "metadata": {},
   "source": [
    "## 1.2. Running the query for generating the mapping dataset"
   ]
  },
  {
   "cell_type": "code",
   "execution_count": 8,
   "metadata": {},
   "outputs": [
    {
     "data": {
      "text/plain": [
       "<google.cloud.bigquery.table.RowIterator at 0x7fbee43fef28>"
      ]
     },
     "execution_count": 8,
     "metadata": {},
     "output_type": "execute_result"
    }
   ],
   "source": [
    "client = bigquery.Client()\n",
    "# Creating Job Config\n",
    "job_config = bigquery.QueryJobConfig()\n",
    "#job_config.dry_run = True\n",
    "job_config.use_query_cache = False\n",
    "# Set configuration.query.writeDisposition\n",
    "job_config.write_disposition = 'WRITE_TRUNCATE'\n",
    "\n",
    "# Set the destination table\n",
    "dataset_id = 'adding_data'\n",
    "table_id = '10_mapping_initial'\n",
    "table_ref = client.dataset(dataset_id).table(table_id)\n",
    "job_config.destination = table_ref\n",
    "query=\"\"\"\n",
    "WITH t1 AS(\n",
    "    SELECT a.application_number AS appln_nr_orig, a.publication_number AS publn_nr_orig, PC.application_number AS prior_appln_nr_orig, PC.publication_number AS prior_publn_nr_orig\n",
    "    FROM `patents-public-data.patents.publications` AS a, UNNEST(a.priority_claim) AS PC\n",
    "), t2 AS(\n",
    "    SELECT DISTINCT\n",
    "        appln_nr_orig,\n",
    "        publn_nr_orig\n",
    "    FROM t1\n",
    "), t3 AS(\n",
    "    SELECT DISTINCT\n",
    "        prior_appln_nr_orig AS appln_nr_orig,\n",
    "        prior_publn_nr_orig AS publn_nr_orig\n",
    "    FROM t1\n",
    "), t4 AS(\n",
    "    SELECT DISTINCT *\n",
    "    FROM(\n",
    "        (SELECT appln_nr_orig, publn_nr_orig\n",
    "        FROM t2) UNION ALL\n",
    "        (SELECT appln_nr_orig, publn_nr_orig\n",
    "        FROM t3)\n",
    "    )\n",
    "), t5 AS(\n",
    "    SELECT DISTINCT \n",
    "        appln_nr_orig,\n",
    "        appln_nr,\n",
    "        (CASE WHEN appln_auth_p IS NOT NULL THEN appln_auth_p ELSE appln_auth_a END) AS appln_auth,\n",
    "        appln_kind\n",
    "    FROM(\n",
    "        SELECT DISTINCT\n",
    "            appln_nr_orig,\n",
    "            REGEXP_EXTRACT(appln_nr_orig, r'\\w{2}-(.*)-.*') AS appln_nr,\n",
    "            REGEXP_EXTRACT(publn_nr_orig, r'(\\w{2})-.*-.*') AS appln_auth_p,\n",
    "            REGEXP_EXTRACT(appln_nr_orig, r'(\\w{2})-.*-.*') AS appln_auth_a,\n",
    "            REGEXP_EXTRACT(appln_nr_orig, r'\\w{2}-.*-(\\w{1}).*') AS appln_kind\n",
    "        FROM t4\n",
    "    )\n",
    "    #WHERE appln_auth IS NOT NULL\n",
    "), t6 AS(\n",
    "    SELECT DISTINCT\n",
    "      appln_id, \n",
    "      appln_nr, \n",
    "      appln_auth,\n",
    "      REGEXP_EXTRACT(appln_kind, r'(\\w{1}).*') AS appln_kind,\n",
    "      receiving_office\n",
    "    FROM `usptobias.patstat.tls201`\n",
    "), t7 AS(\n",
    "    SELECT *\n",
    "    FROM t5\n",
    "    FULL OUTER JOIN t6 USING(appln_nr, appln_auth, appln_kind)\n",
    "), t8 AS(\n",
    "    SELECT \n",
    "        appln_id, \n",
    "        ANY_VALUE(appln_kind) AS appln_kind, \n",
    "        ANY_VALUE(appln_auth) AS appln_auth, \n",
    "        ARRAY_AGG(appln_nr_orig) AS appln_nr_orig, \n",
    "        ANY_VALUE(appln_nr) AS appln_nr\n",
    "    FROM t7\n",
    "    GROUP BY appln_id\n",
    "    HAVING COUNT(t7.appln_nr_orig)>1\n",
    "), t9 AS(\n",
    "    SELECT \n",
    "        appln_nr_orig,\n",
    "        ANY_VALUE(appln_id) AS appln_id\n",
    "    FROM t7\n",
    "    GROUP BY appln_nr_orig\n",
    "    HAVING COUNT(t7.appln_id)>1\n",
    "), t10 AS(\n",
    "    SELECT \n",
    "        t8.appln_id,\n",
    "        t8.appln_kind,\n",
    "        t8.appln_auth,\n",
    "        t8.appln_nr,\n",
    "        appln_nr_orig_ex AS appln_nr_orig\n",
    "    FROM t8, UNNEST(t8.appln_nr_orig) AS appln_nr_orig_ex\n",
    "    LEFT JOIN t6 USING(appln_id)\n",
    "    WHERE t6.receiving_office = REGEXP_EXTRACT(appln_nr_orig_ex, r'(\\w{2})-.*-.*')\n",
    "), t11 AS(\n",
    "    SELECT a.*\n",
    "    FROM(\n",
    "        SELECT \n",
    "            t7.appln_id,\n",
    "            t7.appln_kind,\n",
    "            t7.appln_auth,\n",
    "            t7.appln_nr,\n",
    "            t7.appln_nr_orig\n",
    "        FROM t7\n",
    "        LEFT JOIN t8 USING(appln_id)\n",
    "        WHERE t8.appln_kind IS NULL\n",
    "    ) AS a\n",
    "    LEFT JOIN t9 USING(appln_nr_orig)\n",
    "    WHERE t9.appln_id IS NULL\n",
    "\n",
    ")\n",
    "\n",
    "SELECT DISTINCT *\n",
    "FROM(\n",
    "    (SELECT * FROM t11) UNION ALL\n",
    "    (SELECT * FROM t10)\n",
    ")\n",
    "\n",
    "\"\"\"\n",
    "\n",
    "# Defining the query\n",
    "query_job = client.query(query, location='US', job_config=job_config)\n",
    "\n",
    "query_job.result()"
   ]
  },
  {
   "cell_type": "code",
   "execution_count": 30,
   "metadata": {},
   "outputs": [
    {
     "data": {
      "text/plain": [
       "<google.cloud.bigquery.table.RowIterator at 0x7fbedfd5df60>"
      ]
     },
     "execution_count": 30,
     "metadata": {},
     "output_type": "execute_result"
    }
   ],
   "source": [
    "client = bigquery.Client()\n",
    "# Creating Job Config\n",
    "job_config = bigquery.QueryJobConfig()\n",
    "#job_config.dry_run = True\n",
    "job_config.use_query_cache = False\n",
    "# Set configuration.query.writeDisposition\n",
    "job_config.write_disposition = 'WRITE_TRUNCATE'\n",
    "\n",
    "# Set the destination table\n",
    "dataset_id = 'adding_data'\n",
    "table_id = '10_mapping'\n",
    "table_ref = client.dataset(dataset_id).table(table_id)\n",
    "job_config.destination = table_ref\n",
    "query=\"\"\"\n",
    "SELECT DISTINCT *\n",
    "FROM `usptobias.adding_data.10_mapping_initial`\n",
    "WHERE (appln_id IS NOT NULL) AND (appln_nr_orig IS NOT NULL)\n",
    "\"\"\"\n",
    "\n",
    "# Defining the query\n",
    "query_job = client.query(query, location='US', job_config=job_config)\n",
    "\n",
    "query_job.result()"
   ]
  },
  {
   "cell_type": "markdown",
   "metadata": {},
   "source": [
    "## 1.3. Investigating the Quality of Mapping"
   ]
  },
  {
   "cell_type": "code",
   "execution_count": null,
   "metadata": {},
   "outputs": [],
   "source": [
    "# Checking total number of remaining cases After removing NULLs"
   ]
  },
  {
   "cell_type": "code",
   "execution_count": 32,
   "metadata": {},
   "outputs": [
    {
     "data": {
      "text/html": [
       "<div>\n",
       "<style scoped>\n",
       "    .dataframe tbody tr th:only-of-type {\n",
       "        vertical-align: middle;\n",
       "    }\n",
       "\n",
       "    .dataframe tbody tr th {\n",
       "        vertical-align: top;\n",
       "    }\n",
       "\n",
       "    .dataframe thead th {\n",
       "        text-align: right;\n",
       "    }\n",
       "</style>\n",
       "<table border=\"1\" class=\"dataframe\">\n",
       "  <thead>\n",
       "    <tr style=\"text-align: right;\">\n",
       "      <th></th>\n",
       "      <th>nb_matched</th>\n",
       "    </tr>\n",
       "  </thead>\n",
       "  <tbody>\n",
       "    <tr>\n",
       "      <th>0</th>\n",
       "      <td>92744715</td>\n",
       "    </tr>\n",
       "  </tbody>\n",
       "</table>\n",
       "</div>"
      ],
      "text/plain": [
       "   nb_matched\n",
       "0    92744715"
      ]
     },
     "execution_count": 32,
     "metadata": {},
     "output_type": "execute_result"
    }
   ],
   "source": [
    "%%bigquery\n",
    "SELECT COUNT(*) AS nb_matched\n",
    "FROM `usptobias.adding_data.10_mapping`"
   ]
  },
  {
   "cell_type": "code",
   "execution_count": null,
   "metadata": {},
   "outputs": [],
   "source": [
    "## Checking Total number of cases"
   ]
  },
  {
   "cell_type": "code",
   "execution_count": 33,
   "metadata": {},
   "outputs": [
    {
     "data": {
      "text/html": [
       "<div>\n",
       "<style scoped>\n",
       "    .dataframe tbody tr th:only-of-type {\n",
       "        vertical-align: middle;\n",
       "    }\n",
       "\n",
       "    .dataframe tbody tr th {\n",
       "        vertical-align: top;\n",
       "    }\n",
       "\n",
       "    .dataframe thead th {\n",
       "        text-align: right;\n",
       "    }\n",
       "</style>\n",
       "<table border=\"1\" class=\"dataframe\">\n",
       "  <thead>\n",
       "    <tr style=\"text-align: right;\">\n",
       "      <th></th>\n",
       "      <th>nb_matched</th>\n",
       "    </tr>\n",
       "  </thead>\n",
       "  <tbody>\n",
       "    <tr>\n",
       "      <th>0</th>\n",
       "      <td>100623513</td>\n",
       "    </tr>\n",
       "  </tbody>\n",
       "</table>\n",
       "</div>"
      ],
      "text/plain": [
       "   nb_matched\n",
       "0   100623513"
      ]
     },
     "execution_count": 33,
     "metadata": {},
     "output_type": "execute_result"
    }
   ],
   "source": [
    "%%bigquery\n",
    "SELECT COUNT(*) AS nb_matched\n",
    "FROM `usptobias.adding_data.10_mapping_initial`"
   ]
  },
  {
   "cell_type": "code",
   "execution_count": null,
   "metadata": {},
   "outputs": [],
   "source": [
    "## The new One\n",
    "## Checking how many application number did not matched with an application ID in PatStat (nb_not_matched) \n",
    "##... and how many application IDs did not exist in Google Patent Public Dataset (nb_not_existed)"
   ]
  },
  {
   "cell_type": "code",
   "execution_count": 34,
   "metadata": {},
   "outputs": [
    {
     "data": {
      "text/html": [
       "<div>\n",
       "<style scoped>\n",
       "    .dataframe tbody tr th:only-of-type {\n",
       "        vertical-align: middle;\n",
       "    }\n",
       "\n",
       "    .dataframe tbody tr th {\n",
       "        vertical-align: top;\n",
       "    }\n",
       "\n",
       "    .dataframe thead th {\n",
       "        text-align: right;\n",
       "    }\n",
       "</style>\n",
       "<table border=\"1\" class=\"dataframe\">\n",
       "  <thead>\n",
       "    <tr style=\"text-align: right;\">\n",
       "      <th></th>\n",
       "      <th>nb_not_matched</th>\n",
       "      <th>nb_artificial_not_existed</th>\n",
       "      <th>nb_docdb_not_existed</th>\n",
       "      <th>nb_total</th>\n",
       "    </tr>\n",
       "  </thead>\n",
       "  <tbody>\n",
       "    <tr>\n",
       "      <th>0</th>\n",
       "      <td>3976244</td>\n",
       "      <td>1884651</td>\n",
       "      <td>2017903</td>\n",
       "      <td>100623481</td>\n",
       "    </tr>\n",
       "  </tbody>\n",
       "</table>\n",
       "</div>"
      ],
      "text/plain": [
       "   nb_not_matched  nb_artificial_not_existed  nb_docdb_not_existed   nb_total\n",
       "0         3976244                    1884651               2017903  100623481"
      ]
     },
     "execution_count": 34,
     "metadata": {},
     "output_type": "execute_result"
    }
   ],
   "source": [
    "%%bigquery df_2\n",
    "SELECT\n",
    "    COUNT(CASE WHEN appln_id IS NULL THEN 1 END) AS nb_not_matched,\n",
    "    COUNT(CASE WHEN (appln_nr_orig IS NULL) AND (appln_id>900000000) THEN 1 END) AS nb_artificial_not_existed,\n",
    "    COUNT(CASE WHEN (appln_nr_orig IS NULL) AND (appln_id<=900000000) THEN 1 END) AS nb_docdb_not_existed,\n",
    "    COUNT(appln_nr) AS nb_total\n",
    "FROM `usptobias.adding_data.10_mapping_initial`\n",
    "LIMIT 10"
   ]
  },
  {
   "cell_type": "code",
   "execution_count": 35,
   "metadata": {},
   "outputs": [
    {
     "name": "stdout",
     "output_type": "stream",
     "text": [
      "There were 3,976,244 cases with an \"Application Number\" in GOOGLE PATENTS but no corresponding \"Application ID\" in PATSTAT.\n",
      "\n",
      "There were 1,884,651 cases with no corresponding \"Application Number\" in GOOGLE PATENTS but an artificial \"Application ID\" in PATSTAT.\n",
      "\n",
      "There were 2,017,903 cases with no corresponding \"Application Number\" in GOOGLE PATENTS but an DOCDB \"Application ID\" in PATSTAT.\n",
      "\n"
     ]
    }
   ],
   "source": [
    "print('There were {:,} cases with an \"Application Number\" in GOOGLE PATENTS but no corresponding \"Application ID\" in PATSTAT.\\n'\n",
    "      .format(df_2.loc[0, 'nb_not_matched']))\n",
    "print('There were {:,} cases with no corresponding \"Application Number\" in GOOGLE PATENTS but an artificial \"Application ID\" in PATSTAT.\\n'\n",
    "      .format(df_2.loc[0, 'nb_artificial_not_existed']))\n",
    "print('There were {:,} cases with no corresponding \"Application Number\" in GOOGLE PATENTS but an DOCDB \"Application ID\" in PATSTAT.\\n'\n",
    "      .format(df_2.loc[0, 'nb_docdb_not_existed']))"
   ]
  },
  {
   "cell_type": "code",
   "execution_count": 36,
   "metadata": {},
   "outputs": [
    {
     "data": {
      "image/png": "[encoded data removed]",
      "text/plain": [
       "<Figure size 432x720 with 1 Axes>"
      ]
     },
     "metadata": {
      "needs_background": "light"
     },
     "output_type": "display_data"
    }
   ],
   "source": [
    "## Plotting the percentage of unchanged\n",
    "fig, ax = plt.subplots(1, 1, figsize=(6,10))\n",
    "df_2['matched'] = df_2.iloc[:,3] - df_2.iloc[:,:3].sum(axis=1)\n",
    "df_plot = df_2.iloc[:,np.r_[0:3,4]]\n",
    "df_plot.index = ['Applications']\n",
    "df_plot.columns = ['No corresponding Application ID in PATSTAT', 'No match in Google Patent (Artificial ID)', \n",
    "                   'No match in Google Patent (DOCDB ID)', 'Correctly Matched']\n",
    "df_plot.plot(ax=ax, kind='bar', stacked=True, colormap='viridis')\n",
    "ax.bar\n",
    "#ax.set_xlabel('Sex', fontsize=18)\n",
    "ax.set_ylabel('Counts', fontsize=20)\n",
    "ax.set_title('Checking the Quality of Mapping', fontsize=20)\n",
    "ax.legend(#['First', 'Second', 'Third'], # you can send a list to change the legends\n",
    "          loc='center left', bbox_to_anchor=(1., 0.5)) # bbox_to_anchor is for putting legend outside the plot\n",
    "#ax.set_yscale('log')\n",
    "#ax.set_ylim(1e5,1e8)\n",
    "ax.yaxis.set_major_formatter(ticker.StrMethodFormatter('{x:,.0f}'))\n",
    "ax.set_xticklabels(ax.get_xticklabels(), fontdict={'fontsize':20}, rotation = 'horizontal')\n",
    "\n",
    "\n",
    "plt.show()"
   ]
  },
  {
   "cell_type": "code",
   "execution_count": null,
   "metadata": {},
   "outputs": [],
   "source": [
    "## Checking if a PATSTAT \"Application ID\" is Mapped to several Google \"Application Number\" or\n",
    "##... a Google \"Application Number\" is matched to more than one \"Application ID\" in PATSTAT"
   ]
  },
  {
   "cell_type": "code",
   "execution_count": 7,
   "metadata": {},
   "outputs": [
    {
     "data": {
      "text/html": [
       "<div>\n",
       "<style scoped>\n",
       "    .dataframe tbody tr th:only-of-type {\n",
       "        vertical-align: middle;\n",
       "    }\n",
       "\n",
       "    .dataframe tbody tr th {\n",
       "        vertical-align: top;\n",
       "    }\n",
       "\n",
       "    .dataframe thead th {\n",
       "        text-align: right;\n",
       "    }\n",
       "</style>\n",
       "<table border=\"1\" class=\"dataframe\">\n",
       "  <thead>\n",
       "    <tr style=\"text-align: right;\">\n",
       "      <th></th>\n",
       "      <th>nb_invalid_appln_id</th>\n",
       "      <th>nb_invalid_appln_nr_orig</th>\n",
       "    </tr>\n",
       "  </thead>\n",
       "  <tbody>\n",
       "    <tr>\n",
       "      <th>0</th>\n",
       "      <td>0</td>\n",
       "      <td>0</td>\n",
       "    </tr>\n",
       "  </tbody>\n",
       "</table>\n",
       "</div>"
      ],
      "text/plain": [
       "   nb_invalid_appln_id  nb_invalid_appln_nr_orig\n",
       "0                    0                         0"
      ]
     },
     "execution_count": 7,
     "metadata": {},
     "output_type": "execute_result"
    }
   ],
   "source": [
    "%%bigquery df_2\n",
    "\n",
    "WITH a AS(\n",
    "    SELECT (COUNT(*)-1) AS nb_invalid_appln_id\n",
    "    FROM(\n",
    "        SELECT appln_id, ARRAY_AGG(DISTINCT appln_nr_orig)\n",
    "        FROM `usptobias.adding_data.10_mapping`\n",
    "        GROUP BY appln_id\n",
    "        HAVING COUNT(appln_nr_orig)>1\n",
    "    )\n",
    "\n",
    "), b AS(\n",
    "    SELECT (COUNT(*)-1) AS nb_invalid_appln_nr_orig\n",
    "    FROM(\n",
    "        SELECT appln_nr_orig, ARRAY_AGG(DISTINCT appln_id) AS appln_id\n",
    "        FROM `usptobias.adding_data.10_mapping` AS t1\n",
    "        GROUP BY appln_nr_orig\n",
    "        HAVING COUNT(t1.appln_id)>1\n",
    "    )\n",
    "\n",
    ")\n",
    "\n",
    "SELECT *\n",
    "FROM a, b\n",
    "LIMIT 100"
   ]
  },
  {
   "cell_type": "markdown",
   "metadata": {},
   "source": [
    "# 2. Creating a Backbone of Google Patents Data"
   ]
  },
  {
   "cell_type": "code",
   "execution_count": 38,
   "metadata": {},
   "outputs": [
    {
     "data": {
      "text/plain": [
       "<google.cloud.bigquery.table.RowIterator at 0x7fbee43fe048>"
      ]
     },
     "execution_count": 38,
     "metadata": {},
     "output_type": "execute_result"
    }
   ],
   "source": [
    "client = bigquery.Client()\n",
    "# Creating Job Config\n",
    "job_config = bigquery.QueryJobConfig()\n",
    "#job_config.dry_run = True\n",
    "job_config.use_query_cache = False\n",
    "# Set configuration.query.writeDisposition\n",
    "job_config.write_disposition = 'WRITE_TRUNCATE'\n",
    "\n",
    "# Set the destination table\n",
    "dataset_id = 'adding_data'\n",
    "table_id = '11_google_backbone'\n",
    "table_ref = client.dataset(dataset_id).table(table_id)\n",
    "job_config.destination = table_ref\n",
    "\n",
    "query=\"\"\"\n",
    "SELECT \n",
    "    application_number,\n",
    "    publication_number,\n",
    "    country_code, \n",
    "    kind_code, \n",
    "    application_kind,\n",
    "    family_id,\n",
    "    publication_date, \n",
    "    filing_date,\n",
    "    grant_date,\n",
    "    ARRAY_LENGTH(examiner) AS nb_examiners,\n",
    "    ARRAY_LENGTH(inventor) AS nb_inventors,\n",
    "    ARRAY_LENGTH(assignee) AS nb_assignee,\n",
    "    inventor,\n",
    "    assignee,\n",
    "    examiner\n",
    "FROM \n",
    "    `patents-public-data.patents.publications` AS a\n",
    "\"\"\"\n",
    "\n",
    "# Defining the query\n",
    "query_job = client.query(query, location='US', job_config=job_config)\n",
    "\n",
    "query_job.result()"
   ]
  },
  {
   "cell_type": "markdown",
   "metadata": {},
   "source": [
    "# 3. Adding Exact Twins Information"
   ]
  },
  {
   "cell_type": "code",
   "execution_count": null,
   "metadata": {},
   "outputs": [],
   "source": [
    "# Adding exact twins info (This table was built in 04-Customized_Algorithm Notebook)"
   ]
  },
  {
   "cell_type": "code",
   "execution_count": 132,
   "metadata": {},
   "outputs": [
    {
     "data": {
      "text/plain": [
       "<google.cloud.bigquery.table.RowIterator at 0x7fbedfe07e10>"
      ]
     },
     "execution_count": 132,
     "metadata": {},
     "output_type": "execute_result"
    }
   ],
   "source": [
    "client = bigquery.Client()\n",
    "# Creating Job Config\n",
    "job_config = bigquery.QueryJobConfig()\n",
    "#job_config.dry_run = True\n",
    "job_config.use_query_cache = False\n",
    "# Set configuration.query.writeDisposition\n",
    "job_config.write_disposition = 'WRITE_TRUNCATE'\n",
    "\n",
    "# Set the destination table\n",
    "dataset_id = 'adding_data'\n",
    "table_id = '12_exact_twins'\n",
    "table_ref = client.dataset(dataset_id).table(table_id)\n",
    "job_config.destination = table_ref\n",
    "\n",
    "query=\"\"\"\n",
    "SELECT *\n",
    "FROM \n",
    "    `usptobias.custom_alg.step_03_twins`\n",
    "\"\"\"\n",
    "\n",
    "# Defining the query\n",
    "query_job = client.query(query, location='US', job_config=job_config)\n",
    "\n",
    "query_job.result()"
   ]
  },
  {
   "cell_type": "markdown",
   "metadata": {},
   "source": [
    "# 4. Adding Examiners Information"
   ]
  },
  {
   "cell_type": "markdown",
   "metadata": {},
   "source": [
    "## 3.1. Evaluating Google Patents' Dataset Quality for Examiners"
   ]
  },
  {
   "cell_type": "code",
   "execution_count": 70,
   "metadata": {},
   "outputs": [
    {
     "data": {
      "text/html": [
       "<div>\n",
       "<style scoped>\n",
       "    .dataframe tbody tr th:only-of-type {\n",
       "        vertical-align: middle;\n",
       "    }\n",
       "\n",
       "    .dataframe tbody tr th {\n",
       "        vertical-align: top;\n",
       "    }\n",
       "\n",
       "    .dataframe thead th {\n",
       "        text-align: right;\n",
       "    }\n",
       "</style>\n",
       "<table border=\"1\" class=\"dataframe\">\n",
       "  <thead>\n",
       "    <tr style=\"text-align: right;\">\n",
       "      <th></th>\n",
       "      <th>country_code</th>\n",
       "      <th>examiners_avail</th>\n",
       "      <th>examiners_unavail</th>\n",
       "      <th>nb_total_appln</th>\n",
       "    </tr>\n",
       "  </thead>\n",
       "  <tbody>\n",
       "    <tr>\n",
       "      <th>0</th>\n",
       "      <td>CN</td>\n",
       "      <td>1190543</td>\n",
       "      <td>17871483</td>\n",
       "      <td>17871527</td>\n",
       "    </tr>\n",
       "    <tr>\n",
       "      <th>1</th>\n",
       "      <td>ES</td>\n",
       "      <td>19568</td>\n",
       "      <td>1293072</td>\n",
       "      <td>1309543</td>\n",
       "    </tr>\n",
       "    <tr>\n",
       "      <th>2</th>\n",
       "      <td>JP</td>\n",
       "      <td>1447545</td>\n",
       "      <td>18228414</td>\n",
       "      <td>18232679</td>\n",
       "    </tr>\n",
       "    <tr>\n",
       "      <th>3</th>\n",
       "      <td>KR</td>\n",
       "      <td>2219617</td>\n",
       "      <td>2704427</td>\n",
       "      <td>3732274</td>\n",
       "    </tr>\n",
       "    <tr>\n",
       "      <th>4</th>\n",
       "      <td>TW</td>\n",
       "      <td>14996</td>\n",
       "      <td>1316385</td>\n",
       "      <td>1319282</td>\n",
       "    </tr>\n",
       "    <tr>\n",
       "      <th>5</th>\n",
       "      <td>US</td>\n",
       "      <td>6893454</td>\n",
       "      <td>9512821</td>\n",
       "      <td>13093687</td>\n",
       "    </tr>\n",
       "  </tbody>\n",
       "</table>\n",
       "</div>"
      ],
      "text/plain": [
       "  country_code  examiners_avail  examiners_unavail  nb_total_appln\n",
       "0           CN          1190543           17871483        17871527\n",
       "1           ES            19568            1293072         1309543\n",
       "2           JP          1447545           18228414        18232679\n",
       "3           KR          2219617            2704427         3732274\n",
       "4           TW            14996            1316385         1319282\n",
       "5           US          6893454            9512821        13093687"
      ]
     },
     "execution_count": 70,
     "metadata": {},
     "output_type": "execute_result"
    }
   ],
   "source": [
    "%%bigquery df_1\n",
    "WITH t1 AS(\n",
    "    SELECT \n",
    "        country_code, \n",
    "        COUNT(DISTINCT(CASE WHEN nb_examiners>0 THEN application_number END)) AS examiners_avail, \n",
    "        COUNT(DISTINCT(CASE WHEN nb_examiners=0 THEN application_number END)) AS examiners_unavail, \n",
    "        COUNT(DISTINCT application_number) AS nb_total_appln\n",
    "    FROM(SELECT *\n",
    "        FROM `usptobias.adding_data.11_google_backbone`) \n",
    "    GROUP BY country_code)\n",
    "SELECT *\n",
    "FROM t1\n",
    "WHERE examiners_avail>0\n",
    "ORDER BY country_code\n",
    "LIMIT 100"
   ]
  },
  {
   "cell_type": "code",
   "execution_count": 69,
   "metadata": {},
   "outputs": [
    {
     "data": {
      "text/html": [
       "<div>\n",
       "<style scoped>\n",
       "    .dataframe tbody tr th:only-of-type {\n",
       "        vertical-align: middle;\n",
       "    }\n",
       "\n",
       "    .dataframe tbody tr th {\n",
       "        vertical-align: top;\n",
       "    }\n",
       "\n",
       "    .dataframe thead th {\n",
       "        text-align: right;\n",
       "    }\n",
       "</style>\n",
       "<table border=\"1\" class=\"dataframe\">\n",
       "  <thead>\n",
       "    <tr style=\"text-align: right;\">\n",
       "      <th></th>\n",
       "      <th>country_code</th>\n",
       "      <th>examiners_avail</th>\n",
       "      <th>examiners_unavail</th>\n",
       "      <th>nb_total_appln</th>\n",
       "    </tr>\n",
       "  </thead>\n",
       "  <tbody>\n",
       "    <tr>\n",
       "      <th>0</th>\n",
       "      <td>CN</td>\n",
       "      <td>1184071</td>\n",
       "      <td>17053646</td>\n",
       "      <td>17053686</td>\n",
       "    </tr>\n",
       "    <tr>\n",
       "      <th>1</th>\n",
       "      <td>ES</td>\n",
       "      <td>18154</td>\n",
       "      <td>313812</td>\n",
       "      <td>330077</td>\n",
       "    </tr>\n",
       "    <tr>\n",
       "      <th>2</th>\n",
       "      <td>JP</td>\n",
       "      <td>11597</td>\n",
       "      <td>5884264</td>\n",
       "      <td>5884312</td>\n",
       "    </tr>\n",
       "    <tr>\n",
       "      <th>3</th>\n",
       "      <td>KR</td>\n",
       "      <td>1615294</td>\n",
       "      <td>2274453</td>\n",
       "      <td>2813533</td>\n",
       "    </tr>\n",
       "    <tr>\n",
       "      <th>4</th>\n",
       "      <td>TW</td>\n",
       "      <td>14996</td>\n",
       "      <td>1111061</td>\n",
       "      <td>1113958</td>\n",
       "    </tr>\n",
       "    <tr>\n",
       "      <th>5</th>\n",
       "      <td>US</td>\n",
       "      <td>3981700</td>\n",
       "      <td>5538077</td>\n",
       "      <td>6244220</td>\n",
       "    </tr>\n",
       "  </tbody>\n",
       "</table>\n",
       "</div>"
      ],
      "text/plain": [
       "  country_code  examiners_avail  examiners_unavail  nb_total_appln\n",
       "0           CN          1184071           17053646        17053686\n",
       "1           ES            18154             313812          330077\n",
       "2           JP            11597            5884264         5884312\n",
       "3           KR          1615294            2274453         2813533\n",
       "4           TW            14996            1111061         1113958\n",
       "5           US          3981700            5538077         6244220"
      ]
     },
     "execution_count": 69,
     "metadata": {},
     "output_type": "execute_result"
    }
   ],
   "source": [
    "%%bigquery df_2\n",
    "WITH t1 AS(\n",
    "    SELECT \n",
    "        country_code, \n",
    "        COUNT(DISTINCT(CASE WHEN nb_examiners>0 THEN application_number END)) AS examiners_avail, \n",
    "        COUNT(DISTINCT(CASE WHEN nb_examiners=0 THEN application_number END)) AS examiners_unavail, \n",
    "        COUNT(DISTINCT application_number) AS nb_total_appln\n",
    "    FROM(SELECT *\n",
    "        FROM `usptobias.adding_data.11_google_backbone` \n",
    "        WHERE filing_date>20010101) \n",
    "    GROUP BY country_code)\n",
    "SELECT *\n",
    "FROM t1\n",
    "WHERE examiners_avail>0\n",
    "ORDER BY country_code\n",
    "LIMIT 100"
   ]
  },
  {
   "cell_type": "code",
   "execution_count": 75,
   "metadata": {},
   "outputs": [
    {
     "data": {
      "image/png": "[encoded data removed]",
      "text/plain": [
       "<Figure size 1152x648 with 2 Axes>"
      ]
     },
     "metadata": {
      "needs_background": "light"
     },
     "output_type": "display_data"
    }
   ],
   "source": [
    "## Plotting the percentage of unchanged\n",
    "fig, ax = plt.subplots(1, 2, figsize=(16,9))\n",
    "\n",
    "# First Plot (all the times)\n",
    "df_1 = df_1.sort_values(by=['nb_total_appln'], ascending=False)\n",
    "df_plot1 = df_1.set_index('country_code').loc[:,['examiners_avail', 'examiners_unavail']].copy()\n",
    "df_plot1.columns = [\"Examiners Available\", 'Examiners Unavailable']\n",
    "df_plot1.plot(ax=ax[0], kind='bar', stacked=True, colormap='viridis')\n",
    "ax[0].bar\n",
    "ax[0].set_ylabel('Counts', fontsize=20)\n",
    "ax[0].set_xlabel('Country', fontsize=20)\n",
    "ax[0].set_title('Availability of Examiners Information', fontsize=20)\n",
    "ax[0].legend(loc='center left', bbox_to_anchor=(1., 0.5)) # bbox_to_anchor is for putting legend outside the plot\n",
    "ax[0].yaxis.set_major_formatter(ticker.StrMethodFormatter('{x:,.0f}'))\n",
    "ax[0].set_xticklabels(ax[0].get_xticklabels(), fontdict={'fontsize':20}, rotation = 'horizontal')\n",
    "ax[0].get_legend().remove()\n",
    "\n",
    "# Second Plot (Only after 2000)\n",
    "df_plot2 = df_2.set_index('country_code').loc[:,['examiners_avail', 'examiners_unavail']].copy()\n",
    "df_plot2.columns = [\"Examiners Available\", 'Examiners Unavailable']\n",
    "df_plot2 = df_plot2.reindex(df_plot1.index)\n",
    "df_plot2.plot(ax=ax[1], kind='bar', stacked=True, colormap='viridis')\n",
    "ax[1].bar\n",
    "ax[1].set_xlabel('Country', fontsize=20)\n",
    "ax[1].set_title('Availability of Examiners (After 2001) ', fontsize=20)\n",
    "ax[1].legend(loc='center left', bbox_to_anchor=(1., 0.5)) # bbox_to_anchor is for putting legend outside the plot\n",
    "ax[1].yaxis.set_major_formatter(ticker.StrMethodFormatter('{x:,.0f}'))\n",
    "ax[1].set_xticklabels(ax[1].get_xticklabels(), fontdict={'fontsize':20}, rotation = 'horizontal')\n",
    "ax[1].set_yticklabels([])\n",
    "\n",
    "plt.show()"
   ]
  },
  {
   "cell_type": "markdown",
   "metadata": {},
   "source": [
    "## 4.2. Examining USPTO Patent Examination Research Data \"PAIR\" Table Quality for Adding Examiners"
   ]
  },
  {
   "cell_type": "code",
   "execution_count": 76,
   "metadata": {},
   "outputs": [],
   "source": [
    "# Getting the distribution of patents over different application Types"
   ]
  },
  {
   "cell_type": "code",
   "execution_count": 120,
   "metadata": {},
   "outputs": [
    {
     "data": {
      "text/html": [
       "<div>\n",
       "<style scoped>\n",
       "    .dataframe tbody tr th:only-of-type {\n",
       "        vertical-align: middle;\n",
       "    }\n",
       "\n",
       "    .dataframe tbody tr th {\n",
       "        vertical-align: top;\n",
       "    }\n",
       "\n",
       "    .dataframe thead th {\n",
       "        text-align: right;\n",
       "    }\n",
       "</style>\n",
       "<table border=\"1\" class=\"dataframe\">\n",
       "  <thead>\n",
       "    <tr style=\"text-align: right;\">\n",
       "      <th></th>\n",
       "      <th>application_type</th>\n",
       "      <th>nb_per_type</th>\n",
       "    </tr>\n",
       "  </thead>\n",
       "  <tbody>\n",
       "    <tr>\n",
       "      <th>0</th>\n",
       "      <td>REGULAR</td>\n",
       "      <td>7996484</td>\n",
       "    </tr>\n",
       "    <tr>\n",
       "      <th>1</th>\n",
       "      <td>PROVSNL</td>\n",
       "      <td>930838</td>\n",
       "    </tr>\n",
       "    <tr>\n",
       "      <th>2</th>\n",
       "      <td>REISSUE</td>\n",
       "      <td>24779</td>\n",
       "    </tr>\n",
       "    <tr>\n",
       "      <th>3</th>\n",
       "      <td>REEXAM</td>\n",
       "      <td>15905</td>\n",
       "    </tr>\n",
       "    <tr>\n",
       "      <th>4</th>\n",
       "      <td>PCT</td>\n",
       "      <td>849685</td>\n",
       "    </tr>\n",
       "    <tr>\n",
       "      <th>5</th>\n",
       "      <td>?</td>\n",
       "      <td>2</td>\n",
       "    </tr>\n",
       "  </tbody>\n",
       "</table>\n",
       "</div>"
      ],
      "text/plain": [
       "  application_type  nb_per_type\n",
       "0          REGULAR      7996484\n",
       "1          PROVSNL       930838\n",
       "2          REISSUE        24779\n",
       "3           REEXAM        15905\n",
       "4              PCT       849685\n",
       "5                ?            2"
      ]
     },
     "execution_count": 120,
     "metadata": {},
     "output_type": "execute_result"
    }
   ],
   "source": [
    "%%bigquery df_\n",
    "WITH t1 AS(\n",
    "    SELECT *, CAST(REGEXP_EXTRACT(filing_date, r'(\\d{4})-\\d{2}-\\d{2}') AS INT64) AS filing_year\n",
    "    FROM `patents-public-data.uspto_oce_pair.application_data`\n",
    ")\n",
    "\n",
    "SELECT application_type, COUNT(application_number) AS nb_per_type\n",
    "FROM t1\n",
    "GROUP BY application_type"
   ]
  },
  {
   "cell_type": "code",
   "execution_count": 121,
   "metadata": {},
   "outputs": [
    {
     "data": {
      "image/png": "[encoded data removed]",
      "text/plain": [
       "<Figure size 504x504 with 1 Axes>"
      ]
     },
     "metadata": {
      "needs_background": "light"
     },
     "output_type": "display_data"
    }
   ],
   "source": [
    "## Plotting the percentage of unchanged\n",
    "fig, ax = plt.subplots(1, 1, figsize=(7,7))\n",
    "df_plot = df_.sort_values(by=['nb_per_type'], ascending=False).copy()\n",
    "df_plot.columns = [\"Application Type\", \"COUNTS Per Type\"]\n",
    "df_plot = df_plot.set_index(\"Application Type\").copy()\n",
    "df_plot.plot(ax=ax, kind='bar', stacked=True, colormap='Spectral')\n",
    "ax.bar\n",
    "ax.set_ylabel('Counts', fontsize=22)\n",
    "ax.set_title('Distribution of Patents \\nOver Different Application Types', fontsize=20)\n",
    "ax.legend(loc='center left', bbox_to_anchor=(1., 0.5)) # bbox_to_anchor is for putting legend outside the plot\n",
    "ax.yaxis.set_major_formatter(ticker.StrMethodFormatter('{x:,.0f}'))\n",
    "ax.set_xticklabels(ax.get_xticklabels(), fontdict={'fontsize':16}, rotation = 60, ha='right')\n",
    "plt.show()"
   ]
  },
  {
   "cell_type": "code",
   "execution_count": null,
   "metadata": {},
   "outputs": [],
   "source": [
    "# Querying the existance of examiner information"
   ]
  },
  {
   "cell_type": "code",
   "execution_count": 122,
   "metadata": {},
   "outputs": [
    {
     "data": {
      "text/html": [
       "<div>\n",
       "<style scoped>\n",
       "    .dataframe tbody tr th:only-of-type {\n",
       "        vertical-align: middle;\n",
       "    }\n",
       "\n",
       "    .dataframe tbody tr th {\n",
       "        vertical-align: top;\n",
       "    }\n",
       "\n",
       "    .dataframe thead th {\n",
       "        text-align: right;\n",
       "    }\n",
       "</style>\n",
       "<table border=\"1\" class=\"dataframe\">\n",
       "  <thead>\n",
       "    <tr style=\"text-align: right;\">\n",
       "      <th></th>\n",
       "      <th>nb_examiner_unavail</th>\n",
       "      <th>nb_examiner_avail</th>\n",
       "      <th>nb_total_appln</th>\n",
       "    </tr>\n",
       "  </thead>\n",
       "  <tbody>\n",
       "    <tr>\n",
       "      <th>0</th>\n",
       "      <td>168636</td>\n",
       "      <td>7827848</td>\n",
       "      <td>7996484</td>\n",
       "    </tr>\n",
       "  </tbody>\n",
       "</table>\n",
       "</div>"
      ],
      "text/plain": [
       "   nb_examiner_unavail  nb_examiner_avail  nb_total_appln\n",
       "0               168636            7827848         7996484"
      ]
     },
     "execution_count": 122,
     "metadata": {},
     "output_type": "execute_result"
    }
   ],
   "source": [
    "%%bigquery df_\n",
    "WITH t1 AS(\n",
    "    SELECT *, CAST(REGEXP_EXTRACT(filing_date, r'(\\d{4})-\\d{2}-\\d{2}') AS INT64) AS filing_year\n",
    "    FROM `patents-public-data.uspto_oce_pair.application_data`\n",
    "    WHERE application_type='REGULAR'\n",
    ")\n",
    "\n",
    "SELECT \n",
    "    COUNT(CASE WHEN examiner_id IS NULL THEN 1 END) AS nb_examiner_unavail,\n",
    "    COUNT(CASE WHEN examiner_id IS NOT NULL THEN 1 END) AS nb_examiner_avail,\n",
    "    COUNT(*) AS nb_total_appln\n",
    "FROM t1"
   ]
  },
  {
   "cell_type": "code",
   "execution_count": 129,
   "metadata": {},
   "outputs": [
    {
     "data": {
      "image/png": "[encoded data removed]",
      "text/plain": [
       "<Figure size 288x504 with 1 Axes>"
      ]
     },
     "metadata": {
      "needs_background": "light"
     },
     "output_type": "display_data"
    }
   ],
   "source": [
    "## Plotting the percentage of unchanged\n",
    "fig, ax = plt.subplots(1, 1, figsize=(4,7))\n",
    "df_plot = df_.iloc[:,:2].copy()\n",
    "df_plot.columns = [\"Examiners' Info. Available\", \"Examiners' Unavailable\"]\n",
    "df_plot.index = ['\"Regular\" Applications']\n",
    "df_plot.plot(ax=ax, kind='bar', stacked=True, colormap='viridis')\n",
    "ax.bar\n",
    "ax.set_ylabel('Counts', fontsize=22)\n",
    "ax.set_title('Availability of Examiners Info.', fontsize=20)\n",
    "ax.legend(loc='center left', bbox_to_anchor=(1., 0.5)) # bbox_to_anchor is for putting legend outside the plot\n",
    "ax.yaxis.set_major_formatter(ticker.StrMethodFormatter('{x:,.0f}'))\n",
    "ax.set_xticklabels(ax.get_xticklabels(), fontdict={'fontsize':18}, rotation = 'horizontal')\n",
    "plt.show()"
   ]
  },
  {
   "cell_type": "markdown",
   "metadata": {},
   "source": [
    "## 4.3. Adding Examiners Info. Using USPTO Patent Examination Research Data \"PAIR\" Table"
   ]
  },
  {
   "cell_type": "code",
   "execution_count": null,
   "metadata": {},
   "outputs": [],
   "source": [
    "client = bigquery.Client()\n",
    "# Creating Job Config\n",
    "job_config = bigquery.QueryJobConfig()\n",
    "#job_config.dry_run = True\n",
    "job_config.use_query_cache = False\n",
    "# Set configuration.query.writeDisposition\n",
    "job_config.write_disposition = 'WRITE_TRUNCATE'\n",
    "\n",
    "# Set the destination table\n",
    "dataset_id = 'adding_data'\n",
    "table_id = '13_twins_AddedUSPTO'\n",
    "table_ref = client.dataset(dataset_id).table(table_id)\n",
    "job_config.destination = table_ref\n",
    "\n",
    "query=\"\"\"\n",
    "WITH t1 AS(\n",
    "    SELECT *, CAST(REGEXP_EXTRACT(filing_date, r'(\\d{4})-\\d{2}-\\d{2}') AS INT64) AS filing_year\n",
    "    FROM `patents-public-data.uspto_oce_pair.application_data`\n",
    "   \n",
    "), t2 AS(\n",
    "    SELECT \n",
    "        a.application_number_pair AS application_number,\n",
    "        a.application_number AS appln_nr_orig\n",
    "    FROM `patents-public-data.uspto_oce_pair.match` AS a\n",
    "), t3 AS(\n",
    "    SELECT t1.*, t2.appln_nr_orig\n",
    "    FROM t1\n",
    "    LEFT JOIN t2 USING(application_number)\n",
    "), t4 AS(\n",
    "    SELECT a.*, t2.appln_nr_orig\n",
    "    FROM(\n",
    "        SELECT \n",
    "            application_number,\n",
    "            ARRAY_AGG(STRUCT(event_code, recorded_date, sequence_number, status_code)) AS transactions\n",
    "        FROM `patents-public-data.uspto_oce_pair.transactions` AS a\n",
    "        GROUP BY application_number\n",
    "        \n",
    "    ) AS a\n",
    "    LEFT JOIN t2 USING(application_number)\n",
    "), t5 AS(\n",
    "    SELECT a.*, b.application_number AS appln_nr_orig\n",
    "    FROM(\n",
    "        SELECT \n",
    "            a.patentCaseMetadata.applicationNumberText.value AS application_number,\n",
    "            ARRAY_AGG(name.personFullName) AS examiner_fullName,\n",
    "            ARRAY_AGG(a.patentCaseMetadata.patentGrantIdentification.grantDate) AS grant_date,\n",
    "            ANY_VALUE(a.prosecutionHistoryDataOrPatentTermData) AS actions\n",
    "        FROM \n",
    "            `patents-public-data.uspto_peds.applications` AS a,\t\n",
    "            UNNEST(a.patentCaseMetadata.partyBag.applicantBagOrInventorBagOrOwnerBag) AS bag,\n",
    "            UNNEST(bag.primaryExaminerOrAssistantExaminerOrAuthorizedOfficer) AS PE,\n",
    "            UNNEST(PE.name.personNameOrOrganizationNameOrEntityName) AS name\n",
    "        GROUP BY application_number\n",
    "            \n",
    "    ) AS a\n",
    "    LEFT JOIN `patents-public-data.uspto_peds.match` AS b \n",
    "    ON a.application_number = b.applicationNumberText\n",
    "), t6 AS(\n",
    "    SELECT a.*, b.appln_nr_orig AS appln_nr_orig_2\n",
    "    FROM(\n",
    "        SELECT a.*, b.appln_nr_orig AS appln_nr_orig_1\n",
    "        FROM `usptobias.adding_data.12_exact_twins` AS a\n",
    "        LEFT JOIN `usptobias.adding_data.10_mapping` AS b ON a.appln_id_1=b.appln_id\n",
    "    ) AS a LEFT JOIN  `usptobias.adding_data.10_mapping` AS b ON a.appln_id_2=b.appln_id\n",
    "), t7 AS(\n",
    "    SELECT \n",
    "        t6.*,\n",
    "        t4.transactions AS transactions_US,\n",
    "        t5.examiner_fullName AS examiner_fullName_US,\n",
    "        t5.grant_date AS grant_date_US,\n",
    "        t5.actions AS actiona_US\n",
    "    FROM t6\n",
    "    LEFT JOIN t4 ON t6.appln_nr_orig_1=t4.appln_nr_orig\n",
    "    LEFT JOIN t5 ON t6.appln_nr_orig_1=t5.appln_nr_orig\n",
    ")\n",
    "\n",
    "SELECT \n",
    "    t7.*,\n",
    "    t3.application_type AS application_type_US,\n",
    "    t3.filing_date AS filing_date_US,\n",
    "    t3.customer_number AS customer_number_US,\n",
    "    t3.atty_docket_number AS attorney_number_US,\n",
    "    t3.appl_status_code AS status_code_US,\n",
    "    t3.appl_status_date AS status_date_US,\n",
    "    t3.patent_number AS patent_nr_US,\n",
    "    t3.patent_issue_date AS issue_date_US,\n",
    "    t3.abandon_date AS abandon_date_US,\n",
    "    t3.small_entity_indicator AS small_entity_US,\n",
    "    t3.disposal_type AS disposal_type_US,\n",
    "    STRUCT(examiner_name_last AS last, examiner_name_first AS first, examiner_name_middle AS middle) AS examiner_name_US,\n",
    "    t3.examiner_id AS examiner_id_US,\n",
    "    t3.examiner_art_unit AS examiner_art_unit_US\n",
    "    \n",
    "FROM t7\n",
    "LEFT JOIN t3 ON t7.appln_nr_orig_1=t3.appln_nr_orig\n",
    "\"\"\"\n",
    "\n",
    "# Defining the query\n",
    "query_job = client.query(query, location='US', job_config=job_config)\n",
    "\n",
    "query_job.result()"
   ]
  },
  {
   "cell_type": "code",
   "execution_count": null,
   "metadata": {},
   "outputs": [],
   "source": []
  }
 ],
 "metadata": {
  "kernelspec": {
   "display_name": "Python 3",
   "language": "python",
   "name": "python3"
  },
  "language_info": {
   "codemirror_mode": {
    "name": "ipython",
    "version": 3
   },
   "file_extension": ".py",
   "mimetype": "text/x-python",
   "name": "python",
   "nbconvert_exporter": "python",
   "pygments_lexer": "ipython3",
   "version": "3.7.2"
  }
 },
 "nbformat": 4,
 "nbformat_minor": 2
}
