{
 "cells": [
  {
   "cell_type": "markdown",
   "metadata": {},
   "source": [
    "## Importing Libraries"
   ]
  },
  {
   "cell_type": "code",
   "execution_count": 5,
   "metadata": {},
   "outputs": [],
   "source": [
    "from zipfile import ZipFile\n",
    "import os\n",
    "import re\n",
    "import gzip"
   ]
  },
  {
   "cell_type": "markdown",
   "metadata": {},
   "source": [
    "## finding files with zip extensions in './data/' directory"
   ]
  },
  {
   "cell_type": "code",
   "execution_count": 6,
   "metadata": {},
   "outputs": [],
   "source": [
    "data_folder = \"./data/\""
   ]
  },
  {
   "cell_type": "code",
   "execution_count": 7,
   "metadata": {},
   "outputs": [],
   "source": [
    "# Loading the list of file in './data/' directory\n",
    "pattern = r'(.*)\\.zip'\n",
    "files_n = [[par_n+\"/\",re.match(pattern, file)[1]] for par_n, dir_n, file_n in os.walk(data_folder) \n",
    "           for file in file_n if re.match(pattern, file)!=None]"
   ]
  },
  {
   "cell_type": "code",
   "execution_count": 9,
   "metadata": {},
   "outputs": [],
   "source": [
    "# Changing the compression to gzip\n",
    "for path, file in files_n:\n",
    "    # Extracting the zip file\n",
    "    with ZipFile(path+file+'.zip', 'r') as zipf:\n",
    "        zipf.extractall(path)\n",
    "    # Compressing the extracted text file using gzip compression\n",
    "    with open(path+file+'.txt', 'rb') as f_in, gzip.open(path+file+'.txt.gz', 'wb') as f_out:\n",
    "        f_out.writelines(f_in)\n",
    "    # Removing the extracted text file\n",
    "    os.remove(path+file+'.txt')"
   ]
  },
  {
   "cell_type": "markdown",
   "metadata": {},
   "source": [
    "## Uploading gzipped files"
   ]
  },
  {
   "cell_type": "code",
   "execution_count": null,
   "metadata": {},
   "outputs": [],
   "source": [
    "# For uploading the gzipped files, run the following in command line \n",
    "# (assuming all the gzip files are directly inside ./data/ directory on your local machine)\n",
    "gsutil -m cp -r /data/*.gz gs://my-bucket/directory"
   ]
  }
 ],
 "metadata": {
  "kernelspec": {
   "display_name": "Python 3",
   "language": "python",
   "name": "python3"
  },
  "language_info": {
   "codemirror_mode": {
    "name": "ipython",
    "version": 3
   },
   "file_extension": ".py",
   "mimetype": "text/x-python",
   "name": "python",
   "nbconvert_exporter": "python",
   "pygments_lexer": "ipython3",
   "version": "3.7.2"
  }
 },
 "nbformat": 4,
 "nbformat_minor": 2
}
