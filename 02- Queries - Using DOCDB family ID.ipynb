{
 "cells": [
  {
   "cell_type": "code",
   "execution_count": 1,
   "metadata": {},
   "outputs": [],
   "source": [
    "import pandas as pd\n",
    "from google.cloud import bigquery"
   ]
  },
  {
   "cell_type": "markdown",
   "metadata": {},
   "source": [
    "# 1. Copying USPatents table"
   ]
  },
  {
   "cell_type": "code",
   "execution_count": null,
   "metadata": {},
   "outputs": [],
   "source": [
    "# from google.cloud import bigquery\n",
    "client = bigquery.Client()\n",
    "# Defining source_table\n",
    "source_dataset = client.dataset('results', project='usptobias')\n",
    "source_table_ref = source_dataset.table('USPatents')\n",
    "# Defining target table\n",
    "target_dataset = client.dataset('results_docdb', project='usptobias')\n",
    "dest_table_ref = target_dataset.table('USPatents')\n",
    "# Initializing the Job\n",
    "job = client.copy_table(\n",
    "    source_table_ref,\n",
    "    dest_table_ref,\n",
    "    # Location must match that of the source and destination tables.\n",
    "    location='US')  # API request\n",
    "\n",
    "# Running the job\n",
    "job.result()  # Waits for job to complete."
   ]
  },
  {
   "cell_type": "markdown",
   "metadata": {},
   "source": [
    "## 1.2. Deleting the table"
   ]
  },
  {
   "cell_type": "code",
   "execution_count": 87,
   "metadata": {},
   "outputs": [
    {
     "name": "stdout",
     "output_type": "stream",
     "text": [
      "Table results_docdb:USPatents deleted.\n"
     ]
    }
   ],
   "source": [
    "# from google.cloud import bigquery\n",
    "# client = bigquery.Client()\n",
    "dataset_id = 'results_docdb'\n",
    "table_id = 'USPatents'\n",
    "\n",
    "table_ref = client.dataset(dataset_id).table(table_id)\n",
    "#client.delete_table(table_ref)  # API request\n",
    "\n",
    "print(\"Table {}:{} deleted.\".format(dataset_id, table_id))"
   ]
  },
  {
   "cell_type": "markdown",
   "metadata": {},
   "source": [
    "# 2. USOnDocdb: USPatents Join on Docdb with tls201"
   ]
  },
  {
   "cell_type": "code",
   "execution_count": 136,
   "metadata": {},
   "outputs": [],
   "source": [
    "client = bigquery.Client()"
   ]
  },
  {
   "cell_type": "markdown",
   "metadata": {},
   "source": [
    "## 2.1. First Query: Generating merged table"
   ]
  },
  {
   "cell_type": "code",
   "execution_count": 137,
   "metadata": {},
   "outputs": [],
   "source": [
    "# Creating Job Config\n",
    "job_config = bigquery.QueryJobConfig()\n",
    "#job_config.dry_run = True\n",
    "job_config.use_query_cache = False\n",
    "# Set configuration.query.writeDisposition\n",
    "job_config.write_disposition = 'WRITE_TRUNCATE'\n",
    "\n",
    "# Set the destination table\n",
    "dataset_id = 'results_docdb'\n",
    "table_id = 'USOnDocdb'\n",
    "table_ref = client.dataset(dataset_id).table(table_id)\n",
    "job_config.destination = table_ref"
   ]
  },
  {
   "cell_type": "code",
   "execution_count": 138,
   "metadata": {},
   "outputs": [],
   "source": [
    "sql = \"\"\"\n",
    "    SELECT DISTINCT\n",
    "            t1.appln_id AS appln_id_1,\n",
    "            t1.appln_nr AS appln_nr_1,\n",
    "            t1.appln_auth AS appln_auth_1,\n",
    "            t1.appln_filing_year AS appln_filing_year_1,\n",
    "            t1.appln_kind AS appln_kind_1,\n",
    "            t2.appln_id AS appln_id_2,\n",
    "            t2.appln_nr AS appln_nr_2,\n",
    "            t2.appln_auth AS appln_auth_2,\n",
    "            t2.appln_filing_year AS appln_filing_year_2,\n",
    "            t2.appln_kind AS appln_kind_2,\n",
    "            t1.docdb_family_id AS docdb_family_id\n",
    "    FROM\n",
    "            `usptobias.results_docdb.USPatents` AS t1\n",
    "        LEFT JOIN\n",
    "            `usptobias.patstat.tls201` AS t2\n",
    "        ON\n",
    "            t1.docdb_family_id=t2.docdb_family_id\n",
    "    WHERE\n",
    "            t1.appln_id<>t2.appln_id\n",
    "     \"\"\"\n",
    "# Defining the query\n",
    "query_job = client.query(\n",
    "    sql,\n",
    "    # Location must match that of the dataset(s) referenced in the query.\n",
    "    location='US',\n",
    "    job_config=job_config)\n",
    "\n",
    "#            AND t2.appln_kind = 'A '\n",
    "#            AND t2.appln_filing_year BETWEEN 2001 AND 2018"
   ]
  },
  {
   "cell_type": "code",
   "execution_count": 139,
   "metadata": {},
   "outputs": [
    {
     "data": {
      "text/plain": [
       "<google.cloud.bigquery.table.RowIterator at 0x7fcb3e3d60f0>"
      ]
     },
     "execution_count": 139,
     "metadata": {},
     "output_type": "execute_result"
    }
   ],
   "source": [
    "query_job.result()"
   ]
  },
  {
   "cell_type": "markdown",
   "metadata": {},
   "source": [
    "## 2.2. Getting Information of USOnInpadoc table"
   ]
  },
  {
   "cell_type": "code",
   "execution_count": 140,
   "metadata": {},
   "outputs": [
    {
     "name": "stdout",
     "output_type": "stream",
     "text": [
      "[SchemaField('appln_id_1', 'INTEGER', 'NULLABLE', None, ()), SchemaField('appln_nr_1', 'STRING', 'NULLABLE', None, ()), SchemaField('appln_auth_1', 'STRING', 'NULLABLE', None, ()), SchemaField('appln_filing_year_1', 'INTEGER', 'NULLABLE', None, ()), SchemaField('appln_kind_1', 'STRING', 'NULLABLE', None, ()), SchemaField('appln_id_2', 'INTEGER', 'NULLABLE', None, ()), SchemaField('appln_nr_2', 'STRING', 'NULLABLE', None, ()), SchemaField('appln_auth_2', 'STRING', 'NULLABLE', None, ()), SchemaField('appln_filing_year_2', 'INTEGER', 'NULLABLE', None, ()), SchemaField('appln_kind_2', 'STRING', 'NULLABLE', None, ()), SchemaField('docdb_family_id', 'INTEGER', 'NULLABLE', None, ())]\n",
      "None\n",
      "\n",
      "There are 22,220,606 number of records in total!\n"
     ]
    }
   ],
   "source": [
    "# from google.cloud import bigquery\n",
    "# client = bigquery.Client()\n",
    "dataset_id = 'results_docdb'\n",
    "table_id = 'USOnDocdb'\n",
    "\n",
    "dataset_ref = client.dataset(dataset_id)\n",
    "table_ref = dataset_ref.table(table_id)\n",
    "table = client.get_table(table_ref)  # API Request\n",
    "\n",
    "# View table properties\n",
    "print(table.schema)\n",
    "print(table.description)\n",
    "print(\"\\nThere are {:,} number of records in total!\".format(table.num_rows))"
   ]
  },
  {
   "cell_type": "code",
   "execution_count": 111,
   "metadata": {},
   "outputs": [
    {
     "name": "stdout",
     "output_type": "stream",
     "text": [
      "[SchemaField('appln_id_1', 'INTEGER', 'NULLABLE', None, ()), SchemaField('appln_nr_1', 'STRING', 'NULLABLE', None, ()), SchemaField('appln_auth_1', 'STRING', 'NULLABLE', None, ()), SchemaField('appln_filing_year_1', 'INTEGER', 'NULLABLE', None, ()), SchemaField('appln_kind_1', 'STRING', 'NULLABLE', None, ()), SchemaField('appln_id_2', 'INTEGER', 'NULLABLE', None, ()), SchemaField('appln_nr_2', 'STRING', 'NULLABLE', None, ()), SchemaField('appln_auth_2', 'STRING', 'NULLABLE', None, ()), SchemaField('appln_filing_year_2', 'INTEGER', 'NULLABLE', None, ()), SchemaField('appln_kind_2', 'STRING', 'NULLABLE', None, ()), SchemaField('docdb_family_id', 'INTEGER', 'NULLABLE', None, ())]\n",
      "None\n",
      "\n",
      "There are 20,910,144 number of records in total!\n"
     ]
    }
   ],
   "source": [
    "# from google.cloud import bigquery\n",
    "# client = bigquery.Client()\n",
    "dataset_id = 'results_docdb'\n",
    "table_id = 'USOnDocdb'\n",
    "\n",
    "dataset_ref = client.dataset(dataset_id)\n",
    "table_ref = dataset_ref.table(table_id)\n",
    "table = client.get_table(table_ref)  # API Request\n",
    "\n",
    "# View table properties\n",
    "print(table.schema)\n",
    "print(table.description)\n",
    "print(\"\\nThere are {:,} number of records in total!\".format(table.num_rows))"
   ]
  },
  {
   "cell_type": "markdown",
   "metadata": {},
   "source": [
    "## 2.3. Second Query: Counting Number of Pairs"
   ]
  },
  {
   "cell_type": "code",
   "execution_count": 141,
   "metadata": {},
   "outputs": [],
   "source": [
    "# Creating Job Config\n",
    "job_config = bigquery.QueryJobConfig()\n",
    "#job_config.dry_run = True\n",
    "job_config.use_query_cache = False\n",
    "# Set configuration.query.createDisposition\n",
    "job_config.create_disposition = 'CREATE_IF_NEEDED'\n",
    "# Set configuration.query.writeDisposition\n",
    "job_config.write_disposition = 'WRITE_TRUNCATE'\n",
    "\n",
    "# Set the destination table\n",
    "dataset_id = 'results_docdb'\n",
    "table_id = 'USOnDocdb2'\n",
    "table_ref = client.dataset(dataset_id).table(table_id)\n",
    "job_config.destination = table_ref"
   ]
  },
  {
   "cell_type": "code",
   "execution_count": 142,
   "metadata": {},
   "outputs": [],
   "source": [
    "# Number of pairs\n",
    "sql = \"\"\"\n",
    "    SELECT\n",
    "            t1.*,\n",
    "            t2.docdb_nb_pairs\n",
    "    FROM\n",
    "            `usptobias.results_docdb.USOnDocdb` AS t1\n",
    "        LEFT JOIN\n",
    "            (\n",
    "            SELECT\n",
    "                    docdb_family_id,\n",
    "                    appln_auth_2,\n",
    "                    COUNT(*) AS docdb_nb_pairs\n",
    "            FROM\n",
    "                    `usptobias.results_docdb.USOnDocdb`\n",
    "            GROUP BY\n",
    "                    docdb_family_id, appln_auth_2\n",
    "            ) AS t2\n",
    "        ON\n",
    "            (t1.docdb_family_id = t2.docdb_family_id) AND (t1.appln_auth_2 = t2.appln_auth_2)\n",
    "     \"\"\"\n",
    "# Defining the query\n",
    "query_job = client.query(\n",
    "    sql,\n",
    "    # Location must match that of the dataset(s) referenced in the query.\n",
    "    location='US',\n",
    "    job_config=job_config)"
   ]
  },
  {
   "cell_type": "code",
   "execution_count": 143,
   "metadata": {},
   "outputs": [
    {
     "data": {
      "text/plain": [
       "<google.cloud.bigquery.table.RowIterator at 0x7fcb3e338860>"
      ]
     },
     "execution_count": 143,
     "metadata": {},
     "output_type": "execute_result"
    }
   ],
   "source": [
    "query_job.result()"
   ]
  },
  {
   "cell_type": "markdown",
   "metadata": {},
   "source": [
    "## 2.4. Getting the information of \"USOnInpadoc2\" table"
   ]
  },
  {
   "cell_type": "code",
   "execution_count": 144,
   "metadata": {},
   "outputs": [
    {
     "name": "stdout",
     "output_type": "stream",
     "text": [
      "[SchemaField('appln_id_1', 'INTEGER', 'NULLABLE', None, ()), SchemaField('appln_nr_1', 'STRING', 'NULLABLE', None, ()), SchemaField('appln_auth_1', 'STRING', 'NULLABLE', None, ()), SchemaField('appln_filing_year_1', 'INTEGER', 'NULLABLE', None, ()), SchemaField('appln_kind_1', 'STRING', 'NULLABLE', None, ()), SchemaField('appln_id_2', 'INTEGER', 'NULLABLE', None, ()), SchemaField('appln_nr_2', 'STRING', 'NULLABLE', None, ()), SchemaField('appln_auth_2', 'STRING', 'NULLABLE', None, ()), SchemaField('appln_filing_year_2', 'INTEGER', 'NULLABLE', None, ()), SchemaField('appln_kind_2', 'STRING', 'NULLABLE', None, ()), SchemaField('docdb_family_id', 'INTEGER', 'NULLABLE', None, ()), SchemaField('docdb_nb_pairs', 'INTEGER', 'NULLABLE', None, ())]\n",
      "None\n",
      "\n",
      "There are 22,220,606 number of records in total!\n"
     ]
    }
   ],
   "source": [
    "# from google.cloud import bigquery\n",
    "# client = bigquery.Client()\n",
    "dataset_id = 'results_docdb'\n",
    "table_id = 'USOnDocdb2'\n",
    "\n",
    "dataset_ref = client.dataset(dataset_id)\n",
    "table_ref = dataset_ref.table(table_id)\n",
    "table = client.get_table(table_ref)  # API Request\n",
    "\n",
    "# View table properties\n",
    "print(table.schema)\n",
    "print(table.description)\n",
    "print(\"\\nThere are {:,} number of records in total!\".format(table.num_rows))"
   ]
  },
  {
   "cell_type": "code",
   "execution_count": 115,
   "metadata": {},
   "outputs": [
    {
     "name": "stdout",
     "output_type": "stream",
     "text": [
      "[SchemaField('appln_id_1', 'INTEGER', 'NULLABLE', None, ()), SchemaField('appln_nr_1', 'STRING', 'NULLABLE', None, ()), SchemaField('appln_auth_1', 'STRING', 'NULLABLE', None, ()), SchemaField('appln_filing_year_1', 'INTEGER', 'NULLABLE', None, ()), SchemaField('appln_kind_1', 'STRING', 'NULLABLE', None, ()), SchemaField('appln_id_2', 'INTEGER', 'NULLABLE', None, ()), SchemaField('appln_nr_2', 'STRING', 'NULLABLE', None, ()), SchemaField('appln_auth_2', 'STRING', 'NULLABLE', None, ()), SchemaField('appln_filing_year_2', 'INTEGER', 'NULLABLE', None, ()), SchemaField('appln_kind_2', 'STRING', 'NULLABLE', None, ()), SchemaField('docdb_family_id', 'INTEGER', 'NULLABLE', None, ()), SchemaField('docdb_nb_pairs', 'INTEGER', 'NULLABLE', None, ())]\n",
      "None\n",
      "\n",
      "There are 20,910,144 number of records in total!\n"
     ]
    }
   ],
   "source": [
    "# from google.cloud import bigquery\n",
    "# client = bigquery.Client()\n",
    "dataset_id = 'results_docdb'\n",
    "table_id = 'USOnDocdb2'\n",
    "\n",
    "dataset_ref = client.dataset(dataset_id)\n",
    "table_ref = dataset_ref.table(table_id)\n",
    "table = client.get_table(table_ref)  # API Request\n",
    "\n",
    "# View table properties\n",
    "print(table.schema)\n",
    "print(table.description)\n",
    "print(\"\\nThere are {:,} number of records in total!\".format(table.num_rows))"
   ]
  },
  {
   "cell_type": "markdown",
   "metadata": {},
   "source": [
    "## 2.5. Loading 100 rows from the table"
   ]
  },
  {
   "cell_type": "code",
   "execution_count": 145,
   "metadata": {},
   "outputs": [],
   "source": [
    "# from google.cloud import bigquery\n",
    "# client = bigquery.Client()\n",
    "dataset_id = 'results_docdb'\n",
    "table_id = 'USOnDocdb2'\n",
    "\n",
    "dataset_ref = client.dataset(dataset_id, project=\"usptobias\")\n",
    "table_ref = dataset_ref.table(table_id)\n",
    "table = client.get_table(table_ref)  # API call"
   ]
  },
  {
   "cell_type": "code",
   "execution_count": 146,
   "metadata": {},
   "outputs": [],
   "source": [
    "## Getting the first 100 lines of codes\n",
    "# Load the first 10 rows\n",
    "rows = client.list_rows(table, max_results=10000)\n",
    "\n",
    "#pd.DataFrame(rows)\n",
    "df = rows.to_dataframe()"
   ]
  },
  {
   "cell_type": "code",
   "execution_count": 147,
   "metadata": {},
   "outputs": [
    {
     "data": {
      "text/html": [
       "<div>\n",
       "<style scoped>\n",
       "    .dataframe tbody tr th:only-of-type {\n",
       "        vertical-align: middle;\n",
       "    }\n",
       "\n",
       "    .dataframe tbody tr th {\n",
       "        vertical-align: top;\n",
       "    }\n",
       "\n",
       "    .dataframe thead th {\n",
       "        text-align: right;\n",
       "    }\n",
       "</style>\n",
       "<table border=\"1\" class=\"dataframe\">\n",
       "  <thead>\n",
       "    <tr style=\"text-align: right;\">\n",
       "      <th></th>\n",
       "      <th>appln_id_1</th>\n",
       "      <th>appln_nr_1</th>\n",
       "      <th>appln_auth_1</th>\n",
       "      <th>appln_filing_year_1</th>\n",
       "      <th>appln_kind_1</th>\n",
       "      <th>appln_id_2</th>\n",
       "      <th>appln_nr_2</th>\n",
       "      <th>appln_auth_2</th>\n",
       "      <th>appln_filing_year_2</th>\n",
       "      <th>appln_kind_2</th>\n",
       "      <th>docdb_family_id</th>\n",
       "      <th>docdb_nb_pairs</th>\n",
       "    </tr>\n",
       "  </thead>\n",
       "  <tbody>\n",
       "    <tr>\n",
       "      <th>0</th>\n",
       "      <td>497186644</td>\n",
       "      <td>201815918347</td>\n",
       "      <td>US</td>\n",
       "      <td>2018</td>\n",
       "      <td>A</td>\n",
       "      <td>487001619</td>\n",
       "      <td>201131320</td>\n",
       "      <td>SI</td>\n",
       "      <td>2011</td>\n",
       "      <td>T</td>\n",
       "      <td>44258572</td>\n",
       "      <td>36</td>\n",
       "    </tr>\n",
       "    <tr>\n",
       "      <th>1</th>\n",
       "      <td>496643051</td>\n",
       "      <td>201815876086</td>\n",
       "      <td>US</td>\n",
       "      <td>2018</td>\n",
       "      <td>A</td>\n",
       "      <td>424503433</td>\n",
       "      <td>07001091</td>\n",
       "      <td>PT</td>\n",
       "      <td>2001</td>\n",
       "      <td>T</td>\n",
       "      <td>22818451</td>\n",
       "      <td>27</td>\n",
       "    </tr>\n",
       "    <tr>\n",
       "      <th>2</th>\n",
       "      <td>496644399</td>\n",
       "      <td>201815900153</td>\n",
       "      <td>US</td>\n",
       "      <td>2018</td>\n",
       "      <td>A</td>\n",
       "      <td>489171062</td>\n",
       "      <td>201790834</td>\n",
       "      <td>EA</td>\n",
       "      <td>2015</td>\n",
       "      <td>A</td>\n",
       "      <td>54347916</td>\n",
       "      <td>2</td>\n",
       "    </tr>\n",
       "    <tr>\n",
       "      <th>3</th>\n",
       "      <td>494656533</td>\n",
       "      <td>201815864508</td>\n",
       "      <td>US</td>\n",
       "      <td>2018</td>\n",
       "      <td>A</td>\n",
       "      <td>457673554</td>\n",
       "      <td>201600145</td>\n",
       "      <td>EA</td>\n",
       "      <td>2014</td>\n",
       "      <td>A</td>\n",
       "      <td>49167101</td>\n",
       "      <td>2</td>\n",
       "    </tr>\n",
       "    <tr>\n",
       "      <th>4</th>\n",
       "      <td>496656318</td>\n",
       "      <td>201815903284</td>\n",
       "      <td>US</td>\n",
       "      <td>2018</td>\n",
       "      <td>A</td>\n",
       "      <td>478488108</td>\n",
       "      <td>20175122</td>\n",
       "      <td>FI</td>\n",
       "      <td>2017</td>\n",
       "      <td>A</td>\n",
       "      <td>48672303</td>\n",
       "      <td>28</td>\n",
       "    </tr>\n",
       "    <tr>\n",
       "      <th>5</th>\n",
       "      <td>494035325</td>\n",
       "      <td>201815867425</td>\n",
       "      <td>US</td>\n",
       "      <td>2018</td>\n",
       "      <td>A</td>\n",
       "      <td>329259103</td>\n",
       "      <td>0006202007</td>\n",
       "      <td>PE</td>\n",
       "      <td>2007</td>\n",
       "      <td>A</td>\n",
       "      <td>36687588</td>\n",
       "      <td>5</td>\n",
       "    </tr>\n",
       "    <tr>\n",
       "      <th>6</th>\n",
       "      <td>496659776</td>\n",
       "      <td>201815907643</td>\n",
       "      <td>US</td>\n",
       "      <td>2018</td>\n",
       "      <td>A</td>\n",
       "      <td>404884016</td>\n",
       "      <td>03741520</td>\n",
       "      <td>PT</td>\n",
       "      <td>2003</td>\n",
       "      <td>T</td>\n",
       "      <td>31721895</td>\n",
       "      <td>60</td>\n",
       "    </tr>\n",
       "  </tbody>\n",
       "</table>\n",
       "</div>"
      ],
      "text/plain": [
       "   appln_id_1    appln_nr_1 appln_auth_1  appln_filing_year_1 appln_kind_1  \\\n",
       "0   497186644  201815918347           US                 2018           A    \n",
       "1   496643051  201815876086           US                 2018           A    \n",
       "2   496644399  201815900153           US                 2018           A    \n",
       "3   494656533  201815864508           US                 2018           A    \n",
       "4   496656318  201815903284           US                 2018           A    \n",
       "5   494035325  201815867425           US                 2018           A    \n",
       "6   496659776  201815907643           US                 2018           A    \n",
       "\n",
       "   appln_id_2  appln_nr_2 appln_auth_2  appln_filing_year_2 appln_kind_2  \\\n",
       "0   487001619   201131320           SI                 2011           T    \n",
       "1   424503433    07001091           PT                 2001           T    \n",
       "2   489171062   201790834           EA                 2015           A    \n",
       "3   457673554   201600145           EA                 2014           A    \n",
       "4   478488108    20175122           FI                 2017           A    \n",
       "5   329259103  0006202007           PE                 2007           A    \n",
       "6   404884016    03741520           PT                 2003           T    \n",
       "\n",
       "   docdb_family_id  docdb_nb_pairs  \n",
       "0         44258572              36  \n",
       "1         22818451              27  \n",
       "2         54347916               2  \n",
       "3         49167101               2  \n",
       "4         48672303              28  \n",
       "5         36687588               5  \n",
       "6         31721895              60  "
      ]
     },
     "execution_count": 147,
     "metadata": {},
     "output_type": "execute_result"
    }
   ],
   "source": [
    "df.head(7)"
   ]
  },
  {
   "cell_type": "markdown",
   "metadata": {},
   "source": [
    "# 2.6. Deleting the table"
   ]
  },
  {
   "cell_type": "code",
   "execution_count": 48,
   "metadata": {},
   "outputs": [
    {
     "name": "stdout",
     "output_type": "stream",
     "text": [
      "Table results_docdb:USOnDocdb2 deleted.\n"
     ]
    }
   ],
   "source": [
    "# from google.cloud import bigquery\n",
    "# client = bigquery.Client()\n",
    "dataset_id = 'results_docdb'\n",
    "table_id = 'USOnDocdb2'\n",
    "\n",
    "table_ref = client.dataset(dataset_id).table(table_id)\n",
    "#client.delete_table(table_ref)  # API request\n",
    "\n",
    "print(\"Table {}:{} deleted.\".format(dataset_id, table_id))"
   ]
  },
  {
   "cell_type": "markdown",
   "metadata": {},
   "source": [
    "# 3. Exctrating exact_twins"
   ]
  },
  {
   "cell_type": "code",
   "execution_count": 148,
   "metadata": {},
   "outputs": [],
   "source": [
    "client = bigquery.Client()"
   ]
  },
  {
   "cell_type": "markdown",
   "metadata": {},
   "source": [
    "## 3.1. Query to generate the table"
   ]
  },
  {
   "cell_type": "code",
   "execution_count": 151,
   "metadata": {},
   "outputs": [],
   "source": [
    "job_config = bigquery.QueryJobConfig()\n",
    "job_config.user_query_cache = False\n",
    "# Set configuration.query.writeDisposition\n",
    "job_config.write_disposition = 'WRITE_TRUNCATE'\n",
    "\n",
    "# Set destination table\n",
    "dataset_id = 'results_docdb'\n",
    "table_id = 'USExactTwins'\n",
    "table_ref = client.dataset(dataset_id).table(table_id)\n",
    "job_config.destination = table_ref"
   ]
  },
  {
   "cell_type": "code",
   "execution_count": 152,
   "metadata": {},
   "outputs": [],
   "source": [
    "sql= \"\"\"\n",
    "    SELECT *\n",
    "    FROM (\n",
    "        SELECT\n",
    "                *,\n",
    "                (\n",
    "                CASE \n",
    "                        WHEN docdb_nb_pairs=1 THEN 1\n",
    "                        ELSE 0\n",
    "                END\n",
    "                ) AS exact_twins\n",
    "        FROM\n",
    "                `usptobias.results_docdb.USOnDocdb2`\n",
    "         )\n",
    "    WHERE\n",
    "            appln_auth_2<>'US'\n",
    "    \"\"\"\n",
    "\n",
    "# Defining the query job\n",
    "query_job = client.query(sql, location='US', job_config=job_config)"
   ]
  },
  {
   "cell_type": "code",
   "execution_count": 153,
   "metadata": {},
   "outputs": [
    {
     "data": {
      "text/plain": [
       "<google.cloud.bigquery.table.RowIterator at 0x7fcb3e2a8780>"
      ]
     },
     "execution_count": 153,
     "metadata": {},
     "output_type": "execute_result"
    }
   ],
   "source": [
    "query_job.result()"
   ]
  },
  {
   "cell_type": "markdown",
   "metadata": {},
   "source": [
    "## 3.2. Getting the table information"
   ]
  },
  {
   "cell_type": "code",
   "execution_count": 154,
   "metadata": {},
   "outputs": [
    {
     "name": "stdout",
     "output_type": "stream",
     "text": [
      "[SchemaField('appln_id_1', 'INTEGER', 'NULLABLE', None, ()), SchemaField('appln_nr_1', 'STRING', 'NULLABLE', None, ()), SchemaField('appln_auth_1', 'STRING', 'NULLABLE', None, ()), SchemaField('appln_filing_year_1', 'INTEGER', 'NULLABLE', None, ()), SchemaField('appln_kind_1', 'STRING', 'NULLABLE', None, ()), SchemaField('appln_id_2', 'INTEGER', 'NULLABLE', None, ()), SchemaField('appln_nr_2', 'STRING', 'NULLABLE', None, ()), SchemaField('appln_auth_2', 'STRING', 'NULLABLE', None, ()), SchemaField('appln_filing_year_2', 'INTEGER', 'NULLABLE', None, ()), SchemaField('appln_kind_2', 'STRING', 'NULLABLE', None, ()), SchemaField('docdb_family_id', 'INTEGER', 'NULLABLE', None, ()), SchemaField('docdb_nb_pairs', 'INTEGER', 'NULLABLE', None, ()), SchemaField('exact_twins', 'INTEGER', 'NULLABLE', None, ())]\n",
      "None\n",
      "\n",
      "There are 17,047,494 number of records in total!\n"
     ]
    }
   ],
   "source": [
    "dataset_id = 'results_docdb'\n",
    "table_id = 'USExactTwins'\n",
    "# Getting the table's information\n",
    "table_ref = client.dataset(dataset_id).table(table_id)\n",
    "table = client.get_table(table_ref)\n",
    "\n",
    "# Print tables information\n",
    "print(table.schema)\n",
    "print(table.description)\n",
    "print(\"\\nThere are {:,} number of records in total!\".format(table.num_rows))"
   ]
  },
  {
   "cell_type": "markdown",
   "metadata": {},
   "source": [
    "## 3.3. Loading the first 1000 rows of the table"
   ]
  },
  {
   "cell_type": "code",
   "execution_count": 155,
   "metadata": {},
   "outputs": [],
   "source": [
    "dataset_id = 'results_docdb'\n",
    "table_id = 'USExactTwins'\n",
    "# Getting the table object\n",
    "table_ref = client.dataset(dataset_id).table(table_id)\n",
    "table = client.get_table(table_ref)\n",
    "\n",
    "# Load the first 10000 rows into RowIterator object\n",
    "rows = client.list_rows(table, max_results=10000)\n",
    "\n",
    "# Loading the RowIterator object into Pandas dataframe\n",
    "df = rows.to_dataframe()"
   ]
  },
  {
   "cell_type": "code",
   "execution_count": 156,
   "metadata": {},
   "outputs": [
    {
     "data": {
      "text/html": [
       "<div>\n",
       "<style scoped>\n",
       "    .dataframe tbody tr th:only-of-type {\n",
       "        vertical-align: middle;\n",
       "    }\n",
       "\n",
       "    .dataframe tbody tr th {\n",
       "        vertical-align: top;\n",
       "    }\n",
       "\n",
       "    .dataframe thead th {\n",
       "        text-align: right;\n",
       "    }\n",
       "</style>\n",
       "<table border=\"1\" class=\"dataframe\">\n",
       "  <thead>\n",
       "    <tr style=\"text-align: right;\">\n",
       "      <th></th>\n",
       "      <th>appln_id_1</th>\n",
       "      <th>appln_nr_1</th>\n",
       "      <th>appln_auth_1</th>\n",
       "      <th>appln_filing_year_1</th>\n",
       "      <th>appln_kind_1</th>\n",
       "      <th>appln_id_2</th>\n",
       "      <th>appln_nr_2</th>\n",
       "      <th>appln_auth_2</th>\n",
       "      <th>appln_filing_year_2</th>\n",
       "      <th>appln_kind_2</th>\n",
       "      <th>docdb_family_id</th>\n",
       "      <th>docdb_nb_pairs</th>\n",
       "      <th>exact_twins</th>\n",
       "    </tr>\n",
       "  </thead>\n",
       "  <tbody>\n",
       "    <tr>\n",
       "      <th>0</th>\n",
       "      <td>50977805</td>\n",
       "      <td>44980706</td>\n",
       "      <td>US</td>\n",
       "      <td>2006</td>\n",
       "      <td>A</td>\n",
       "      <td>57634876</td>\n",
       "      <td>200600547</td>\n",
       "      <td>RO</td>\n",
       "      <td>1997</td>\n",
       "      <td>A</td>\n",
       "      <td>25663046</td>\n",
       "      <td>196</td>\n",
       "      <td>0</td>\n",
       "    </tr>\n",
       "    <tr>\n",
       "      <th>1</th>\n",
       "      <td>468635376</td>\n",
       "      <td>201615150046</td>\n",
       "      <td>US</td>\n",
       "      <td>2016</td>\n",
       "      <td>A</td>\n",
       "      <td>496007363</td>\n",
       "      <td>P20180689</td>\n",
       "      <td>HR</td>\n",
       "      <td>2018</td>\n",
       "      <td>T</td>\n",
       "      <td>43033144</td>\n",
       "      <td>15</td>\n",
       "      <td>0</td>\n",
       "    </tr>\n",
       "    <tr>\n",
       "      <th>2</th>\n",
       "      <td>49292888</td>\n",
       "      <td>28426005</td>\n",
       "      <td>US</td>\n",
       "      <td>2005</td>\n",
       "      <td>A</td>\n",
       "      <td>42016930</td>\n",
       "      <td>913271</td>\n",
       "      <td>NO</td>\n",
       "      <td>1991</td>\n",
       "      <td>A</td>\n",
       "      <td>10668300</td>\n",
       "      <td>45</td>\n",
       "      <td>0</td>\n",
       "    </tr>\n",
       "    <tr>\n",
       "      <th>3</th>\n",
       "      <td>54165473</td>\n",
       "      <td>92347404</td>\n",
       "      <td>US</td>\n",
       "      <td>2004</td>\n",
       "      <td>A</td>\n",
       "      <td>328365175</td>\n",
       "      <td>38450498</td>\n",
       "      <td>PL</td>\n",
       "      <td>1998</td>\n",
       "      <td>A</td>\n",
       "      <td>26748211</td>\n",
       "      <td>78</td>\n",
       "      <td>0</td>\n",
       "    </tr>\n",
       "    <tr>\n",
       "      <th>4</th>\n",
       "      <td>46815206</td>\n",
       "      <td>7335702</td>\n",
       "      <td>US</td>\n",
       "      <td>2002</td>\n",
       "      <td>A</td>\n",
       "      <td>471125</td>\n",
       "      <td>200302729</td>\n",
       "      <td>AP</td>\n",
       "      <td>1998</td>\n",
       "      <td>A</td>\n",
       "      <td>25586362</td>\n",
       "      <td>15</td>\n",
       "      <td>0</td>\n",
       "    </tr>\n",
       "    <tr>\n",
       "      <th>5</th>\n",
       "      <td>48324768</td>\n",
       "      <td>16650602</td>\n",
       "      <td>US</td>\n",
       "      <td>2002</td>\n",
       "      <td>A</td>\n",
       "      <td>42454541</td>\n",
       "      <td>34595599</td>\n",
       "      <td>PL</td>\n",
       "      <td>1999</td>\n",
       "      <td>A</td>\n",
       "      <td>22256669</td>\n",
       "      <td>11</td>\n",
       "      <td>0</td>\n",
       "    </tr>\n",
       "    <tr>\n",
       "      <th>6</th>\n",
       "      <td>48441609</td>\n",
       "      <td>18060802</td>\n",
       "      <td>US</td>\n",
       "      <td>2002</td>\n",
       "      <td>A</td>\n",
       "      <td>378795381</td>\n",
       "      <td>00022012</td>\n",
       "      <td>SK</td>\n",
       "      <td>1999</td>\n",
       "      <td>A</td>\n",
       "      <td>26046070</td>\n",
       "      <td>20</td>\n",
       "      <td>0</td>\n",
       "    </tr>\n",
       "  </tbody>\n",
       "</table>\n",
       "</div>"
      ],
      "text/plain": [
       "   appln_id_1    appln_nr_1 appln_auth_1  appln_filing_year_1 appln_kind_1  \\\n",
       "0    50977805      44980706           US                 2006           A    \n",
       "1   468635376  201615150046           US                 2016           A    \n",
       "2    49292888      28426005           US                 2005           A    \n",
       "3    54165473      92347404           US                 2004           A    \n",
       "4    46815206       7335702           US                 2002           A    \n",
       "5    48324768      16650602           US                 2002           A    \n",
       "6    48441609      18060802           US                 2002           A    \n",
       "\n",
       "   appln_id_2 appln_nr_2 appln_auth_2  appln_filing_year_2 appln_kind_2  \\\n",
       "0    57634876  200600547           RO                 1997           A    \n",
       "1   496007363  P20180689           HR                 2018           T    \n",
       "2    42016930     913271           NO                 1991           A    \n",
       "3   328365175   38450498           PL                 1998           A    \n",
       "4      471125  200302729           AP                 1998           A    \n",
       "5    42454541   34595599           PL                 1999           A    \n",
       "6   378795381   00022012           SK                 1999           A    \n",
       "\n",
       "   docdb_family_id  docdb_nb_pairs  exact_twins  \n",
       "0         25663046             196            0  \n",
       "1         43033144              15            0  \n",
       "2         10668300              45            0  \n",
       "3         26748211              78            0  \n",
       "4         25586362              15            0  \n",
       "5         22256669              11            0  \n",
       "6         26046070              20            0  "
      ]
     },
     "execution_count": 156,
     "metadata": {},
     "output_type": "execute_result"
    }
   ],
   "source": [
    "df.head(7)"
   ]
  },
  {
   "cell_type": "markdown",
   "metadata": {},
   "source": [
    "# 3.4. Deleting the table"
   ]
  },
  {
   "cell_type": "code",
   "execution_count": 56,
   "metadata": {},
   "outputs": [
    {
     "name": "stdout",
     "output_type": "stream",
     "text": [
      "Table results_docdb:USExactTwins deleted.\n"
     ]
    }
   ],
   "source": [
    "# from google.cloud import bigquery\n",
    "# client = bigquery.Client()\n",
    "dataset_id = 'results_docdb'\n",
    "table_id = 'USExactTwins'\n",
    "\n",
    "table_ref = client.dataset(dataset_id).table(table_id)\n",
    "#client.delete_table(table_ref)  # API request\n",
    "\n",
    "print(\"Table {}:{} deleted.\".format(dataset_id, table_id))"
   ]
  },
  {
   "cell_type": "markdown",
   "metadata": {},
   "source": [
    "# 4. Adding Priority filing information"
   ]
  },
  {
   "cell_type": "markdown",
   "metadata": {},
   "source": [
    "# 4.1. Query"
   ]
  },
  {
   "cell_type": "code",
   "execution_count": 3,
   "metadata": {},
   "outputs": [],
   "source": [
    "client = bigquery.Client()\n",
    "\n",
    "job_config = bigquery.QueryJobConfig()\n",
    "job_config.user_query_cache = False\n",
    "# Set configuration.query.writeDisposition\n",
    "job_config.write_disposition = 'WRITE_TRUNCATE'\n",
    "\n",
    "# Set destination table\n",
    "dataset_id = 'results_docdb'\n",
    "table_id = 'backbone_0'\n",
    "table_ref = client.dataset(dataset_id).table(table_id)\n",
    "job_config.destination = table_ref"
   ]
  },
  {
   "cell_type": "code",
   "execution_count": 4,
   "metadata": {},
   "outputs": [],
   "source": [
    "sql= \"\"\"\n",
    "    SELECT\n",
    "            *,\n",
    "            (\n",
    "            CASE \n",
    "                    WHEN appln_id_1 NOT IN(\n",
    "                                    SELECT DISTINCT appln_id\n",
    "                                    FROM `usptobias.patstat.tls204`) THEN 1\n",
    "                    ELSE 0\n",
    "            END\n",
    "            ) AS is_1_pf,\n",
    "            (\n",
    "            CASE \n",
    "                    WHEN appln_id_2 NOT IN(\n",
    "                                    SELECT DISTINCT appln_id\n",
    "                                    FROM `usptobias.patstat.tls204`) THEN 1\n",
    "                    ELSE 0\n",
    "            END\n",
    "            ) AS is_2_pf\n",
    "    FROM\n",
    "            `usptobias.results_docdb.USExactTwins`\n",
    "    \"\"\"\n",
    "\n",
    "# Defining the query job\n",
    "query_job = client.query(sql, location='US', job_config=job_config)"
   ]
  },
  {
   "cell_type": "code",
   "execution_count": 5,
   "metadata": {},
   "outputs": [
    {
     "data": {
      "text/plain": [
       "<google.cloud.bigquery.table.RowIterator at 0x7fed83ba9748>"
      ]
     },
     "execution_count": 5,
     "metadata": {},
     "output_type": "execute_result"
    }
   ],
   "source": [
    "query_job.result()"
   ]
  },
  {
   "cell_type": "markdown",
   "metadata": {},
   "source": [
    "# 4.2. Getting the resulting table"
   ]
  },
  {
   "cell_type": "code",
   "execution_count": 6,
   "metadata": {},
   "outputs": [
    {
     "name": "stdout",
     "output_type": "stream",
     "text": [
      "[SchemaField('appln_id_1', 'INTEGER', 'NULLABLE', None, ()), SchemaField('appln_nr_1', 'STRING', 'NULLABLE', None, ()), SchemaField('appln_auth_1', 'STRING', 'NULLABLE', None, ()), SchemaField('appln_filing_year_1', 'INTEGER', 'NULLABLE', None, ()), SchemaField('appln_kind_1', 'STRING', 'NULLABLE', None, ()), SchemaField('appln_id_2', 'INTEGER', 'NULLABLE', None, ()), SchemaField('appln_nr_2', 'STRING', 'NULLABLE', None, ()), SchemaField('appln_auth_2', 'STRING', 'NULLABLE', None, ()), SchemaField('appln_filing_year_2', 'INTEGER', 'NULLABLE', None, ()), SchemaField('appln_kind_2', 'STRING', 'NULLABLE', None, ()), SchemaField('docdb_family_id', 'INTEGER', 'NULLABLE', None, ()), SchemaField('docdb_nb_pairs', 'INTEGER', 'NULLABLE', None, ()), SchemaField('exact_twins', 'INTEGER', 'NULLABLE', None, ()), SchemaField('is_1_pf', 'INTEGER', 'NULLABLE', None, ()), SchemaField('is_2_pf', 'INTEGER', 'NULLABLE', None, ())]\n",
      "None\n",
      "\n",
      "There are 17,047,494 number of records in total!\n"
     ]
    }
   ],
   "source": [
    "dataset_id = 'results_docdb'\n",
    "table_id = 'backbone_0'\n",
    "# Getting the table's information\n",
    "table_ref = client.dataset(dataset_id).table(table_id)\n",
    "table = client.get_table(table_ref)\n",
    "\n",
    "# Print tables information\n",
    "print(table.schema)\n",
    "print(table.description)\n",
    "print(\"\\nThere are {:,} number of records in total!\".format(table.num_rows))"
   ]
  },
  {
   "cell_type": "code",
   "execution_count": 10,
   "metadata": {},
   "outputs": [],
   "source": [
    "# Loading the first 10,000 rows\n",
    "dataset_id = 'results_docdb'\n",
    "table_id = 'backbone_0'\n",
    "# Getting the table object\n",
    "table_ref = client.dataset(dataset_id).table(table_id)\n",
    "table = client.get_table(table_ref)\n",
    "\n",
    "# Load the first 10000 rows into RowIterator object\n",
    "rows = client.list_rows(table, max_results=10000)\n",
    "\n",
    "# Loading the RowIterator object into Pandas dataframe\n",
    "df = rows.to_dataframe()"
   ]
  },
  {
   "cell_type": "code",
   "execution_count": 11,
   "metadata": {},
   "outputs": [
    {
     "data": {
      "text/html": [
       "<div>\n",
       "<style scoped>\n",
       "    .dataframe tbody tr th:only-of-type {\n",
       "        vertical-align: middle;\n",
       "    }\n",
       "\n",
       "    .dataframe tbody tr th {\n",
       "        vertical-align: top;\n",
       "    }\n",
       "\n",
       "    .dataframe thead th {\n",
       "        text-align: right;\n",
       "    }\n",
       "</style>\n",
       "<table border=\"1\" class=\"dataframe\">\n",
       "  <thead>\n",
       "    <tr style=\"text-align: right;\">\n",
       "      <th></th>\n",
       "      <th>appln_id_1</th>\n",
       "      <th>appln_nr_1</th>\n",
       "      <th>appln_auth_1</th>\n",
       "      <th>appln_filing_year_1</th>\n",
       "      <th>appln_kind_1</th>\n",
       "      <th>appln_id_2</th>\n",
       "      <th>appln_nr_2</th>\n",
       "      <th>appln_auth_2</th>\n",
       "      <th>appln_filing_year_2</th>\n",
       "      <th>appln_kind_2</th>\n",
       "      <th>docdb_family_id</th>\n",
       "      <th>docdb_nb_pairs</th>\n",
       "      <th>exact_twins</th>\n",
       "      <th>is_1_pf</th>\n",
       "      <th>is_2_pf</th>\n",
       "    </tr>\n",
       "  </thead>\n",
       "  <tbody>\n",
       "    <tr>\n",
       "      <th>0</th>\n",
       "      <td>330388621</td>\n",
       "      <td>83467310</td>\n",
       "      <td>US</td>\n",
       "      <td>2010</td>\n",
       "      <td>A</td>\n",
       "      <td>497159087</td>\n",
       "      <td>181100283</td>\n",
       "      <td>CY</td>\n",
       "      <td>2018</td>\n",
       "      <td>T</td>\n",
       "      <td>42670422</td>\n",
       "      <td>6</td>\n",
       "      <td>0</td>\n",
       "      <td>0</td>\n",
       "      <td>0</td>\n",
       "    </tr>\n",
       "    <tr>\n",
       "      <th>1</th>\n",
       "      <td>54407623</td>\n",
       "      <td>97698007</td>\n",
       "      <td>US</td>\n",
       "      <td>2007</td>\n",
       "      <td>A</td>\n",
       "      <td>15585641</td>\n",
       "      <td>52497</td>\n",
       "      <td>EG</td>\n",
       "      <td>1997</td>\n",
       "      <td>A</td>\n",
       "      <td>25663046</td>\n",
       "      <td>49</td>\n",
       "      <td>0</td>\n",
       "      <td>0</td>\n",
       "      <td>0</td>\n",
       "    </tr>\n",
       "    <tr>\n",
       "      <th>2</th>\n",
       "      <td>50244105</td>\n",
       "      <td>36941006</td>\n",
       "      <td>US</td>\n",
       "      <td>2006</td>\n",
       "      <td>A</td>\n",
       "      <td>43705482</td>\n",
       "      <td>75399</td>\n",
       "      <td>SK</td>\n",
       "      <td>1997</td>\n",
       "      <td>A</td>\n",
       "      <td>26708180</td>\n",
       "      <td>3</td>\n",
       "      <td>0</td>\n",
       "      <td>0</td>\n",
       "      <td>0</td>\n",
       "    </tr>\n",
       "    <tr>\n",
       "      <th>3</th>\n",
       "      <td>49711400</td>\n",
       "      <td>33597803</td>\n",
       "      <td>US</td>\n",
       "      <td>2003</td>\n",
       "      <td>A</td>\n",
       "      <td>42399621</td>\n",
       "      <td>28759290</td>\n",
       "      <td>PL</td>\n",
       "      <td>1990</td>\n",
       "      <td>A</td>\n",
       "      <td>23706597</td>\n",
       "      <td>3</td>\n",
       "      <td>0</td>\n",
       "      <td>1</td>\n",
       "      <td>0</td>\n",
       "    </tr>\n",
       "    <tr>\n",
       "      <th>4</th>\n",
       "      <td>420522490</td>\n",
       "      <td>201214238569</td>\n",
       "      <td>US</td>\n",
       "      <td>2012</td>\n",
       "      <td>A</td>\n",
       "      <td>497159007</td>\n",
       "      <td>181100119</td>\n",
       "      <td>CY</td>\n",
       "      <td>2018</td>\n",
       "      <td>T</td>\n",
       "      <td>47715182</td>\n",
       "      <td>1</td>\n",
       "      <td>1</td>\n",
       "      <td>0</td>\n",
       "      <td>0</td>\n",
       "    </tr>\n",
       "  </tbody>\n",
       "</table>\n",
       "</div>"
      ],
      "text/plain": [
       "   appln_id_1    appln_nr_1 appln_auth_1  appln_filing_year_1 appln_kind_1  \\\n",
       "0   330388621      83467310           US                 2010           A    \n",
       "1    54407623      97698007           US                 2007           A    \n",
       "2    50244105      36941006           US                 2006           A    \n",
       "3    49711400      33597803           US                 2003           A    \n",
       "4   420522490  201214238569           US                 2012           A    \n",
       "\n",
       "   appln_id_2 appln_nr_2 appln_auth_2  appln_filing_year_2 appln_kind_2  \\\n",
       "0   497159087  181100283           CY                 2018           T    \n",
       "1    15585641      52497           EG                 1997           A    \n",
       "2    43705482      75399           SK                 1997           A    \n",
       "3    42399621   28759290           PL                 1990           A    \n",
       "4   497159007  181100119           CY                 2018           T    \n",
       "\n",
       "   docdb_family_id  docdb_nb_pairs  exact_twins  is_1_pf  is_2_pf  \n",
       "0         42670422               6            0        0        0  \n",
       "1         25663046              49            0        0        0  \n",
       "2         26708180               3            0        0        0  \n",
       "3         23706597               3            0        1        0  \n",
       "4         47715182               1            1        0        0  "
      ]
     },
     "execution_count": 11,
     "metadata": {},
     "output_type": "execute_result"
    }
   ],
   "source": [
    "df.head()"
   ]
  },
  {
   "cell_type": "markdown",
   "metadata": {},
   "source": [
    "# 4.3. Exporting the table"
   ]
  },
  {
   "cell_type": "code",
   "execution_count": 15,
   "metadata": {},
   "outputs": [],
   "source": [
    "# from google.cloud import bigquery\n",
    "client = bigquery.Client()\n",
    "bucket_name = 'patent-results'\n",
    "folder_name = 'backbone'\n",
    "\n",
    "project = 'usptobias'\n",
    "dataset_id = 'results_docdb'\n",
    "table_id = 'backbone_0'\n",
    "\n",
    "destination_uri = 'gs://{}/{}/{}'.format(bucket_name, folder_name, 'backbone_0_docdb_*.csv.gz')\n",
    "dataset_ref = client.dataset(dataset_id, project=project)\n",
    "table_ref = dataset_ref.table(table_id)"
   ]
  },
  {
   "cell_type": "code",
   "execution_count": 16,
   "metadata": {},
   "outputs": [],
   "source": [
    "job_config = bigquery.job.ExtractJobConfig()\n",
    "\n",
    "job_config.compression = \"GZIP\"\n",
    "job_config.destinationFormat = \"CSV\""
   ]
  },
  {
   "cell_type": "code",
   "execution_count": 17,
   "metadata": {},
   "outputs": [
    {
     "name": "stdout",
     "output_type": "stream",
     "text": [
      "Exported usptobias:results_docdb.backbone_0 to gs://patent-results/backbone/backbone_0_docdb_*.csv.gz\n"
     ]
    }
   ],
   "source": [
    "extract_job = client.extract_table(\n",
    "    table_ref,\n",
    "    destination_uri,\n",
    "    # Location must match that of the source table.\n",
    "    location='US',\n",
    "    job_config=job_config)  # API request\n",
    "extract_job.result()  # Waits for job to complete.\n",
    "7\n",
    "print('Exported {}:{}.{} to {}'.format(\n",
    "    project, dataset_id, table_id, destination_uri))"
   ]
  },
  {
   "cell_type": "markdown",
   "metadata": {},
   "source": [
    "# 5. Selecting Only \"Exact Twins\""
   ]
  },
  {
   "cell_type": "code",
   "execution_count": 157,
   "metadata": {},
   "outputs": [],
   "source": [
    "client = bigquery.Client()"
   ]
  },
  {
   "cell_type": "markdown",
   "metadata": {},
   "source": [
    "## 5.1. Query to generate the table"
   ]
  },
  {
   "cell_type": "code",
   "execution_count": 158,
   "metadata": {},
   "outputs": [],
   "source": [
    "job_config = bigquery.QueryJobConfig()\n",
    "job_config.user_query_cache = False\n",
    "# Set configuration.query.createDisposition\n",
    "job_config.create_disposition = 'CREATE_IF_NEEDED'\n",
    "# Set configuration.query.writeDisposition\n",
    "job_config.write_disposition = 'WRITE_TRUNCATE' #'WRITE_APPEND'\n",
    "\n",
    "\n",
    "# Set destination table\n",
    "dataset_id = 'results_docdb'\n",
    "table_id = 'USOnlyTwins'\n",
    "table_ref = client.dataset(dataset_id).table(table_id)\n",
    "job_config.destination = table_ref"
   ]
  },
  {
   "cell_type": "code",
   "execution_count": 159,
   "metadata": {},
   "outputs": [],
   "source": [
    "sql= \"\"\"\n",
    "    SELECT\n",
    "            * EXCEPT (exact_twins, docdb_nb_pairs)\n",
    "    FROM\n",
    "            `usptobias.results_docdb.USExactTwins`\n",
    "    WHERE\n",
    "            exact_twins=1\n",
    "            AND appln_kind_2='A '\n",
    "    \"\"\"\n",
    "\n",
    "# Defining the query job\n",
    "query_job = client.query(sql, location='US', job_config=job_config)"
   ]
  },
  {
   "cell_type": "code",
   "execution_count": 160,
   "metadata": {},
   "outputs": [
    {
     "data": {
      "text/plain": [
       "<google.cloud.bigquery.table.RowIterator at 0x7fcb3e27d4a8>"
      ]
     },
     "execution_count": 160,
     "metadata": {},
     "output_type": "execute_result"
    }
   ],
   "source": [
    "query_job.result()"
   ]
  },
  {
   "cell_type": "markdown",
   "metadata": {},
   "source": [
    "## 5.2. Getting the resulting table info"
   ]
  },
  {
   "cell_type": "code",
   "execution_count": 130,
   "metadata": {},
   "outputs": [
    {
     "name": "stdout",
     "output_type": "stream",
     "text": [
      "[SchemaField('appln_id_1', 'INTEGER', 'NULLABLE', None, ()), SchemaField('appln_nr_1', 'STRING', 'NULLABLE', None, ()), SchemaField('appln_auth_1', 'STRING', 'NULLABLE', None, ()), SchemaField('appln_filing_year_1', 'INTEGER', 'NULLABLE', None, ()), SchemaField('appln_kind_1', 'STRING', 'NULLABLE', None, ()), SchemaField('appln_id_2', 'INTEGER', 'NULLABLE', None, ()), SchemaField('appln_nr_2', 'STRING', 'NULLABLE', None, ()), SchemaField('appln_auth_2', 'STRING', 'NULLABLE', None, ()), SchemaField('appln_filing_year_2', 'INTEGER', 'NULLABLE', None, ()), SchemaField('appln_kind_2', 'STRING', 'NULLABLE', None, ()), SchemaField('docdb_family_id', 'INTEGER', 'NULLABLE', None, ())]\n",
      "None\n",
      "\n",
      "There are 6,421,665 number of records in total!\n"
     ]
    }
   ],
   "source": [
    "dataset_id = 'results_docdb'\n",
    "table_id = 'USOnlyTwins'\n",
    "# Getting the table's information\n",
    "table_ref = client.dataset(dataset_id).table(table_id)\n",
    "table = client.get_table(table_ref)\n",
    "\n",
    "# Print tables information\n",
    "print(table.schema)\n",
    "print(table.description)\n",
    "print(\"\\nThere are {:,} number of records in total!\".format(table.num_rows))"
   ]
  },
  {
   "cell_type": "markdown",
   "metadata": {},
   "source": [
    "## 5.3. Loading the First 10,000 rows"
   ]
  },
  {
   "cell_type": "code",
   "execution_count": 131,
   "metadata": {},
   "outputs": [],
   "source": [
    "dataset_id = 'results_docdb'\n",
    "table_id = 'USOnlyTwins'\n",
    "# Getting the table object\n",
    "table_ref = client.dataset(dataset_id).table(table_id)\n",
    "table = client.get_table(table_ref)\n",
    "\n",
    "# Load the first 10000 rows into RowIterator object\n",
    "rows = client.list_rows(table, max_results=10000)\n",
    "\n",
    "# Loading the RowIterator object into Pandas dataframe\n",
    "df = rows.to_dataframe()"
   ]
  },
  {
   "cell_type": "code",
   "execution_count": 132,
   "metadata": {},
   "outputs": [
    {
     "data": {
      "text/html": [
       "<div>\n",
       "<style scoped>\n",
       "    .dataframe tbody tr th:only-of-type {\n",
       "        vertical-align: middle;\n",
       "    }\n",
       "\n",
       "    .dataframe tbody tr th {\n",
       "        vertical-align: top;\n",
       "    }\n",
       "\n",
       "    .dataframe thead th {\n",
       "        text-align: right;\n",
       "    }\n",
       "</style>\n",
       "<table border=\"1\" class=\"dataframe\">\n",
       "  <thead>\n",
       "    <tr style=\"text-align: right;\">\n",
       "      <th></th>\n",
       "      <th>appln_id_1</th>\n",
       "      <th>appln_nr_1</th>\n",
       "      <th>appln_auth_1</th>\n",
       "      <th>appln_filing_year_1</th>\n",
       "      <th>appln_kind_1</th>\n",
       "      <th>appln_id_2</th>\n",
       "      <th>appln_nr_2</th>\n",
       "      <th>appln_auth_2</th>\n",
       "      <th>appln_filing_year_2</th>\n",
       "      <th>appln_kind_2</th>\n",
       "      <th>docdb_family_id</th>\n",
       "    </tr>\n",
       "  </thead>\n",
       "  <tbody>\n",
       "    <tr>\n",
       "      <th>0</th>\n",
       "      <td>496058741</td>\n",
       "      <td>201815896364</td>\n",
       "      <td>US</td>\n",
       "      <td>2018</td>\n",
       "      <td>A</td>\n",
       "      <td>496213854</td>\n",
       "      <td>2018000422</td>\n",
       "      <td>CO</td>\n",
       "      <td>2018</td>\n",
       "      <td>A</td>\n",
       "      <td>53938196</td>\n",
       "    </tr>\n",
       "    <tr>\n",
       "      <th>1</th>\n",
       "      <td>497502738</td>\n",
       "      <td>201815933769</td>\n",
       "      <td>US</td>\n",
       "      <td>2018</td>\n",
       "      <td>A</td>\n",
       "      <td>489782299</td>\n",
       "      <td>0024242017</td>\n",
       "      <td>PE</td>\n",
       "      <td>2016</td>\n",
       "      <td>A</td>\n",
       "      <td>54199040</td>\n",
       "    </tr>\n",
       "    <tr>\n",
       "      <th>2</th>\n",
       "      <td>497501486</td>\n",
       "      <td>201815876721</td>\n",
       "      <td>US</td>\n",
       "      <td>2018</td>\n",
       "      <td>A</td>\n",
       "      <td>487512831</td>\n",
       "      <td>500532017</td>\n",
       "      <td>AT</td>\n",
       "      <td>2017</td>\n",
       "      <td>A</td>\n",
       "      <td>60628627</td>\n",
       "    </tr>\n",
       "    <tr>\n",
       "      <th>3</th>\n",
       "      <td>497183390</td>\n",
       "      <td>201815867032</td>\n",
       "      <td>US</td>\n",
       "      <td>2018</td>\n",
       "      <td>A</td>\n",
       "      <td>493142727</td>\n",
       "      <td>201730062</td>\n",
       "      <td>ES</td>\n",
       "      <td>2017</td>\n",
       "      <td>A</td>\n",
       "      <td>61192831</td>\n",
       "    </tr>\n",
       "    <tr>\n",
       "      <th>4</th>\n",
       "      <td>496926825</td>\n",
       "      <td>201815913737</td>\n",
       "      <td>US</td>\n",
       "      <td>2018</td>\n",
       "      <td>A</td>\n",
       "      <td>477136253</td>\n",
       "      <td>1551136</td>\n",
       "      <td>SE</td>\n",
       "      <td>2015</td>\n",
       "      <td>A</td>\n",
       "      <td>58239223</td>\n",
       "    </tr>\n",
       "    <tr>\n",
       "      <th>5</th>\n",
       "      <td>496060625</td>\n",
       "      <td>201815897495</td>\n",
       "      <td>US</td>\n",
       "      <td>2018</td>\n",
       "      <td>A</td>\n",
       "      <td>497230395</td>\n",
       "      <td>2018007120</td>\n",
       "      <td>CO</td>\n",
       "      <td>2018</td>\n",
       "      <td>A</td>\n",
       "      <td>59499674</td>\n",
       "    </tr>\n",
       "    <tr>\n",
       "      <th>6</th>\n",
       "      <td>494027368</td>\n",
       "      <td>201815864756</td>\n",
       "      <td>US</td>\n",
       "      <td>2018</td>\n",
       "      <td>A</td>\n",
       "      <td>477018110</td>\n",
       "      <td>2015096</td>\n",
       "      <td>NL</td>\n",
       "      <td>2015</td>\n",
       "      <td>A</td>\n",
       "      <td>56740433</td>\n",
       "    </tr>\n",
       "  </tbody>\n",
       "</table>\n",
       "</div>"
      ],
      "text/plain": [
       "   appln_id_1    appln_nr_1 appln_auth_1  appln_filing_year_1 appln_kind_1  \\\n",
       "0   496058741  201815896364           US                 2018           A    \n",
       "1   497502738  201815933769           US                 2018           A    \n",
       "2   497501486  201815876721           US                 2018           A    \n",
       "3   497183390  201815867032           US                 2018           A    \n",
       "4   496926825  201815913737           US                 2018           A    \n",
       "5   496060625  201815897495           US                 2018           A    \n",
       "6   494027368  201815864756           US                 2018           A    \n",
       "\n",
       "   appln_id_2  appln_nr_2 appln_auth_2  appln_filing_year_2 appln_kind_2  \\\n",
       "0   496213854  2018000422           CO                 2018           A    \n",
       "1   489782299  0024242017           PE                 2016           A    \n",
       "2   487512831   500532017           AT                 2017           A    \n",
       "3   493142727   201730062           ES                 2017           A    \n",
       "4   477136253     1551136           SE                 2015           A    \n",
       "5   497230395  2018007120           CO                 2018           A    \n",
       "6   477018110     2015096           NL                 2015           A    \n",
       "\n",
       "   docdb_family_id  \n",
       "0         53938196  \n",
       "1         54199040  \n",
       "2         60628627  \n",
       "3         61192831  \n",
       "4         58239223  \n",
       "5         59499674  \n",
       "6         56740433  "
      ]
     },
     "execution_count": 132,
     "metadata": {},
     "output_type": "execute_result"
    }
   ],
   "source": [
    "df.head(7)"
   ]
  },
  {
   "cell_type": "markdown",
   "metadata": {},
   "source": [
    "## 5.4.Deleting the table"
   ]
  },
  {
   "cell_type": "code",
   "execution_count": 113,
   "metadata": {},
   "outputs": [
    {
     "name": "stdout",
     "output_type": "stream",
     "text": [
      "Table results_docdb:USOnlyTwins deleted.\n"
     ]
    }
   ],
   "source": [
    "# from google.cloud import bigquery\n",
    "# client = bigquery.Client()\n",
    "dataset_id = 'results_docdb'\n",
    "table_id = 'USOnlyTwins'\n",
    "\n",
    "table_ref = client.dataset(dataset_id).table(table_id)\n",
    "#client.delete_table(table_ref)  # API request\n",
    "\n",
    "print(\"Table {}:{} deleted.\".format(dataset_id, table_id))"
   ]
  },
  {
   "cell_type": "markdown",
   "metadata": {},
   "source": [
    "## 5.5. Exporting Table to GCP Bucket"
   ]
  },
  {
   "cell_type": "code",
   "execution_count": 133,
   "metadata": {},
   "outputs": [],
   "source": [
    "# from google.cloud import bigquery\n",
    "client = bigquery.Client()\n",
    "bucket_name = 'patent-results'\n",
    "folder_name = 'exactTwins'\n",
    "\n",
    "project = 'usptobias'\n",
    "dataset_id = 'results_docdb'\n",
    "table_id = 'USExactTwins'\n",
    "\n",
    "destination_uri = 'gs://{}/{}/{}'.format(bucket_name, folder_name, 'exact_twins_docdb-*.csv.gz')\n",
    "dataset_ref = client.dataset(dataset_id, project=project)\n",
    "table_ref = dataset_ref.table(table_id)"
   ]
  },
  {
   "cell_type": "code",
   "execution_count": 134,
   "metadata": {},
   "outputs": [],
   "source": [
    "job_config = bigquery.job.ExtractJobConfig()\n",
    "\n",
    "job_config.compression = \"GZIP\"\n",
    "job_config.destinationFormat = \"CSV\""
   ]
  },
  {
   "cell_type": "code",
   "execution_count": 135,
   "metadata": {},
   "outputs": [
    {
     "name": "stdout",
     "output_type": "stream",
     "text": [
      "Exported usptobias:results_docdb.USExactTwins to gs://patent-results/exactTwins/exact_twins_docdb-*.csv.gz\n"
     ]
    }
   ],
   "source": [
    "extract_job = client.extract_table(\n",
    "    table_ref,\n",
    "    destination_uri,\n",
    "    # Location must match that of the source table.\n",
    "    location='US',\n",
    "    job_config=job_config)  # API request\n",
    "extract_job.result()  # Waits for job to complete.\n",
    "7\n",
    "print('Exported {}:{}.{} to {}'.format(\n",
    "    project, dataset_id, table_id, destination_uri))"
   ]
  },
  {
   "cell_type": "markdown",
   "metadata": {},
   "source": [
    "# 6.Filtering to get patents which filed in years between 2001 and 2017"
   ]
  },
  {
   "cell_type": "markdown",
   "metadata": {},
   "source": [
    "## 6.1. Query"
   ]
  },
  {
   "cell_type": "code",
   "execution_count": 123,
   "metadata": {},
   "outputs": [],
   "source": [
    "client = bigquery.Client()\n",
    "\n",
    "job_config = bigquery.QueryJobConfig()\n",
    "job_config.user_query_cache = False\n",
    "\n",
    "# Set destination table\n",
    "dataset_id = 'results_docdb'\n",
    "table_id = 'USOnlyTwins_2017'\n",
    "table_ref = client.dataset(dataset_id).table(table_id)\n",
    "job_config.destination = table_ref"
   ]
  },
  {
   "cell_type": "code",
   "execution_count": 126,
   "metadata": {},
   "outputs": [],
   "source": [
    "sql= \"\"\"\n",
    "    SELECT\n",
    "            *\n",
    "    FROM\n",
    "            `usptobias.results_docdb.USOnlyTwins`\n",
    "    WHERE\n",
    "            appln_filing_year_1 <= 2017\n",
    "            AND appln_filing_year_2 <= 2017\n",
    "    \"\"\"\n",
    "\n",
    "# Defining the query job\n",
    "query_job = client.query(sql, location='US', job_config=job_config)"
   ]
  },
  {
   "cell_type": "code",
   "execution_count": 127,
   "metadata": {},
   "outputs": [
    {
     "data": {
      "text/plain": [
       "<google.cloud.bigquery.table.RowIterator at 0x7faa222c35f8>"
      ]
     },
     "execution_count": 127,
     "metadata": {},
     "output_type": "execute_result"
    }
   ],
   "source": [
    "query_job.result()"
   ]
  },
  {
   "cell_type": "markdown",
   "metadata": {},
   "source": [
    "## 6.2. Getting the resulting table information"
   ]
  },
  {
   "cell_type": "code",
   "execution_count": 128,
   "metadata": {},
   "outputs": [
    {
     "name": "stdout",
     "output_type": "stream",
     "text": [
      "[SchemaField('appln_id_1', 'INTEGER', 'NULLABLE', None, ()), SchemaField('appln_nr_1', 'STRING', 'NULLABLE', None, ()), SchemaField('appln_auth_1', 'STRING', 'NULLABLE', None, ()), SchemaField('appln_filing_year_1', 'INTEGER', 'NULLABLE', None, ()), SchemaField('appln_id_2', 'INTEGER', 'NULLABLE', None, ()), SchemaField('appln_nr_2', 'STRING', 'NULLABLE', None, ()), SchemaField('appln_auth_2', 'STRING', 'NULLABLE', None, ()), SchemaField('appln_filing_year_2', 'INTEGER', 'NULLABLE', None, ()), SchemaField('docdb_family_id', 'INTEGER', 'NULLABLE', None, ())]\n",
      "None\n",
      "\n",
      "There are 6,486,324 number of records in total!\n"
     ]
    }
   ],
   "source": [
    "dataset_id = 'results_docdb'\n",
    "table_id = 'USOnlyTwins_2017'\n",
    "# Getting the table's information\n",
    "table_ref = client.dataset(dataset_id).table(table_id)\n",
    "table = client.get_table(table_ref)\n",
    "\n",
    "# Print tables information\n",
    "print(table.schema)\n",
    "print(table.description)\n",
    "print(\"\\nThere are {:,} number of records in total!\".format(table.num_rows))"
   ]
  },
  {
   "cell_type": "markdown",
   "metadata": {},
   "source": [
    "## 6.3. Loading the first 10,000 rows"
   ]
  },
  {
   "cell_type": "code",
   "execution_count": 131,
   "metadata": {},
   "outputs": [],
   "source": [
    "dataset_id = 'results_docdb'\n",
    "table_id = 'USOnlyTwins_2017'\n",
    "# Getting the table object\n",
    "table_ref = client.dataset(dataset_id).table(table_id)\n",
    "table = client.get_table(table_ref)\n",
    "\n",
    "# Load the first 10000 rows into RowIterator object\n",
    "rows = client.list_rows(table, max_results=10000)\n",
    "\n",
    "# Loading the RowIterator object into Pandas dataframe\n",
    "df = rows.to_dataframe()"
   ]
  },
  {
   "cell_type": "code",
   "execution_count": 132,
   "metadata": {},
   "outputs": [
    {
     "data": {
      "text/html": [
       "<div>\n",
       "<style scoped>\n",
       "    .dataframe tbody tr th:only-of-type {\n",
       "        vertical-align: middle;\n",
       "    }\n",
       "\n",
       "    .dataframe tbody tr th {\n",
       "        vertical-align: top;\n",
       "    }\n",
       "\n",
       "    .dataframe thead th {\n",
       "        text-align: right;\n",
       "    }\n",
       "</style>\n",
       "<table border=\"1\" class=\"dataframe\">\n",
       "  <thead>\n",
       "    <tr style=\"text-align: right;\">\n",
       "      <th></th>\n",
       "      <th>appln_id_1</th>\n",
       "      <th>appln_nr_1</th>\n",
       "      <th>appln_auth_1</th>\n",
       "      <th>appln_filing_year_1</th>\n",
       "      <th>appln_id_2</th>\n",
       "      <th>appln_nr_2</th>\n",
       "      <th>appln_auth_2</th>\n",
       "      <th>appln_filing_year_2</th>\n",
       "      <th>docdb_family_id</th>\n",
       "    </tr>\n",
       "  </thead>\n",
       "  <tbody>\n",
       "    <tr>\n",
       "      <th>0</th>\n",
       "      <td>52719654</td>\n",
       "      <td>68135303</td>\n",
       "      <td>US</td>\n",
       "      <td>2003</td>\n",
       "      <td>45116794</td>\n",
       "      <td>90119884</td>\n",
       "      <td>TW</td>\n",
       "      <td>2001</td>\n",
       "      <td>24562341</td>\n",
       "    </tr>\n",
       "    <tr>\n",
       "      <th>1</th>\n",
       "      <td>53556099</td>\n",
       "      <td>80503801</td>\n",
       "      <td>US</td>\n",
       "      <td>2001</td>\n",
       "      <td>37204938</td>\n",
       "      <td>2001007990</td>\n",
       "      <td>JP</td>\n",
       "      <td>2001</td>\n",
       "      <td>18875655</td>\n",
       "    </tr>\n",
       "    <tr>\n",
       "      <th>2</th>\n",
       "      <td>54434010</td>\n",
       "      <td>98412701</td>\n",
       "      <td>US</td>\n",
       "      <td>2001</td>\n",
       "      <td>43670917</td>\n",
       "      <td>200106783</td>\n",
       "      <td>SG</td>\n",
       "      <td>2001</td>\n",
       "      <td>18928048</td>\n",
       "    </tr>\n",
       "    <tr>\n",
       "      <th>3</th>\n",
       "      <td>53426286</td>\n",
       "      <td>78297301</td>\n",
       "      <td>US</td>\n",
       "      <td>2001</td>\n",
       "      <td>4744216</td>\n",
       "      <td>2376551</td>\n",
       "      <td>CA</td>\n",
       "      <td>2001</td>\n",
       "      <td>26892690</td>\n",
       "    </tr>\n",
       "    <tr>\n",
       "      <th>4</th>\n",
       "      <td>48298906</td>\n",
       "      <td>16345702</td>\n",
       "      <td>US</td>\n",
       "      <td>2002</td>\n",
       "      <td>21354831</td>\n",
       "      <td>0120717</td>\n",
       "      <td>GB</td>\n",
       "      <td>2001</td>\n",
       "      <td>9921005</td>\n",
       "    </tr>\n",
       "  </tbody>\n",
       "</table>\n",
       "</div>"
      ],
      "text/plain": [
       "   appln_id_1 appln_nr_1 appln_auth_1  appln_filing_year_1  appln_id_2  \\\n",
       "0    52719654   68135303           US                 2003    45116794   \n",
       "1    53556099   80503801           US                 2001    37204938   \n",
       "2    54434010   98412701           US                 2001    43670917   \n",
       "3    53426286   78297301           US                 2001     4744216   \n",
       "4    48298906   16345702           US                 2002    21354831   \n",
       "\n",
       "   appln_nr_2 appln_auth_2  appln_filing_year_2  docdb_family_id  \n",
       "0    90119884           TW                 2001         24562341  \n",
       "1  2001007990           JP                 2001         18875655  \n",
       "2   200106783           SG                 2001         18928048  \n",
       "3     2376551           CA                 2001         26892690  \n",
       "4     0120717           GB                 2001          9921005  "
      ]
     },
     "execution_count": 132,
     "metadata": {},
     "output_type": "execute_result"
    }
   ],
   "source": [
    "df.head()"
   ]
  },
  {
   "cell_type": "markdown",
   "metadata": {},
   "source": [
    "# 7. Querying For Comparing"
   ]
  },
  {
   "cell_type": "markdown",
   "metadata": {},
   "source": [
    "## 7.1. Copying FamilyInfo table (df_twins_1)"
   ]
  },
  {
   "cell_type": "code",
   "execution_count": null,
   "metadata": {},
   "outputs": [],
   "source": [
    "'''# from google.cloud import bigquery\n",
    "client = bigquery.Client()\n",
    "# Defining source_table\n",
    "source_dataset = client.dataset('results', project='usptobias')\n",
    "source_table_ref = source_dataset.table('familyInfo')\n",
    "# Defining target table\n",
    "target_dataset = client.dataset('results_docdb', project='usptobias')\n",
    "dest_table_ref = target_dataset.table('familyInfo')\n",
    "# Initializing the Job\n",
    "job = client.copy_table(\n",
    "    source_table_ref,\n",
    "    dest_table_ref,\n",
    "    # Location must match that of the source and destination tables.\n",
    "    location='US')  # API request\n",
    "\n",
    "# Running the job\n",
    "job.result()  # Waits for job to complete.'''"
   ]
  },
  {
   "cell_type": "markdown",
   "metadata": {},
   "source": [
    "## 7.2. Getting the rows that are not mutual"
   ]
  },
  {
   "cell_type": "code",
   "execution_count": 44,
   "metadata": {},
   "outputs": [],
   "source": [
    "client = bigquery.Client()\n",
    "\n",
    "job_config = bigquery.QueryJobConfig()\n",
    "job_config.user_query_cache = False\n",
    "\n",
    "# Set destination table\n",
    "dataset_id = 'results_docdb'\n",
    "table_id = 'not_mutual'\n",
    "table_ref = client.dataset(dataset_id).table(table_id)\n",
    "job_config.destination = table_ref"
   ]
  },
  {
   "cell_type": "code",
   "execution_count": 45,
   "metadata": {},
   "outputs": [],
   "source": [
    "sql = \"\"\"\n",
    "    SELECT \n",
    "            appln_id_1,\n",
    "            appln_id_2,\n",
    "            t1.is_in_1,\n",
    "            t2.is_in_2,\n",
    "            exact_twins_1,\n",
    "            exact_twins_2\n",
    "            \n",
    "    FROM\n",
    "            (\n",
    "            SELECT\n",
    "                    appln_id_1,\n",
    "                    appln_id_2,\n",
    "                    exact_twins AS exact_twins_1,\n",
    "                    1 AS is_in_1\n",
    "            FROM\n",
    "                    `usptobias.results_docdb.familyInformation`\n",
    "            ) AS t1\n",
    "            \n",
    "        FULL OUTER JOIN\n",
    "            (\n",
    "            SELECT\n",
    "                    appln_id_1,\n",
    "                    appln_id_2,\n",
    "                    exact_twins AS exact_twins_2,\n",
    "                    1 AS is_in_2\n",
    "            FROM\n",
    "                    `usptobias.results_docdb.USExactTwins`\n",
    "            WHERE\n",
    "                    appln_filing_year_1 <> 2018\n",
    "                    AND appln_filing_year_2 <> 2018\n",
    "            ) AS t2\n",
    "\n",
    "        USING(appln_id_1, appln_id_2)\n",
    "    WHERE\n",
    "            (t1.is_in_1 IS NULL OR t2.is_in_2 IS NULL)\n",
    "            \n",
    "     \"\"\"\n",
    "# Defining the query\n",
    "query_job = client.query(\n",
    "    sql,\n",
    "    # Location must match that of the dataset(s) referenced in the query.\n",
    "    location='US',\n",
    "    job_config=job_config)"
   ]
  },
  {
   "cell_type": "code",
   "execution_count": 46,
   "metadata": {},
   "outputs": [
    {
     "data": {
      "text/plain": [
       "<google.cloud.bigquery.table.RowIterator at 0x7f62a448af60>"
      ]
     },
     "execution_count": 46,
     "metadata": {},
     "output_type": "execute_result"
    }
   ],
   "source": [
    "query_job.result()"
   ]
  },
  {
   "cell_type": "markdown",
   "metadata": {},
   "source": [
    "## 7.3. Getting the resulting table"
   ]
  },
  {
   "cell_type": "code",
   "execution_count": 47,
   "metadata": {},
   "outputs": [
    {
     "name": "stdout",
     "output_type": "stream",
     "text": [
      "[SchemaField('appln_id_1', 'INTEGER', 'NULLABLE', None, ()), SchemaField('appln_id_2', 'INTEGER', 'NULLABLE', None, ()), SchemaField('is_in_1', 'INTEGER', 'NULLABLE', None, ()), SchemaField('is_in_2', 'INTEGER', 'NULLABLE', None, ()), SchemaField('exact_twins_1', 'STRING', 'NULLABLE', None, ()), SchemaField('exact_twins_2', 'INTEGER', 'NULLABLE', None, ())]\n",
      "None\n",
      "\n",
      "There are 4,472,433 number of records in total!\n"
     ]
    }
   ],
   "source": [
    "dataset_id = 'results_docdb'\n",
    "table_id = 'not_mutual'\n",
    "# Getting the table's information\n",
    "table_ref = client.dataset(dataset_id).table(table_id)\n",
    "table = client.get_table(table_ref)\n",
    "\n",
    "# Print tables information\n",
    "print(table.schema)\n",
    "print(table.description)\n",
    "print(\"\\nThere are {:,} number of records in total!\".format(table.num_rows))"
   ]
  },
  {
   "cell_type": "code",
   "execution_count": 48,
   "metadata": {},
   "outputs": [],
   "source": [
    "dataset_id = 'results_docdb'\n",
    "table_id = 'not_mutual'\n",
    "# Getting the table object\n",
    "table_ref = client.dataset(dataset_id).table(table_id)\n",
    "table = client.get_table(table_ref)\n",
    "\n",
    "# Load the first 10000 rows into RowIterator object\n",
    "rows = client.list_rows(table, max_results=10000)\n",
    "\n",
    "# Loading the RowIterator object into Pandas dataframe\n",
    "df = rows.to_dataframe()"
   ]
  },
  {
   "cell_type": "code",
   "execution_count": 49,
   "metadata": {},
   "outputs": [
    {
     "data": {
      "text/html": [
       "<div>\n",
       "<style scoped>\n",
       "    .dataframe tbody tr th:only-of-type {\n",
       "        vertical-align: middle;\n",
       "    }\n",
       "\n",
       "    .dataframe tbody tr th {\n",
       "        vertical-align: top;\n",
       "    }\n",
       "\n",
       "    .dataframe thead th {\n",
       "        text-align: right;\n",
       "    }\n",
       "</style>\n",
       "<table border=\"1\" class=\"dataframe\">\n",
       "  <thead>\n",
       "    <tr style=\"text-align: right;\">\n",
       "      <th></th>\n",
       "      <th>appln_id_1</th>\n",
       "      <th>appln_id_2</th>\n",
       "      <th>is_in_1</th>\n",
       "      <th>is_in_2</th>\n",
       "      <th>exact_twins_1</th>\n",
       "      <th>exact_twins_2</th>\n",
       "    </tr>\n",
       "  </thead>\n",
       "  <tbody>\n",
       "    <tr>\n",
       "      <th>0</th>\n",
       "      <td>475835413</td>\n",
       "      <td>9045699</td>\n",
       "      <td>None</td>\n",
       "      <td>1</td>\n",
       "      <td>None</td>\n",
       "      <td>0</td>\n",
       "    </tr>\n",
       "    <tr>\n",
       "      <th>1</th>\n",
       "      <td>328061117</td>\n",
       "      <td>494263670</td>\n",
       "      <td>None</td>\n",
       "      <td>1</td>\n",
       "      <td>None</td>\n",
       "      <td>0</td>\n",
       "    </tr>\n",
       "    <tr>\n",
       "      <th>2</th>\n",
       "      <td>51518973</td>\n",
       "      <td>478536366</td>\n",
       "      <td>None</td>\n",
       "      <td>1</td>\n",
       "      <td>None</td>\n",
       "      <td>0</td>\n",
       "    </tr>\n",
       "    <tr>\n",
       "      <th>3</th>\n",
       "      <td>52185782</td>\n",
       "      <td>474827605</td>\n",
       "      <td>None</td>\n",
       "      <td>1</td>\n",
       "      <td>None</td>\n",
       "      <td>0</td>\n",
       "    </tr>\n",
       "    <tr>\n",
       "      <th>4</th>\n",
       "      <td>478168785</td>\n",
       "      <td>274024026</td>\n",
       "      <td>None</td>\n",
       "      <td>1</td>\n",
       "      <td>None</td>\n",
       "      <td>0</td>\n",
       "    </tr>\n",
       "    <tr>\n",
       "      <th>5</th>\n",
       "      <td>480414918</td>\n",
       "      <td>8304573</td>\n",
       "      <td>None</td>\n",
       "      <td>1</td>\n",
       "      <td>None</td>\n",
       "      <td>0</td>\n",
       "    </tr>\n",
       "    <tr>\n",
       "      <th>6</th>\n",
       "      <td>481963848</td>\n",
       "      <td>339044681</td>\n",
       "      <td>None</td>\n",
       "      <td>1</td>\n",
       "      <td>None</td>\n",
       "      <td>0</td>\n",
       "    </tr>\n",
       "  </tbody>\n",
       "</table>\n",
       "</div>"
      ],
      "text/plain": [
       "   appln_id_1  appln_id_2 is_in_1  is_in_2 exact_twins_1  exact_twins_2\n",
       "0   475835413     9045699    None        1          None              0\n",
       "1   328061117   494263670    None        1          None              0\n",
       "2    51518973   478536366    None        1          None              0\n",
       "3    52185782   474827605    None        1          None              0\n",
       "4   478168785   274024026    None        1          None              0\n",
       "5   480414918     8304573    None        1          None              0\n",
       "6   481963848   339044681    None        1          None              0"
      ]
     },
     "execution_count": 49,
     "metadata": {},
     "output_type": "execute_result"
    }
   ],
   "source": [
    "df.head(7)"
   ]
  },
  {
   "cell_type": "markdown",
   "metadata": {},
   "source": [
    "### 7.3.1. Deleting table"
   ]
  },
  {
   "cell_type": "code",
   "execution_count": 43,
   "metadata": {},
   "outputs": [
    {
     "name": "stdout",
     "output_type": "stream",
     "text": [
      "Table results_docdb:not_mutual_info deleted.\n"
     ]
    }
   ],
   "source": [
    "# from google.cloud import bigquery\n",
    "# client = bigquery.Client()\n",
    "dataset_id = 'results_docdb'\n",
    "table_id = 'not_mutual_info'\n",
    "\n",
    "table_ref = client.dataset(dataset_id).table(table_id)\n",
    "#client.delete_table(table_ref)  # API request\n",
    "\n",
    "print(\"Table {}:{} deleted.\".format(dataset_id, table_id))"
   ]
  },
  {
   "cell_type": "markdown",
   "metadata": {},
   "source": [
    "## 7.4. Adding the information for appln_id_1 and appln_id_2"
   ]
  },
  {
   "cell_type": "code",
   "execution_count": 50,
   "metadata": {},
   "outputs": [],
   "source": [
    "client = bigquery.Client()\n",
    "\n",
    "job_config = bigquery.QueryJobConfig()\n",
    "job_config.user_query_cache = False\n",
    "\n",
    "# Set destination table\n",
    "dataset_id = 'results_docdb'\n",
    "table_id = 'not_mutual_info'\n",
    "table_ref = client.dataset(dataset_id).table(table_id)\n",
    "job_config.destination = table_ref"
   ]
  },
  {
   "cell_type": "code",
   "execution_count": 51,
   "metadata": {},
   "outputs": [],
   "source": [
    "sql = \"\"\"\n",
    "    SELECT \n",
    "            t1.*,\n",
    "            t2.appln_auth_1,\n",
    "            t2.appln_kind_1,\n",
    "            t2.appln_filing_year_1,\n",
    "            t3.appln_auth_2,\n",
    "            t3.appln_kind_2,\n",
    "            t3.appln_filing_year_2,\n",
    "            t2.docdb_family_id,\n",
    "            t2.docdb_family_size\n",
    "            \n",
    "    FROM\n",
    "            `usptobias.results_docdb.not_mutual` AS t1\n",
    "    LEFT JOIN\n",
    "            (\n",
    "            SELECT\n",
    "                    appln_id,\n",
    "                    appln_auth AS appln_auth_1,\n",
    "                    appln_kind AS appln_kind_1,\n",
    "                    appln_filing_year AS appln_filing_year_1,\n",
    "                    docdb_family_id,\n",
    "                    docdb_family_size\n",
    "            FROM\n",
    "                    `usptobias.patstat.tls201`\n",
    "            ) AS t2\n",
    "            ON t1.appln_id_1 = t2.appln_id\n",
    "    LEFT JOIN\n",
    "            (\n",
    "            SELECT\n",
    "                    appln_id,\n",
    "                    appln_auth AS appln_auth_2,\n",
    "                    appln_kind AS appln_kind_2,\n",
    "                    appln_filing_year AS appln_filing_year_2\n",
    "            FROM\n",
    "                    `usptobias.patstat.tls201`\n",
    "            ) AS t3\n",
    "            ON t1.appln_id_2 = t3.appln_id\n",
    "     \"\"\"\n",
    "# Defining the query\n",
    "query_job = client.query(\n",
    "    sql,\n",
    "    # Location must match that of the dataset(s) referenced in the query.\n",
    "    location='US',\n",
    "    job_config=job_config)"
   ]
  },
  {
   "cell_type": "code",
   "execution_count": 52,
   "metadata": {},
   "outputs": [
    {
     "data": {
      "text/plain": [
       "<google.cloud.bigquery.table.RowIterator at 0x7f62a3fb5ef0>"
      ]
     },
     "execution_count": 52,
     "metadata": {},
     "output_type": "execute_result"
    }
   ],
   "source": [
    "query_job.result()"
   ]
  },
  {
   "cell_type": "markdown",
   "metadata": {},
   "source": [
    "## 7.4. Getting the resulting table: \"not_mutual_info\""
   ]
  },
  {
   "cell_type": "code",
   "execution_count": 53,
   "metadata": {},
   "outputs": [],
   "source": [
    "dataset_id = 'results_docdb'\n",
    "table_id = 'not_mutual_info'\n",
    "# Getting the table object\n",
    "table_ref = client.dataset(dataset_id).table(table_id)\n",
    "table = client.get_table(table_ref)\n",
    "\n",
    "# Load the first 10000 rows into RowIterator object\n",
    "rows = client.list_rows(table, max_results=10000)\n",
    "\n",
    "# Loading the RowIterator object into Pandas dataframe\n",
    "df = rows.to_dataframe()"
   ]
  },
  {
   "cell_type": "code",
   "execution_count": 54,
   "metadata": {},
   "outputs": [
    {
     "data": {
      "text/html": [
       "<div>\n",
       "<style scoped>\n",
       "    .dataframe tbody tr th:only-of-type {\n",
       "        vertical-align: middle;\n",
       "    }\n",
       "\n",
       "    .dataframe tbody tr th {\n",
       "        vertical-align: top;\n",
       "    }\n",
       "\n",
       "    .dataframe thead th {\n",
       "        text-align: right;\n",
       "    }\n",
       "</style>\n",
       "<table border=\"1\" class=\"dataframe\">\n",
       "  <thead>\n",
       "    <tr style=\"text-align: right;\">\n",
       "      <th></th>\n",
       "      <th>appln_id_1</th>\n",
       "      <th>appln_id_2</th>\n",
       "      <th>is_in_1</th>\n",
       "      <th>is_in_2</th>\n",
       "      <th>exact_twins_1</th>\n",
       "      <th>exact_twins_2</th>\n",
       "      <th>appln_auth_1</th>\n",
       "      <th>appln_kind_1</th>\n",
       "      <th>appln_filing_year_1</th>\n",
       "      <th>appln_auth_2</th>\n",
       "      <th>appln_kind_2</th>\n",
       "      <th>appln_filing_year_2</th>\n",
       "      <th>docdb_family_id</th>\n",
       "      <th>docdb_family_size</th>\n",
       "    </tr>\n",
       "  </thead>\n",
       "  <tbody>\n",
       "    <tr>\n",
       "      <th>0</th>\n",
       "      <td>53183756</td>\n",
       "      <td>43721146</td>\n",
       "      <td>1</td>\n",
       "      <td>None</td>\n",
       "      <td>0</td>\n",
       "      <td>None</td>\n",
       "      <td>US</td>\n",
       "      <td>A</td>\n",
       "      <td>2007.0</td>\n",
       "      <td>SK</td>\n",
       "      <td>A</td>\n",
       "      <td>1993.0</td>\n",
       "      <td>4230929.0</td>\n",
       "      <td>44.0</td>\n",
       "    </tr>\n",
       "    <tr>\n",
       "      <th>1</th>\n",
       "      <td>48020590</td>\n",
       "      <td>42184007</td>\n",
       "      <td>1</td>\n",
       "      <td>None</td>\n",
       "      <td>0</td>\n",
       "      <td>None</td>\n",
       "      <td>US</td>\n",
       "      <td>A</td>\n",
       "      <td>2008.0</td>\n",
       "      <td>NZ</td>\n",
       "      <td>A</td>\n",
       "      <td>1993.0</td>\n",
       "      <td>25536845.0</td>\n",
       "      <td>255.0</td>\n",
       "    </tr>\n",
       "    <tr>\n",
       "      <th>2</th>\n",
       "      <td>332950035</td>\n",
       "      <td>42175701</td>\n",
       "      <td>1</td>\n",
       "      <td>None</td>\n",
       "      <td>0</td>\n",
       "      <td>None</td>\n",
       "      <td>US</td>\n",
       "      <td>A</td>\n",
       "      <td>2010.0</td>\n",
       "      <td>NZ</td>\n",
       "      <td>A</td>\n",
       "      <td>1994.0</td>\n",
       "      <td>22245764.0</td>\n",
       "      <td>110.0</td>\n",
       "    </tr>\n",
       "    <tr>\n",
       "      <th>3</th>\n",
       "      <td>49164078</td>\n",
       "      <td>405869250</td>\n",
       "      <td>1</td>\n",
       "      <td>None</td>\n",
       "      <td>0</td>\n",
       "      <td>None</td>\n",
       "      <td>US</td>\n",
       "      <td>A</td>\n",
       "      <td>2002.0</td>\n",
       "      <td>JO</td>\n",
       "      <td>A</td>\n",
       "      <td>1994.0</td>\n",
       "      <td>3505998.0</td>\n",
       "      <td>19.0</td>\n",
       "    </tr>\n",
       "    <tr>\n",
       "      <th>4</th>\n",
       "      <td>54173955</td>\n",
       "      <td>42175701</td>\n",
       "      <td>1</td>\n",
       "      <td>None</td>\n",
       "      <td>0</td>\n",
       "      <td>None</td>\n",
       "      <td>US</td>\n",
       "      <td>A</td>\n",
       "      <td>2001.0</td>\n",
       "      <td>NZ</td>\n",
       "      <td>A</td>\n",
       "      <td>1994.0</td>\n",
       "      <td>22245764.0</td>\n",
       "      <td>110.0</td>\n",
       "    </tr>\n",
       "    <tr>\n",
       "      <th>5</th>\n",
       "      <td>54219757</td>\n",
       "      <td>42021837</td>\n",
       "      <td>1</td>\n",
       "      <td>None</td>\n",
       "      <td>0</td>\n",
       "      <td>None</td>\n",
       "      <td>US</td>\n",
       "      <td>A</td>\n",
       "      <td>2004.0</td>\n",
       "      <td>NO</td>\n",
       "      <td>A</td>\n",
       "      <td>1992.0</td>\n",
       "      <td>6399399.0</td>\n",
       "      <td>32.0</td>\n",
       "    </tr>\n",
       "    <tr>\n",
       "      <th>6</th>\n",
       "      <td>54191354</td>\n",
       "      <td>3408454</td>\n",
       "      <td>1</td>\n",
       "      <td>None</td>\n",
       "      <td>0</td>\n",
       "      <td>None</td>\n",
       "      <td>US</td>\n",
       "      <td>A</td>\n",
       "      <td>2001.0</td>\n",
       "      <td>None</td>\n",
       "      <td>None</td>\n",
       "      <td>NaN</td>\n",
       "      <td>21779630.0</td>\n",
       "      <td>26.0</td>\n",
       "    </tr>\n",
       "  </tbody>\n",
       "</table>\n",
       "</div>"
      ],
      "text/plain": [
       "   appln_id_1  appln_id_2  is_in_1 is_in_2 exact_twins_1 exact_twins_2  \\\n",
       "0    53183756    43721146        1    None             0          None   \n",
       "1    48020590    42184007        1    None             0          None   \n",
       "2   332950035    42175701        1    None             0          None   \n",
       "3    49164078   405869250        1    None             0          None   \n",
       "4    54173955    42175701        1    None             0          None   \n",
       "5    54219757    42021837        1    None             0          None   \n",
       "6    54191354     3408454        1    None             0          None   \n",
       "\n",
       "  appln_auth_1 appln_kind_1  appln_filing_year_1 appln_auth_2 appln_kind_2  \\\n",
       "0           US           A                2007.0           SK           A    \n",
       "1           US           A                2008.0           NZ           A    \n",
       "2           US           A                2010.0           NZ           A    \n",
       "3           US           A                2002.0           JO           A    \n",
       "4           US           A                2001.0           NZ           A    \n",
       "5           US           A                2004.0           NO           A    \n",
       "6           US           A                2001.0         None         None   \n",
       "\n",
       "   appln_filing_year_2  docdb_family_id  docdb_family_size  \n",
       "0               1993.0        4230929.0               44.0  \n",
       "1               1993.0       25536845.0              255.0  \n",
       "2               1994.0       22245764.0              110.0  \n",
       "3               1994.0        3505998.0               19.0  \n",
       "4               1994.0       22245764.0              110.0  \n",
       "5               1992.0        6399399.0               32.0  \n",
       "6                  NaN       21779630.0               26.0  "
      ]
     },
     "execution_count": 54,
     "metadata": {},
     "output_type": "execute_result"
    }
   ],
   "source": [
    "df.head(7)"
   ]
  },
  {
   "cell_type": "markdown",
   "metadata": {},
   "source": [
    "## 7.5. Exporting the table to GCP Bucket"
   ]
  },
  {
   "cell_type": "code",
   "execution_count": 55,
   "metadata": {},
   "outputs": [],
   "source": [
    "# from google.cloud import bigquery\n",
    "client = bigquery.Client()\n",
    "bucket_name = 'patent-results'\n",
    "folder_name = 'exactTwins'\n",
    "\n",
    "project = 'usptobias'\n",
    "dataset_id = 'results_docdb'\n",
    "table_id = 'not_mutual_info'\n",
    "\n",
    "destination_uri = 'gs://{}/{}/{}'.format(bucket_name, folder_name, 'not_mutual.csv.gz')\n",
    "dataset_ref = client.dataset(dataset_id, project=project)\n",
    "table_ref = dataset_ref.table(table_id)\n",
    "\n",
    "\n",
    "job_config = bigquery.job.ExtractJobConfig()\n",
    "\n",
    "job_config.compression = \"GZIP\"\n",
    "job_config.destinationFormat = \"CSV\""
   ]
  },
  {
   "cell_type": "code",
   "execution_count": 56,
   "metadata": {},
   "outputs": [
    {
     "name": "stdout",
     "output_type": "stream",
     "text": [
      "Exported usptobias:results_docdb.not_mutual_info to gs://patent-results/exactTwins/not_mutual.csv.gz\n"
     ]
    }
   ],
   "source": [
    "extract_job = client.extract_table(\n",
    "    table_ref,\n",
    "    destination_uri,\n",
    "    # Location must match that of the source table.\n",
    "    location='US',\n",
    "    job_config=job_config)  # API request\n",
    "extract_job.result()  # Waits for job to complete.\n",
    "7\n",
    "print('Exported {}:{}.{} to {}'.format(\n",
    "    project, dataset_id, table_id, destination_uri))"
   ]
  },
  {
   "cell_type": "code",
   "execution_count": null,
   "metadata": {},
   "outputs": [],
   "source": []
  }
 ],
 "metadata": {
  "kernelspec": {
   "display_name": "Python 3",
   "language": "python",
   "name": "python3"
  },
  "language_info": {
   "codemirror_mode": {
    "name": "ipython",
    "version": 3
   },
   "file_extension": ".py",
   "mimetype": "text/x-python",
   "name": "python",
   "nbconvert_exporter": "python",
   "pygments_lexer": "ipython3",
   "version": "3.7.2"
  }
 },
 "nbformat": 4,
 "nbformat_minor": 2
}
