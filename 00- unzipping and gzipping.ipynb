{
 "cells": [
  {
   "cell_type": "code",
   "execution_count": 21,
   "metadata": {},
   "outputs": [],
   "source": [
    "from zipfile import ZipFile\n",
    "import os\n",
    "import re\n",
    "import gzip"
   ]
  },
  {
   "cell_type": "code",
   "execution_count": 22,
   "metadata": {},
   "outputs": [],
   "source": [
    "# Loading the list of file in './data/' directory\n",
    "pattern = r'(.*)\\.zip'\n",
    "files_n = [[par_n,re.match(pattern, file)[1]] for par_n, dir_n, file_n in os.walk('./data/') \n",
    "           for file in file_n if re.match(pattern, file)!=None]"
   ]
  },
  {
   "cell_type": "code",
   "execution_count": 23,
   "metadata": {},
   "outputs": [
    {
     "data": {
      "text/plain": [
       "[['./data/', 'application.tsv'], ['./data/', 'patent.tsv']]"
      ]
     },
     "execution_count": 23,
     "metadata": {},
     "output_type": "execute_result"
    }
   ],
   "source": [
    "files_n"
   ]
  },
  {
   "cell_type": "code",
   "execution_count": 24,
   "metadata": {},
   "outputs": [
    {
     "data": {
      "text/plain": [
       "[('./data/',\n",
       "  ['.ipynb_checkpoints'],\n",
       "  ['rawexaminer.tsv.gz',\n",
       "   'patent_assignee.tsv.gz',\n",
       "   'DataCatalog_Global_v5.12.pdf',\n",
       "   'lawyer.tsv.gz',\n",
       "   'application.tsv.zip',\n",
       "   'patent_lawyer.tsv.gz',\n",
       "   'rawlawyer.tsv.gz',\n",
       "   'patent.tsv.zip']),\n",
       " ('./data/.ipynb_checkpoints', [], [])]"
      ]
     },
     "execution_count": 24,
     "metadata": {},
     "output_type": "execute_result"
    }
   ],
   "source": [
    "list(os.walk(files_n[0][0]))"
   ]
  },
  {
   "cell_type": "code",
   "execution_count": 27,
   "metadata": {},
   "outputs": [
    {
     "name": "stdout",
     "output_type": "stream",
     "text": [
      "./data/application.tsv.zip\n",
      "./data/patent.tsv.zip\n"
     ]
    }
   ],
   "source": [
    "for path, file in files_n:\n",
    "    print(path+file+'.zip')\n",
    "    # Extracting the zip file\n",
    "    #with ZipFile(path+file+'.zip', 'r') as zipf:\n",
    "    #    zipf.extractall('./')\n",
    "    # Compressing the extracted text file using gzip compression\n",
    "    with open(path+file, 'rb') as f_in, gzip.open(path+file+'.gz', 'wb') as f_out:\n",
    "        f_out.writelines(f_in)\n",
    "    # Removing the extracted text file\n",
    "    os.remove(path+file)"
   ]
  },
  {
   "cell_type": "code",
   "execution_count": 84,
   "metadata": {},
   "outputs": [],
   "source": [
    "import pandas as pd"
   ]
  },
  {
   "cell_type": "code",
   "execution_count": 90,
   "metadata": {},
   "outputs": [
    {
     "data": {
      "text/html": [
       "<div>\n",
       "<style scoped>\n",
       "    .dataframe tbody tr th:only-of-type {\n",
       "        vertical-align: middle;\n",
       "    }\n",
       "\n",
       "    .dataframe tbody tr th {\n",
       "        vertical-align: top;\n",
       "    }\n",
       "\n",
       "    .dataframe thead th {\n",
       "        text-align: right;\n",
       "    }\n",
       "</style>\n",
       "<table border=\"1\" class=\"dataframe\">\n",
       "  <thead>\n",
       "    <tr style=\"text-align: right;\">\n",
       "      <th></th>\n",
       "      <th>appln_id</th>\n",
       "      <th>appln_auth</th>\n",
       "      <th>appln_nr</th>\n",
       "      <th>appln_kind</th>\n",
       "      <th>appln_filing_date</th>\n",
       "      <th>appln_filing_year</th>\n",
       "      <th>appln_nr_epodoc</th>\n",
       "      <th>appln_nr_original</th>\n",
       "      <th>ipr_type</th>\n",
       "      <th>receiving_office</th>\n",
       "      <th>...</th>\n",
       "      <th>earliest_publn_date</th>\n",
       "      <th>earliest_publn_year</th>\n",
       "      <th>earliest_pat_publn_id</th>\n",
       "      <th>granted</th>\n",
       "      <th>docdb_family_id</th>\n",
       "      <th>inpadoc_family_id</th>\n",
       "      <th>docdb_family_size</th>\n",
       "      <th>nb_citing_docdb_fam</th>\n",
       "      <th>nb_applicants</th>\n",
       "      <th>nb_inventors</th>\n",
       "    </tr>\n",
       "  </thead>\n",
       "  <tbody>\n",
       "    <tr>\n",
       "      <th>0</th>\n",
       "      <td>0</td>\n",
       "      <td>XX</td>\n",
       "      <td>NaN</td>\n",
       "      <td>D</td>\n",
       "      <td>9999-12-31</td>\n",
       "      <td>9999</td>\n",
       "      <td>NaN</td>\n",
       "      <td>NaN</td>\n",
       "      <td>PI</td>\n",
       "      <td></td>\n",
       "      <td>...</td>\n",
       "      <td>9999-12-31</td>\n",
       "      <td>9999</td>\n",
       "      <td>0</td>\n",
       "      <td>N</td>\n",
       "      <td>0</td>\n",
       "      <td>0</td>\n",
       "      <td>1</td>\n",
       "      <td>0</td>\n",
       "      <td>0</td>\n",
       "      <td>0</td>\n",
       "    </tr>\n",
       "    <tr>\n",
       "      <th>1</th>\n",
       "      <td>1</td>\n",
       "      <td>EP</td>\n",
       "      <td>103094.0</td>\n",
       "      <td>A</td>\n",
       "      <td>2000-02-15</td>\n",
       "      <td>2000</td>\n",
       "      <td>EP20000103094</td>\n",
       "      <td>103094.0</td>\n",
       "      <td>PI</td>\n",
       "      <td></td>\n",
       "      <td>...</td>\n",
       "      <td>2000-09-20</td>\n",
       "      <td>2000</td>\n",
       "      <td>293253293</td>\n",
       "      <td>Y</td>\n",
       "      <td>8554171</td>\n",
       "      <td>1</td>\n",
       "      <td>6</td>\n",
       "      <td>73</td>\n",
       "      <td>1</td>\n",
       "      <td>4</td>\n",
       "    </tr>\n",
       "    <tr>\n",
       "      <th>2</th>\n",
       "      <td>2</td>\n",
       "      <td>EP</td>\n",
       "      <td>107845.0</td>\n",
       "      <td>A</td>\n",
       "      <td>1992-12-02</td>\n",
       "      <td>1992</td>\n",
       "      <td>EP20000107845</td>\n",
       "      <td>107845.0</td>\n",
       "      <td>PI</td>\n",
       "      <td></td>\n",
       "      <td>...</td>\n",
       "      <td>2000-08-02</td>\n",
       "      <td>2000</td>\n",
       "      <td>301548848</td>\n",
       "      <td>Y</td>\n",
       "      <td>27517085</td>\n",
       "      <td>951257</td>\n",
       "      <td>9</td>\n",
       "      <td>38</td>\n",
       "      <td>2</td>\n",
       "      <td>6</td>\n",
       "    </tr>\n",
       "    <tr>\n",
       "      <th>3</th>\n",
       "      <td>3</td>\n",
       "      <td>EP</td>\n",
       "      <td>202556.0</td>\n",
       "      <td>A</td>\n",
       "      <td>2000-07-17</td>\n",
       "      <td>2000</td>\n",
       "      <td>EP20000202556</td>\n",
       "      <td>202556.0</td>\n",
       "      <td>PI</td>\n",
       "      <td></td>\n",
       "      <td>...</td>\n",
       "      <td>2001-01-24</td>\n",
       "      <td>2001</td>\n",
       "      <td>291964096</td>\n",
       "      <td>N</td>\n",
       "      <td>7915918</td>\n",
       "      <td>3</td>\n",
       "      <td>4</td>\n",
       "      <td>17</td>\n",
       "      <td>2</td>\n",
       "      <td>3</td>\n",
       "    </tr>\n",
       "    <tr>\n",
       "      <th>4</th>\n",
       "      <td>4</td>\n",
       "      <td>EP</td>\n",
       "      <td>300208.0</td>\n",
       "      <td>A</td>\n",
       "      <td>2000-01-13</td>\n",
       "      <td>2000</td>\n",
       "      <td>EP20000300208</td>\n",
       "      <td>300208.0</td>\n",
       "      <td>PI</td>\n",
       "      <td></td>\n",
       "      <td>...</td>\n",
       "      <td>2000-07-26</td>\n",
       "      <td>2000</td>\n",
       "      <td>292901055</td>\n",
       "      <td>Y</td>\n",
       "      <td>22889365</td>\n",
       "      <td>4</td>\n",
       "      <td>6</td>\n",
       "      <td>24</td>\n",
       "      <td>1</td>\n",
       "      <td>2</td>\n",
       "    </tr>\n",
       "  </tbody>\n",
       "</table>\n",
       "<p>5 rows × 27 columns</p>\n",
       "</div>"
      ],
      "text/plain": [
       "   appln_id appln_auth  appln_nr appln_kind appln_filing_date  \\\n",
       "0         0         XX       NaN         D         9999-12-31   \n",
       "1         1         EP  103094.0         A         2000-02-15   \n",
       "2         2         EP  107845.0         A         1992-12-02   \n",
       "3         3         EP  202556.0         A         2000-07-17   \n",
       "4         4         EP  300208.0         A         2000-01-13   \n",
       "\n",
       "   appln_filing_year appln_nr_epodoc  appln_nr_original ipr_type  \\\n",
       "0               9999             NaN                NaN       PI   \n",
       "1               2000   EP20000103094           103094.0       PI   \n",
       "2               1992   EP20000107845           107845.0       PI   \n",
       "3               2000   EP20000202556           202556.0       PI   \n",
       "4               2000   EP20000300208           300208.0       PI   \n",
       "\n",
       "  receiving_office      ...       earliest_publn_date earliest_publn_year  \\\n",
       "0                       ...                9999-12-31                9999   \n",
       "1                       ...                2000-09-20                2000   \n",
       "2                       ...                2000-08-02                2000   \n",
       "3                       ...                2001-01-24                2001   \n",
       "4                       ...                2000-07-26                2000   \n",
       "\n",
       "  earliest_pat_publn_id granted docdb_family_id  inpadoc_family_id  \\\n",
       "0                     0       N               0                  0   \n",
       "1             293253293       Y         8554171                  1   \n",
       "2             301548848       Y        27517085             951257   \n",
       "3             291964096       N         7915918                  3   \n",
       "4             292901055       Y        22889365                  4   \n",
       "\n",
       "   docdb_family_size nb_citing_docdb_fam  nb_applicants  nb_inventors  \n",
       "0                  1                   0              0             0  \n",
       "1                  6                  73              1             4  \n",
       "2                  9                  38              2             6  \n",
       "3                  4                  17              2             3  \n",
       "4                  6                  24              1             2  \n",
       "\n",
       "[5 rows x 27 columns]"
      ]
     },
     "execution_count": 90,
     "metadata": {},
     "output_type": "execute_result"
    }
   ],
   "source": [
    "df = pd.read_csv(files_n[0][0]+files_n[0][1]+'.txt.gz', compression='gzip', sep=',', nrows=100, header=0)\n",
    "\n",
    "df.head()"
   ]
  },
  {
   "cell_type": "code",
   "execution_count": null,
   "metadata": {},
   "outputs": [],
   "source": []
  }
 ],
 "metadata": {
  "kernelspec": {
   "display_name": "Python 3",
   "language": "python",
   "name": "python3"
  },
  "language_info": {
   "codemirror_mode": {
    "name": "ipython",
    "version": 3
   },
   "file_extension": ".py",
   "mimetype": "text/x-python",
   "name": "python",
   "nbconvert_exporter": "python",
   "pygments_lexer": "ipython3",
   "version": "3.7.2"
  }
 },
 "nbformat": 4,
 "nbformat_minor": 2
}
