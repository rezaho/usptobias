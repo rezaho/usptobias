{
 "cells": [
  {
   "cell_type": "code",
   "execution_count": 1,
   "metadata": {},
   "outputs": [],
   "source": [
    "import pandas as pd\n",
    "from google.cloud import bigquery"
   ]
  },
  {
   "cell_type": "markdown",
   "metadata": {},
   "source": [
    "# 1.Creating USPatents table"
   ]
  },
  {
   "cell_type": "code",
   "execution_count": 218,
   "metadata": {},
   "outputs": [],
   "source": [
    "client = bigquery.Client()"
   ]
  },
  {
   "cell_type": "markdown",
   "metadata": {},
   "source": [
    "## 1.1. Query from tls201"
   ]
  },
  {
   "cell_type": "code",
   "execution_count": 219,
   "metadata": {},
   "outputs": [],
   "source": [
    "# Creating Job Config\n",
    "job_config = bigquery.QueryJobConfig()\n",
    "#job_config.dry_run = True\n",
    "job_config.use_query_cache = False\n",
    "\n",
    "# Set the destination table\n",
    "dataset_id = 'results'\n",
    "table_id = 'USPatents'\n",
    "table_ref = client.dataset(dataset_id).table(table_id)\n",
    "job_config.destination = table_ref"
   ]
  },
  {
   "cell_type": "code",
   "execution_count": 220,
   "metadata": {},
   "outputs": [],
   "source": [
    "sql = \"\"\"\n",
    "    SELECT\n",
    "            appln_id,\n",
    "            appln_nr,\n",
    "            appln_auth,\n",
    "            appln_kind,\n",
    "            appln_filing_year,\n",
    "            docdb_family_id,\n",
    "            inpadoc_family_id,\n",
    "            docdb_family_size\n",
    "    FROM\n",
    "            `usptobias.patstat.tls201`\n",
    "    WHERE\n",
    "            appln_auth = 'US'\n",
    "            AND appln_filing_year BETWEEN 2001 AND 2018\n",
    "            AND appln_kind = 'A '\n",
    "     \"\"\"\n",
    "# Defining the query\n",
    "query_job = client.query(\n",
    "    sql,\n",
    "    # Location must match that of the dataset(s) referenced in the query.\n",
    "    location='US',\n",
    "    job_config=job_config)"
   ]
  },
  {
   "cell_type": "code",
   "execution_count": null,
   "metadata": {},
   "outputs": [],
   "source": [
    "# A dry run query completes immediately.\n",
    "assert query_job.state == 'DONE'\n",
    "assert query_job.dry_run"
   ]
  },
  {
   "cell_type": "code",
   "execution_count": 125,
   "metadata": {},
   "outputs": [
    {
     "name": "stdout",
     "output_type": "stream",
     "text": [
      "This query will process 3.09 Gb.\n"
     ]
    }
   ],
   "source": [
    "print(\"This query will process {:.2f} Gb.\".format(\n",
    "    query_job.total_bytes_processed/1e9))"
   ]
  },
  {
   "cell_type": "code",
   "execution_count": 222,
   "metadata": {},
   "outputs": [
    {
     "data": {
      "text/plain": [
       "<google.cloud.bigquery.table.RowIterator at 0x7f863ed7bf98>"
      ]
     },
     "execution_count": 222,
     "metadata": {},
     "output_type": "execute_result"
    }
   ],
   "source": [
    "query_job.result()"
   ]
  },
  {
   "cell_type": "markdown",
   "metadata": {},
   "source": [
    "## 1.2. Getting tables information"
   ]
  },
  {
   "cell_type": "code",
   "execution_count": 223,
   "metadata": {},
   "outputs": [
    {
     "name": "stdout",
     "output_type": "stream",
     "text": [
      "[SchemaField('appln_id', 'INTEGER', 'NULLABLE', None, ()), SchemaField('appln_nr', 'STRING', 'NULLABLE', None, ()), SchemaField('appln_auth', 'STRING', 'NULLABLE', None, ()), SchemaField('appln_kind', 'STRING', 'NULLABLE', None, ()), SchemaField('appln_filing_year', 'INTEGER', 'NULLABLE', None, ()), SchemaField('docdb_family_id', 'INTEGER', 'NULLABLE', None, ()), SchemaField('inpadoc_family_id', 'INTEGER', 'NULLABLE', None, ()), SchemaField('docdb_family_size', 'INTEGER', 'NULLABLE', None, ())]\n",
      "None\n",
      "\n",
      "There are 5,721,874 number of records in total!\n"
     ]
    }
   ],
   "source": [
    "# from google.cloud import bigquery\n",
    "# client = bigquery.Client()\n",
    "dataset_id = 'results'\n",
    "table_id = 'USPatents'\n",
    "\n",
    "dataset_ref = client.dataset(dataset_id)\n",
    "table_ref = dataset_ref.table(table_id)\n",
    "table = client.get_table(table_ref)  # API Request\n",
    "\n",
    "# View table properties\n",
    "print(table.schema)\n",
    "print(table.description)\n",
    "print(\"\\nThere are {:,} number of records in total!\".format(table.num_rows))"
   ]
  },
  {
   "cell_type": "markdown",
   "metadata": {},
   "source": [
    "## 1.3. Loading 100 rows from the table"
   ]
  },
  {
   "cell_type": "code",
   "execution_count": 224,
   "metadata": {},
   "outputs": [],
   "source": [
    "# from google.cloud import bigquery\n",
    "# client = bigquery.Client()\n",
    "dataset_id = 'results'\n",
    "table_id = 'USPatents'\n",
    "\n",
    "dataset_ref = client.dataset(dataset_id, project=\"usptobias\")\n",
    "table_ref = dataset_ref.table(table_id)\n",
    "table = client.get_table(table_ref)  # API call"
   ]
  },
  {
   "cell_type": "code",
   "execution_count": 225,
   "metadata": {},
   "outputs": [
    {
     "data": {
      "text/html": [
       "<div>\n",
       "<style scoped>\n",
       "    .dataframe tbody tr th:only-of-type {\n",
       "        vertical-align: middle;\n",
       "    }\n",
       "\n",
       "    .dataframe tbody tr th {\n",
       "        vertical-align: top;\n",
       "    }\n",
       "\n",
       "    .dataframe thead th {\n",
       "        text-align: right;\n",
       "    }\n",
       "</style>\n",
       "<table border=\"1\" class=\"dataframe\">\n",
       "  <thead>\n",
       "    <tr style=\"text-align: right;\">\n",
       "      <th></th>\n",
       "      <th>appln_id</th>\n",
       "      <th>appln_nr</th>\n",
       "      <th>appln_auth</th>\n",
       "      <th>appln_kind</th>\n",
       "      <th>appln_filing_year</th>\n",
       "      <th>docdb_family_id</th>\n",
       "      <th>inpadoc_family_id</th>\n",
       "      <th>docdb_family_size</th>\n",
       "    </tr>\n",
       "  </thead>\n",
       "  <tbody>\n",
       "    <tr>\n",
       "      <th>0</th>\n",
       "      <td>494272221</td>\n",
       "      <td>201815867977</td>\n",
       "      <td>US</td>\n",
       "      <td>A</td>\n",
       "      <td>2018</td>\n",
       "      <td>48678198</td>\n",
       "      <td>9178046</td>\n",
       "      <td>24</td>\n",
       "    </tr>\n",
       "    <tr>\n",
       "      <th>1</th>\n",
       "      <td>494672019</td>\n",
       "      <td>201815874000</td>\n",
       "      <td>US</td>\n",
       "      <td>A</td>\n",
       "      <td>2018</td>\n",
       "      <td>47988734</td>\n",
       "      <td>9390840</td>\n",
       "      <td>20</td>\n",
       "    </tr>\n",
       "    <tr>\n",
       "      <th>2</th>\n",
       "      <td>494916727</td>\n",
       "      <td>201815877768</td>\n",
       "      <td>US</td>\n",
       "      <td>A</td>\n",
       "      <td>2018</td>\n",
       "      <td>44857282</td>\n",
       "      <td>8440040</td>\n",
       "      <td>16</td>\n",
       "    </tr>\n",
       "    <tr>\n",
       "      <th>3</th>\n",
       "      <td>495177195</td>\n",
       "      <td>201815885038</td>\n",
       "      <td>US</td>\n",
       "      <td>A</td>\n",
       "      <td>2018</td>\n",
       "      <td>35516459</td>\n",
       "      <td>1601313</td>\n",
       "      <td>17</td>\n",
       "    </tr>\n",
       "    <tr>\n",
       "      <th>4</th>\n",
       "      <td>495179059</td>\n",
       "      <td>201815875308</td>\n",
       "      <td>US</td>\n",
       "      <td>A</td>\n",
       "      <td>2018</td>\n",
       "      <td>38123420</td>\n",
       "      <td>1601941</td>\n",
       "      <td>31</td>\n",
       "    </tr>\n",
       "  </tbody>\n",
       "</table>\n",
       "</div>"
      ],
      "text/plain": [
       "    appln_id      appln_nr appln_auth appln_kind  appln_filing_year  \\\n",
       "0  494272221  201815867977         US         A                2018   \n",
       "1  494672019  201815874000         US         A                2018   \n",
       "2  494916727  201815877768         US         A                2018   \n",
       "3  495177195  201815885038         US         A                2018   \n",
       "4  495179059  201815875308         US         A                2018   \n",
       "\n",
       "   docdb_family_id  inpadoc_family_id  docdb_family_size  \n",
       "0         48678198            9178046                 24  \n",
       "1         47988734            9390840                 20  \n",
       "2         44857282            8440040                 16  \n",
       "3         35516459            1601313                 17  \n",
       "4         38123420            1601941                 31  "
      ]
     },
     "execution_count": 225,
     "metadata": {},
     "output_type": "execute_result"
    }
   ],
   "source": [
    "## Getting the first 100 lines of codes\n",
    "# Load the first 10 rows\n",
    "rows = client.list_rows(table, max_results=10000)\n",
    "\n",
    "#pd.DataFrame(rows)\n",
    "df = rows.to_dataframe()\n",
    "\n",
    "df.head()"
   ]
  },
  {
   "cell_type": "markdown",
   "metadata": {},
   "source": [
    "## Deleting a table"
   ]
  },
  {
   "cell_type": "code",
   "execution_count": 217,
   "metadata": {},
   "outputs": [
    {
     "name": "stdout",
     "output_type": "stream",
     "text": [
      "Table results:USPatents deleted.\n"
     ]
    }
   ],
   "source": [
    "# from google.cloud import bigquery\n",
    "# client = bigquery.Client()\n",
    "dataset_id = 'results'\n",
    "table_id = 'USPatents'\n",
    "\n",
    "table_ref = client.dataset(dataset_id).table(table_id)\n",
    "#client.delete_table(table_ref)  # API request\n",
    "\n",
    "print(\"Table {}:{} deleted.\".format(dataset_id, table_id))"
   ]
  },
  {
   "cell_type": "markdown",
   "metadata": {},
   "source": [
    "# 2. USOnInpadoc: USPatents Join on Inpadoc with tls201"
   ]
  },
  {
   "cell_type": "code",
   "execution_count": 226,
   "metadata": {},
   "outputs": [],
   "source": [
    "client = bigquery.Client()"
   ]
  },
  {
   "cell_type": "markdown",
   "metadata": {},
   "source": [
    "## 2.1. First Query: Generating merged table"
   ]
  },
  {
   "cell_type": "code",
   "execution_count": 232,
   "metadata": {},
   "outputs": [],
   "source": [
    "# Creating Job Config\n",
    "job_config = bigquery.QueryJobConfig()\n",
    "#job_config.dry_run = True\n",
    "job_config.use_query_cache = False\n",
    "\n",
    "# Set the destination table\n",
    "dataset_id = 'results'\n",
    "table_id = 'USOnInpadoc'\n",
    "table_ref = client.dataset(dataset_id).table(table_id)\n",
    "job_config.destination = table_ref"
   ]
  },
  {
   "cell_type": "code",
   "execution_count": 233,
   "metadata": {},
   "outputs": [],
   "source": [
    "sql = \"\"\"\n",
    "    SELECT DISTINCT\n",
    "            t1.appln_id AS appln_id_1,\n",
    "            t1.appln_nr AS appln_nr_1,\n",
    "            t1.appln_auth AS appln_auth_1,\n",
    "            t1.appln_filing_year AS appln_filing_year_1,\n",
    "            t2.appln_id AS appln_id_2,\n",
    "            t2.appln_nr AS appln_nr_2,\n",
    "            t2.appln_auth AS appln_auth_2,\n",
    "            t2.appln_filing_year AS appln_filing_year_2,\n",
    "            t1.inpadoc_family_id AS inpadoc_family_id\n",
    "    FROM\n",
    "            `usptobias.results.USPatents` AS t1\n",
    "        LEFT JOIN\n",
    "            `usptobias.patstat.tls201` AS t2\n",
    "        ON\n",
    "            t1.inpadoc_family_id=t2.inpadoc_family_id\n",
    "    WHERE\n",
    "            t1.appln_id<>t2.appln_id\n",
    "            AND t2.appln_filing_year BETWEEN 2001 AND 2018\n",
    "            AND t2.appln_kind = 'A '\n",
    "     \"\"\"\n",
    "# Defining the query\n",
    "query_job = client.query(\n",
    "    sql,\n",
    "    # Location must match that of the dataset(s) referenced in the query.\n",
    "    location='US',\n",
    "    job_config=job_config)"
   ]
  },
  {
   "cell_type": "code",
   "execution_count": null,
   "metadata": {},
   "outputs": [],
   "source": [
    "print(\"This query will process {:.2f} Gb.\".format(\n",
    "    query_job.total_bytes_processed/1e9))"
   ]
  },
  {
   "cell_type": "code",
   "execution_count": 234,
   "metadata": {},
   "outputs": [
    {
     "data": {
      "text/plain": [
       "<google.cloud.bigquery.table.RowIterator at 0x7f8640227240>"
      ]
     },
     "execution_count": 234,
     "metadata": {},
     "output_type": "execute_result"
    }
   ],
   "source": [
    "query_job.result()"
   ]
  },
  {
   "cell_type": "markdown",
   "metadata": {},
   "source": [
    "## 2.2. Getting Information of USOnInpadoc table"
   ]
  },
  {
   "cell_type": "code",
   "execution_count": 235,
   "metadata": {},
   "outputs": [
    {
     "name": "stdout",
     "output_type": "stream",
     "text": [
      "[SchemaField('appln_id_1', 'INTEGER', 'NULLABLE', None, ()), SchemaField('appln_nr_1', 'STRING', 'NULLABLE', None, ()), SchemaField('appln_auth_1', 'STRING', 'NULLABLE', None, ()), SchemaField('appln_filing_year_1', 'INTEGER', 'NULLABLE', None, ()), SchemaField('appln_id_2', 'INTEGER', 'NULLABLE', None, ()), SchemaField('appln_nr_2', 'STRING', 'NULLABLE', None, ()), SchemaField('appln_auth_2', 'STRING', 'NULLABLE', None, ()), SchemaField('appln_filing_year_2', 'INTEGER', 'NULLABLE', None, ()), SchemaField('inpadoc_family_id', 'INTEGER', 'NULLABLE', None, ())]\n",
      "None\n",
      "\n",
      "There are 51,294,652 number of records in total!\n"
     ]
    }
   ],
   "source": [
    "# from google.cloud import bigquery\n",
    "# client = bigquery.Client()\n",
    "dataset_id = 'results'\n",
    "table_id = 'USOnInpadoc'\n",
    "\n",
    "dataset_ref = client.dataset(dataset_id)\n",
    "table_ref = dataset_ref.table(table_id)\n",
    "table = client.get_table(table_ref)  # API Request\n",
    "\n",
    "# View table properties\n",
    "print(table.schema)\n",
    "print(table.description)\n",
    "print(\"\\nThere are {:,} number of records in total!\".format(table.num_rows))"
   ]
  },
  {
   "cell_type": "markdown",
   "metadata": {},
   "source": [
    "## 2.3. Second Query: Counting number of pairs"
   ]
  },
  {
   "cell_type": "code",
   "execution_count": 236,
   "metadata": {},
   "outputs": [],
   "source": [
    "# Creating Job Config\n",
    "job_config = bigquery.QueryJobConfig()\n",
    "#job_config.dry_run = True\n",
    "job_config.use_query_cache = False\n",
    "# Set configuration.query.createDisposition\n",
    "job_config.create_disposition = 'CREATE_IF_NEEDED'\n",
    "# Set configuration.query.writeDisposition\n",
    "job_config.write_disposition = 'WRITE_APPEND'\n",
    "\n",
    "# Set the destination table\n",
    "dataset_id = 'results'\n",
    "table_id = 'USOnInpadoc2'\n",
    "table_ref = client.dataset(dataset_id).table(table_id)\n",
    "job_config.destination = table_ref"
   ]
  },
  {
   "cell_type": "code",
   "execution_count": 237,
   "metadata": {},
   "outputs": [],
   "source": [
    "# Number of pairs\n",
    "sql = \"\"\"\n",
    "    SELECT\n",
    "            t1.*,\n",
    "            t2.inpadoc_nb_pairs\n",
    "    FROM\n",
    "            `usptobias.results.USOnInpadoc` AS t1\n",
    "        LEFT JOIN\n",
    "            (\n",
    "            SELECT\n",
    "                    inpadoc_family_id,\n",
    "                    appln_auth_2,\n",
    "                    COUNT(*) AS inpadoc_nb_pairs\n",
    "            FROM\n",
    "                    `usptobias.results.USOnInpadoc`\n",
    "            GROUP BY\n",
    "                    inpadoc_family_id, appln_auth_2\n",
    "            ) AS t2\n",
    "        ON\n",
    "            t1.inpadoc_family_id=t2.inpadoc_family_id AND t1.appln_auth_2 = t2.appln_auth_2\n",
    "     \"\"\"\n",
    "# Defining the query\n",
    "query_job = client.query(\n",
    "    sql,\n",
    "    # Location must match that of the dataset(s) referenced in the query.\n",
    "    location='US',\n",
    "    job_config=job_config)"
   ]
  },
  {
   "cell_type": "code",
   "execution_count": 238,
   "metadata": {},
   "outputs": [
    {
     "data": {
      "text/plain": [
       "<google.cloud.bigquery.table.RowIterator at 0x7f863ebe3eb8>"
      ]
     },
     "execution_count": 238,
     "metadata": {},
     "output_type": "execute_result"
    }
   ],
   "source": [
    "query_job.result()"
   ]
  },
  {
   "cell_type": "markdown",
   "metadata": {},
   "source": [
    "## 2.4. Getting the information of \"USOnInpadoc2\" table"
   ]
  },
  {
   "cell_type": "code",
   "execution_count": 239,
   "metadata": {},
   "outputs": [
    {
     "name": "stdout",
     "output_type": "stream",
     "text": [
      "[SchemaField('appln_id_1', 'INTEGER', 'NULLABLE', None, ()), SchemaField('appln_nr_1', 'STRING', 'NULLABLE', None, ()), SchemaField('appln_auth_1', 'STRING', 'NULLABLE', None, ()), SchemaField('appln_filing_year_1', 'INTEGER', 'NULLABLE', None, ()), SchemaField('appln_id_2', 'INTEGER', 'NULLABLE', None, ()), SchemaField('appln_nr_2', 'STRING', 'NULLABLE', None, ()), SchemaField('appln_auth_2', 'STRING', 'NULLABLE', None, ()), SchemaField('appln_filing_year_2', 'INTEGER', 'NULLABLE', None, ()), SchemaField('inpadoc_family_id', 'INTEGER', 'NULLABLE', None, ()), SchemaField('inpadoc_nb_pairs', 'INTEGER', 'NULLABLE', None, ())]\n",
      "None\n",
      "\n",
      "There are 51,294,652 number of records in total!\n"
     ]
    }
   ],
   "source": [
    "# from google.cloud import bigquery\n",
    "# client = bigquery.Client()\n",
    "dataset_id = 'results'\n",
    "table_id = 'USOnInpadoc2'\n",
    "\n",
    "dataset_ref = client.dataset(dataset_id)\n",
    "table_ref = dataset_ref.table(table_id)\n",
    "table = client.get_table(table_ref)  # API Request\n",
    "\n",
    "# View table properties\n",
    "print(table.schema)\n",
    "print(table.description)\n",
    "print(\"\\nThere are {:,} number of records in total!\".format(table.num_rows))"
   ]
  },
  {
   "cell_type": "markdown",
   "metadata": {},
   "source": [
    "## 2.5. Loading 100 rows from the table"
   ]
  },
  {
   "cell_type": "code",
   "execution_count": 240,
   "metadata": {},
   "outputs": [],
   "source": [
    "# from google.cloud import bigquery\n",
    "# client = bigquery.Client()\n",
    "dataset_id = 'results'\n",
    "table_id = 'USOnInpadoc2'\n",
    "\n",
    "dataset_ref = client.dataset(dataset_id, project=\"usptobias\")\n",
    "table_ref = dataset_ref.table(table_id)\n",
    "table = client.get_table(table_ref)  # API call"
   ]
  },
  {
   "cell_type": "code",
   "execution_count": 241,
   "metadata": {},
   "outputs": [],
   "source": [
    "## Getting the first 100 lines of codes\n",
    "# Load the first 10 rows\n",
    "rows = client.list_rows(table, max_results=10000)\n",
    "\n",
    "#pd.DataFrame(rows)\n",
    "df = rows.to_dataframe()"
   ]
  },
  {
   "cell_type": "code",
   "execution_count": 242,
   "metadata": {},
   "outputs": [
    {
     "data": {
      "text/html": [
       "<div>\n",
       "<style scoped>\n",
       "    .dataframe tbody tr th:only-of-type {\n",
       "        vertical-align: middle;\n",
       "    }\n",
       "\n",
       "    .dataframe tbody tr th {\n",
       "        vertical-align: top;\n",
       "    }\n",
       "\n",
       "    .dataframe thead th {\n",
       "        text-align: right;\n",
       "    }\n",
       "</style>\n",
       "<table border=\"1\" class=\"dataframe\">\n",
       "  <thead>\n",
       "    <tr style=\"text-align: right;\">\n",
       "      <th></th>\n",
       "      <th>appln_id_1</th>\n",
       "      <th>appln_nr_1</th>\n",
       "      <th>appln_auth_1</th>\n",
       "      <th>appln_filing_year_1</th>\n",
       "      <th>appln_id_2</th>\n",
       "      <th>appln_nr_2</th>\n",
       "      <th>appln_auth_2</th>\n",
       "      <th>appln_filing_year_2</th>\n",
       "      <th>inpadoc_family_id</th>\n",
       "      <th>inpadoc_nb_pairs</th>\n",
       "    </tr>\n",
       "  </thead>\n",
       "  <tbody>\n",
       "    <tr>\n",
       "      <th>0</th>\n",
       "      <td>496646851</td>\n",
       "      <td>201815863684</td>\n",
       "      <td>US</td>\n",
       "      <td>2018</td>\n",
       "      <td>496643370</td>\n",
       "      <td>201815863608</td>\n",
       "      <td>US</td>\n",
       "      <td>2018</td>\n",
       "      <td>10956612</td>\n",
       "      <td>42</td>\n",
       "    </tr>\n",
       "    <tr>\n",
       "      <th>1</th>\n",
       "      <td>497185155</td>\n",
       "      <td>201815869955</td>\n",
       "      <td>US</td>\n",
       "      <td>2018</td>\n",
       "      <td>496706232</td>\n",
       "      <td>102018200772</td>\n",
       "      <td>DE</td>\n",
       "      <td>2018</td>\n",
       "      <td>10959988</td>\n",
       "      <td>1</td>\n",
       "    </tr>\n",
       "    <tr>\n",
       "      <th>2</th>\n",
       "      <td>497501666</td>\n",
       "      <td>201815860260</td>\n",
       "      <td>US</td>\n",
       "      <td>2018</td>\n",
       "      <td>497502448</td>\n",
       "      <td>201815876278</td>\n",
       "      <td>US</td>\n",
       "      <td>2018</td>\n",
       "      <td>10864254</td>\n",
       "      <td>1260</td>\n",
       "    </tr>\n",
       "    <tr>\n",
       "      <th>3</th>\n",
       "      <td>496933695</td>\n",
       "      <td>201815866128</td>\n",
       "      <td>US</td>\n",
       "      <td>2018</td>\n",
       "      <td>496931950</td>\n",
       "      <td>201815866157</td>\n",
       "      <td>US</td>\n",
       "      <td>2018</td>\n",
       "      <td>10962664</td>\n",
       "      <td>56</td>\n",
       "    </tr>\n",
       "    <tr>\n",
       "      <th>4</th>\n",
       "      <td>496063457</td>\n",
       "      <td>201815895416</td>\n",
       "      <td>US</td>\n",
       "      <td>2018</td>\n",
       "      <td>497509975</td>\n",
       "      <td>201815895377</td>\n",
       "      <td>US</td>\n",
       "      <td>2018</td>\n",
       "      <td>8440433</td>\n",
       "      <td>6</td>\n",
       "    </tr>\n",
       "    <tr>\n",
       "      <th>5</th>\n",
       "      <td>496659152</td>\n",
       "      <td>201815896116</td>\n",
       "      <td>US</td>\n",
       "      <td>2018</td>\n",
       "      <td>497509217</td>\n",
       "      <td>201815924461</td>\n",
       "      <td>US</td>\n",
       "      <td>2018</td>\n",
       "      <td>10895907</td>\n",
       "      <td>1482</td>\n",
       "    </tr>\n",
       "    <tr>\n",
       "      <th>6</th>\n",
       "      <td>494671554</td>\n",
       "      <td>201815875812</td>\n",
       "      <td>US</td>\n",
       "      <td>2018</td>\n",
       "      <td>494674983</td>\n",
       "      <td>201815875771</td>\n",
       "      <td>US</td>\n",
       "      <td>2018</td>\n",
       "      <td>10715184</td>\n",
       "      <td>12</td>\n",
       "    </tr>\n",
       "  </tbody>\n",
       "</table>\n",
       "</div>"
      ],
      "text/plain": [
       "   appln_id_1    appln_nr_1 appln_auth_1  appln_filing_year_1  appln_id_2  \\\n",
       "0   496646851  201815863684           US                 2018   496643370   \n",
       "1   497185155  201815869955           US                 2018   496706232   \n",
       "2   497501666  201815860260           US                 2018   497502448   \n",
       "3   496933695  201815866128           US                 2018   496931950   \n",
       "4   496063457  201815895416           US                 2018   497509975   \n",
       "5   496659152  201815896116           US                 2018   497509217   \n",
       "6   494671554  201815875812           US                 2018   494674983   \n",
       "\n",
       "     appln_nr_2 appln_auth_2  appln_filing_year_2  inpadoc_family_id  \\\n",
       "0  201815863608           US                 2018           10956612   \n",
       "1  102018200772           DE                 2018           10959988   \n",
       "2  201815876278           US                 2018           10864254   \n",
       "3  201815866157           US                 2018           10962664   \n",
       "4  201815895377           US                 2018            8440433   \n",
       "5  201815924461           US                 2018           10895907   \n",
       "6  201815875771           US                 2018           10715184   \n",
       "\n",
       "   inpadoc_nb_pairs  \n",
       "0                42  \n",
       "1                 1  \n",
       "2              1260  \n",
       "3                56  \n",
       "4                 6  \n",
       "5              1482  \n",
       "6                12  "
      ]
     },
     "execution_count": 242,
     "metadata": {},
     "output_type": "execute_result"
    }
   ],
   "source": [
    "df.head(7)"
   ]
  },
  {
   "cell_type": "markdown",
   "metadata": {},
   "source": [
    "## 2.5. Deleting the table"
   ]
  },
  {
   "cell_type": "code",
   "execution_count": 231,
   "metadata": {},
   "outputs": [
    {
     "name": "stdout",
     "output_type": "stream",
     "text": [
      "Table results:USOnInpadoc2 deleted.\n"
     ]
    }
   ],
   "source": [
    "# from google.cloud import bigquery\n",
    "# client = bigquery.Client()\n",
    "dataset_id = 'results'\n",
    "table_id = 'USOnInpadoc2'\n",
    "\n",
    "table_ref = client.dataset(dataset_id).table(table_id)\n",
    "#client.delete_table(table_ref)  # API request\n",
    "\n",
    "print(\"Table {}:{} deleted.\".format(dataset_id, table_id))"
   ]
  },
  {
   "cell_type": "markdown",
   "metadata": {},
   "source": [
    "# 3. Extrating Exact_twins table"
   ]
  },
  {
   "cell_type": "code",
   "execution_count": 244,
   "metadata": {},
   "outputs": [],
   "source": [
    "client = bigquery.Client()"
   ]
  },
  {
   "cell_type": "markdown",
   "metadata": {},
   "source": [
    "## 3.1. Query to generate the table"
   ]
  },
  {
   "cell_type": "code",
   "execution_count": 245,
   "metadata": {},
   "outputs": [],
   "source": [
    "job_config = bigquery.QueryJobConfig()\n",
    "job_config.user_query_cache = False\n",
    "\n",
    "# Set destination table\n",
    "dataset_id = 'results'\n",
    "table_id = 'USExactTwins'\n",
    "table_ref = client.dataset(dataset_id).table(table_id)\n",
    "job_config.destination = table_ref"
   ]
  },
  {
   "cell_type": "code",
   "execution_count": 246,
   "metadata": {},
   "outputs": [],
   "source": [
    "sql= \"\"\"\n",
    "    SELECT\n",
    "            *,\n",
    "            (\n",
    "            CASE \n",
    "                    WHEN inpadoc_nb_pairs=1 THEN 1\n",
    "                    ELSE 0\n",
    "            END\n",
    "            ) AS exact_twins\n",
    "    FROM\n",
    "            `usptobias.results.USOnInpadoc2`\n",
    "    \"\"\"\n",
    "\n",
    "# Defining the query job\n",
    "query_job = client.query(sql, location='US', job_config=job_config)"
   ]
  },
  {
   "cell_type": "code",
   "execution_count": 247,
   "metadata": {},
   "outputs": [
    {
     "data": {
      "text/plain": [
       "<google.cloud.bigquery.table.RowIterator at 0x7f863f126080>"
      ]
     },
     "execution_count": 247,
     "metadata": {},
     "output_type": "execute_result"
    }
   ],
   "source": [
    "query_job.result()"
   ]
  },
  {
   "cell_type": "markdown",
   "metadata": {},
   "source": [
    "## 3.2. Getting the table information"
   ]
  },
  {
   "cell_type": "code",
   "execution_count": 248,
   "metadata": {},
   "outputs": [
    {
     "name": "stdout",
     "output_type": "stream",
     "text": [
      "[SchemaField('appln_id_1', 'INTEGER', 'NULLABLE', None, ()), SchemaField('appln_nr_1', 'STRING', 'NULLABLE', None, ()), SchemaField('appln_auth_1', 'STRING', 'NULLABLE', None, ()), SchemaField('appln_filing_year_1', 'INTEGER', 'NULLABLE', None, ()), SchemaField('appln_id_2', 'INTEGER', 'NULLABLE', None, ()), SchemaField('appln_nr_2', 'STRING', 'NULLABLE', None, ()), SchemaField('appln_auth_2', 'STRING', 'NULLABLE', None, ()), SchemaField('appln_filing_year_2', 'INTEGER', 'NULLABLE', None, ()), SchemaField('inpadoc_family_id', 'INTEGER', 'NULLABLE', None, ()), SchemaField('inpadoc_nb_pairs', 'INTEGER', 'NULLABLE', None, ()), SchemaField('exact_twins', 'INTEGER', 'NULLABLE', None, ())]\n",
      "None\n",
      "\n",
      "There are 51,294,652 number of records in total!\n"
     ]
    }
   ],
   "source": [
    "dataset_id = 'results'\n",
    "table_id = 'USExactTwins'\n",
    "# Getting the table's information\n",
    "table_ref = client.dataset(dataset_id).table(table_id)\n",
    "table = client.get_table(table_ref)\n",
    "\n",
    "# Print tables information\n",
    "print(table.schema)\n",
    "print(table.description)\n",
    "print(\"\\nThere are {:,} number of records in total!\".format(table.num_rows))"
   ]
  },
  {
   "cell_type": "markdown",
   "metadata": {},
   "source": [
    "## 3.3. Loading the first 1000 rows of the table"
   ]
  },
  {
   "cell_type": "code",
   "execution_count": 249,
   "metadata": {},
   "outputs": [],
   "source": [
    "dataset_id = 'results'\n",
    "table_id = 'USExactTwins'\n",
    "# Getting the table object\n",
    "table_ref = client.dataset(dataset_id).table(table_id)\n",
    "table = client.get_table(table_ref)\n",
    "\n",
    "# Load the first 10000 rows into RowIterator object\n",
    "rows = client.list_rows(table, max_results=10000)\n",
    "\n",
    "# Loading the RowIterator object into Pandas dataframe\n",
    "df = rows.to_dataframe()"
   ]
  },
  {
   "cell_type": "code",
   "execution_count": 250,
   "metadata": {},
   "outputs": [
    {
     "data": {
      "text/html": [
       "<div>\n",
       "<style scoped>\n",
       "    .dataframe tbody tr th:only-of-type {\n",
       "        vertical-align: middle;\n",
       "    }\n",
       "\n",
       "    .dataframe tbody tr th {\n",
       "        vertical-align: top;\n",
       "    }\n",
       "\n",
       "    .dataframe thead th {\n",
       "        text-align: right;\n",
       "    }\n",
       "</style>\n",
       "<table border=\"1\" class=\"dataframe\">\n",
       "  <thead>\n",
       "    <tr style=\"text-align: right;\">\n",
       "      <th></th>\n",
       "      <th>appln_id_1</th>\n",
       "      <th>appln_nr_1</th>\n",
       "      <th>appln_auth_1</th>\n",
       "      <th>appln_filing_year_1</th>\n",
       "      <th>appln_id_2</th>\n",
       "      <th>appln_nr_2</th>\n",
       "      <th>appln_auth_2</th>\n",
       "      <th>appln_filing_year_2</th>\n",
       "      <th>inpadoc_family_id</th>\n",
       "      <th>inpadoc_nb_pairs</th>\n",
       "      <th>exact_twins</th>\n",
       "    </tr>\n",
       "  </thead>\n",
       "  <tbody>\n",
       "    <tr>\n",
       "      <th>0</th>\n",
       "      <td>53733918</td>\n",
       "      <td>83752604</td>\n",
       "      <td>US</td>\n",
       "      <td>2004</td>\n",
       "      <td>496318637</td>\n",
       "      <td>201815889702</td>\n",
       "      <td>US</td>\n",
       "      <td>2018</td>\n",
       "      <td>6602696</td>\n",
       "      <td>44732</td>\n",
       "      <td>0</td>\n",
       "    </tr>\n",
       "    <tr>\n",
       "      <th>1</th>\n",
       "      <td>51456560</td>\n",
       "      <td>51148806</td>\n",
       "      <td>US</td>\n",
       "      <td>2006</td>\n",
       "      <td>497553194</td>\n",
       "      <td>2018080942</td>\n",
       "      <td>JP</td>\n",
       "      <td>2018</td>\n",
       "      <td>8839496</td>\n",
       "      <td>132</td>\n",
       "      <td>0</td>\n",
       "    </tr>\n",
       "    <tr>\n",
       "      <th>2</th>\n",
       "      <td>353121931</td>\n",
       "      <td>201113337217</td>\n",
       "      <td>US</td>\n",
       "      <td>2011</td>\n",
       "      <td>496036095</td>\n",
       "      <td>201815900352</td>\n",
       "      <td>US</td>\n",
       "      <td>2018</td>\n",
       "      <td>12535070</td>\n",
       "      <td>992</td>\n",
       "      <td>0</td>\n",
       "    </tr>\n",
       "    <tr>\n",
       "      <th>3</th>\n",
       "      <td>365749427</td>\n",
       "      <td>201213456945</td>\n",
       "      <td>US</td>\n",
       "      <td>2012</td>\n",
       "      <td>497172619</td>\n",
       "      <td>201815919067</td>\n",
       "      <td>US</td>\n",
       "      <td>2018</td>\n",
       "      <td>7580252</td>\n",
       "      <td>20592</td>\n",
       "      <td>0</td>\n",
       "    </tr>\n",
       "    <tr>\n",
       "      <th>4</th>\n",
       "      <td>419189941</td>\n",
       "      <td>201314099750</td>\n",
       "      <td>US</td>\n",
       "      <td>2013</td>\n",
       "      <td>495775446</td>\n",
       "      <td>2018024964</td>\n",
       "      <td>JP</td>\n",
       "      <td>2018</td>\n",
       "      <td>9599287</td>\n",
       "      <td>990</td>\n",
       "      <td>0</td>\n",
       "    </tr>\n",
       "    <tr>\n",
       "      <th>5</th>\n",
       "      <td>438344439</td>\n",
       "      <td>201414496152</td>\n",
       "      <td>US</td>\n",
       "      <td>2014</td>\n",
       "      <td>494235017</td>\n",
       "      <td>20185380</td>\n",
       "      <td>FI</td>\n",
       "      <td>2018</td>\n",
       "      <td>9470143</td>\n",
       "      <td>16458</td>\n",
       "      <td>0</td>\n",
       "    </tr>\n",
       "    <tr>\n",
       "      <th>6</th>\n",
       "      <td>450218079</td>\n",
       "      <td>201414888189</td>\n",
       "      <td>US</td>\n",
       "      <td>2014</td>\n",
       "      <td>494684204</td>\n",
       "      <td>2018000117</td>\n",
       "      <td>JP</td>\n",
       "      <td>2018</td>\n",
       "      <td>8786039</td>\n",
       "      <td>480</td>\n",
       "      <td>0</td>\n",
       "    </tr>\n",
       "  </tbody>\n",
       "</table>\n",
       "</div>"
      ],
      "text/plain": [
       "   appln_id_1    appln_nr_1 appln_auth_1  appln_filing_year_1  appln_id_2  \\\n",
       "0    53733918      83752604           US                 2004   496318637   \n",
       "1    51456560      51148806           US                 2006   497553194   \n",
       "2   353121931  201113337217           US                 2011   496036095   \n",
       "3   365749427  201213456945           US                 2012   497172619   \n",
       "4   419189941  201314099750           US                 2013   495775446   \n",
       "5   438344439  201414496152           US                 2014   494235017   \n",
       "6   450218079  201414888189           US                 2014   494684204   \n",
       "\n",
       "     appln_nr_2 appln_auth_2  appln_filing_year_2  inpadoc_family_id  \\\n",
       "0  201815889702           US                 2018            6602696   \n",
       "1    2018080942           JP                 2018            8839496   \n",
       "2  201815900352           US                 2018           12535070   \n",
       "3  201815919067           US                 2018            7580252   \n",
       "4    2018024964           JP                 2018            9599287   \n",
       "5      20185380           FI                 2018            9470143   \n",
       "6    2018000117           JP                 2018            8786039   \n",
       "\n",
       "   inpadoc_nb_pairs  exact_twins  \n",
       "0             44732            0  \n",
       "1               132            0  \n",
       "2               992            0  \n",
       "3             20592            0  \n",
       "4               990            0  \n",
       "5             16458            0  \n",
       "6               480            0  "
      ]
     },
     "execution_count": 250,
     "metadata": {},
     "output_type": "execute_result"
    }
   ],
   "source": [
    "df.head(7)"
   ]
  },
  {
   "cell_type": "markdown",
   "metadata": {},
   "source": [
    "## 3.4. Deleting \"USExactTwins\" table"
   ]
  },
  {
   "cell_type": "code",
   "execution_count": 243,
   "metadata": {},
   "outputs": [
    {
     "name": "stdout",
     "output_type": "stream",
     "text": [
      "Table results:USExactTwins deleted.\n"
     ]
    }
   ],
   "source": [
    "dataset_id = 'results'\n",
    "table_id = 'USExactTwins'\n",
    "# Deleting the table\n",
    "table_ref = client.dataset(dataset_id).table(table_id)\n",
    "#client.delete_table(table_ref)\n",
    "\n",
    "print(\"Table {}:{} deleted.\".format(dataset_id, table_id))"
   ]
  },
  {
   "cell_type": "markdown",
   "metadata": {},
   "source": [
    "# 4. Selecting Only \"Ecaxt Twins\""
   ]
  },
  {
   "cell_type": "code",
   "execution_count": 252,
   "metadata": {},
   "outputs": [],
   "source": [
    "client = bigquery.Client()"
   ]
  },
  {
   "cell_type": "markdown",
   "metadata": {},
   "source": [
    "## 4.1. Query"
   ]
  },
  {
   "cell_type": "code",
   "execution_count": 253,
   "metadata": {},
   "outputs": [],
   "source": [
    "job_config = bigquery.QueryJobConfig()\n",
    "job_config.user_query_cache = False\n",
    "\n",
    "# Set destination table\n",
    "dataset_id = 'results'\n",
    "table_id = 'USOnlyTwins'\n",
    "table_ref = client.dataset(dataset_id).table(table_id)\n",
    "job_config.destination = table_ref"
   ]
  },
  {
   "cell_type": "code",
   "execution_count": 254,
   "metadata": {},
   "outputs": [],
   "source": [
    "sql= \"\"\"\n",
    "    SELECT\n",
    "            * EXCEPT (exact_twins, inpadoc_nb_pairs)\n",
    "    FROM\n",
    "            `usptobias.results.USExactTwins`\n",
    "    WHERE\n",
    "            exact_twins=1\n",
    "    \"\"\"\n",
    "\n",
    "# Defining the query job\n",
    "query_job = client.query(sql, location='US', job_config=job_config)"
   ]
  },
  {
   "cell_type": "code",
   "execution_count": 255,
   "metadata": {},
   "outputs": [
    {
     "data": {
      "text/plain": [
       "<google.cloud.bigquery.table.RowIterator at 0x7f863df20908>"
      ]
     },
     "execution_count": 255,
     "metadata": {},
     "output_type": "execute_result"
    }
   ],
   "source": [
    "query_job.result()"
   ]
  },
  {
   "cell_type": "markdown",
   "metadata": {},
   "source": [
    "## 4.2. Getting the resulting table info"
   ]
  },
  {
   "cell_type": "code",
   "execution_count": 256,
   "metadata": {},
   "outputs": [
    {
     "name": "stdout",
     "output_type": "stream",
     "text": [
      "[SchemaField('appln_id_1', 'INTEGER', 'NULLABLE', None, ()), SchemaField('appln_nr_1', 'STRING', 'NULLABLE', None, ()), SchemaField('appln_auth_1', 'STRING', 'NULLABLE', None, ()), SchemaField('appln_filing_year_1', 'INTEGER', 'NULLABLE', None, ()), SchemaField('appln_id_2', 'INTEGER', 'NULLABLE', None, ()), SchemaField('appln_nr_2', 'STRING', 'NULLABLE', None, ()), SchemaField('appln_auth_2', 'STRING', 'NULLABLE', None, ()), SchemaField('appln_filing_year_2', 'INTEGER', 'NULLABLE', None, ()), SchemaField('inpadoc_family_id', 'INTEGER', 'NULLABLE', None, ())]\n",
      "None\n",
      "\n",
      "There are 6,123,214 number of records in total!\n"
     ]
    }
   ],
   "source": [
    "dataset_id = 'results'\n",
    "table_id = 'USOnlyTwins'\n",
    "# Getting the table's information\n",
    "table_ref = client.dataset(dataset_id).table(table_id)\n",
    "table = client.get_table(table_ref)\n",
    "\n",
    "# Print tables information\n",
    "print(table.schema)\n",
    "print(table.description)\n",
    "print(\"\\nThere are {:,} number of records in total!\".format(table.num_rows))"
   ]
  },
  {
   "cell_type": "markdown",
   "metadata": {},
   "source": [
    "## 4.3. Loading the 10,000 rows of table"
   ]
  },
  {
   "cell_type": "code",
   "execution_count": 257,
   "metadata": {},
   "outputs": [],
   "source": [
    "dataset_id = 'results'\n",
    "table_id = 'USOnlyTwins'\n",
    "# Getting the table object\n",
    "table_ref = client.dataset(dataset_id).table(table_id)\n",
    "table = client.get_table(table_ref)\n",
    "\n",
    "# Load the first 10000 rows into RowIterator object\n",
    "rows = client.list_rows(table, max_results=10000)\n",
    "\n",
    "# Loading the RowIterator object into Pandas dataframe\n",
    "df = rows.to_dataframe()"
   ]
  },
  {
   "cell_type": "code",
   "execution_count": 258,
   "metadata": {},
   "outputs": [
    {
     "data": {
      "text/html": [
       "<div>\n",
       "<style scoped>\n",
       "    .dataframe tbody tr th:only-of-type {\n",
       "        vertical-align: middle;\n",
       "    }\n",
       "\n",
       "    .dataframe tbody tr th {\n",
       "        vertical-align: top;\n",
       "    }\n",
       "\n",
       "    .dataframe thead th {\n",
       "        text-align: right;\n",
       "    }\n",
       "</style>\n",
       "<table border=\"1\" class=\"dataframe\">\n",
       "  <thead>\n",
       "    <tr style=\"text-align: right;\">\n",
       "      <th></th>\n",
       "      <th>appln_id_1</th>\n",
       "      <th>appln_nr_1</th>\n",
       "      <th>appln_auth_1</th>\n",
       "      <th>appln_filing_year_1</th>\n",
       "      <th>appln_id_2</th>\n",
       "      <th>appln_nr_2</th>\n",
       "      <th>appln_auth_2</th>\n",
       "      <th>appln_filing_year_2</th>\n",
       "      <th>inpadoc_family_id</th>\n",
       "    </tr>\n",
       "  </thead>\n",
       "  <tbody>\n",
       "    <tr>\n",
       "      <th>0</th>\n",
       "      <td>494659254</td>\n",
       "      <td>201815876219</td>\n",
       "      <td>US</td>\n",
       "      <td>2018</td>\n",
       "      <td>496213531</td>\n",
       "      <td>2018001115</td>\n",
       "      <td>CO</td>\n",
       "      <td>2018</td>\n",
       "      <td>10310109</td>\n",
       "    </tr>\n",
       "    <tr>\n",
       "      <th>1</th>\n",
       "      <td>494041211</td>\n",
       "      <td>201815863068</td>\n",
       "      <td>US</td>\n",
       "      <td>2018</td>\n",
       "      <td>491943459</td>\n",
       "      <td>20180064</td>\n",
       "      <td>NO</td>\n",
       "      <td>2018</td>\n",
       "      <td>10253539</td>\n",
       "    </tr>\n",
       "    <tr>\n",
       "      <th>2</th>\n",
       "      <td>497506851</td>\n",
       "      <td>201815926796</td>\n",
       "      <td>US</td>\n",
       "      <td>2018</td>\n",
       "      <td>902766114</td>\n",
       "      <td>201821004104</td>\n",
       "      <td>IN</td>\n",
       "      <td>2018</td>\n",
       "      <td>10971016</td>\n",
       "    </tr>\n",
       "    <tr>\n",
       "      <th>3</th>\n",
       "      <td>494270721</td>\n",
       "      <td>201815869058</td>\n",
       "      <td>US</td>\n",
       "      <td>2018</td>\n",
       "      <td>496185654</td>\n",
       "      <td>2018001288</td>\n",
       "      <td>CO</td>\n",
       "      <td>2018</td>\n",
       "      <td>12787003</td>\n",
       "    </tr>\n",
       "    <tr>\n",
       "      <th>4</th>\n",
       "      <td>496060625</td>\n",
       "      <td>201815897495</td>\n",
       "      <td>US</td>\n",
       "      <td>2018</td>\n",
       "      <td>497230395</td>\n",
       "      <td>2018007120</td>\n",
       "      <td>CO</td>\n",
       "      <td>2018</td>\n",
       "      <td>10668083</td>\n",
       "    </tr>\n",
       "    <tr>\n",
       "      <th>5</th>\n",
       "      <td>495174396</td>\n",
       "      <td>201815883365</td>\n",
       "      <td>US</td>\n",
       "      <td>2018</td>\n",
       "      <td>497301585</td>\n",
       "      <td>12018550007</td>\n",
       "      <td>PH</td>\n",
       "      <td>2018</td>\n",
       "      <td>10286942</td>\n",
       "    </tr>\n",
       "    <tr>\n",
       "      <th>6</th>\n",
       "      <td>496058741</td>\n",
       "      <td>201815896364</td>\n",
       "      <td>US</td>\n",
       "      <td>2018</td>\n",
       "      <td>496213854</td>\n",
       "      <td>2018000422</td>\n",
       "      <td>CO</td>\n",
       "      <td>2018</td>\n",
       "      <td>10310060</td>\n",
       "    </tr>\n",
       "  </tbody>\n",
       "</table>\n",
       "</div>"
      ],
      "text/plain": [
       "   appln_id_1    appln_nr_1 appln_auth_1  appln_filing_year_1  appln_id_2  \\\n",
       "0   494659254  201815876219           US                 2018   496213531   \n",
       "1   494041211  201815863068           US                 2018   491943459   \n",
       "2   497506851  201815926796           US                 2018   902766114   \n",
       "3   494270721  201815869058           US                 2018   496185654   \n",
       "4   496060625  201815897495           US                 2018   497230395   \n",
       "5   495174396  201815883365           US                 2018   497301585   \n",
       "6   496058741  201815896364           US                 2018   496213854   \n",
       "\n",
       "     appln_nr_2 appln_auth_2  appln_filing_year_2  inpadoc_family_id  \n",
       "0    2018001115           CO                 2018           10310109  \n",
       "1      20180064           NO                 2018           10253539  \n",
       "2  201821004104           IN                 2018           10971016  \n",
       "3    2018001288           CO                 2018           12787003  \n",
       "4    2018007120           CO                 2018           10668083  \n",
       "5   12018550007           PH                 2018           10286942  \n",
       "6    2018000422           CO                 2018           10310060  "
      ]
     },
     "execution_count": 258,
     "metadata": {},
     "output_type": "execute_result"
    }
   ],
   "source": [
    "df.head(7)"
   ]
  },
  {
   "cell_type": "markdown",
   "metadata": {},
   "source": [
    "## 4.4. Deleting the table"
   ]
  },
  {
   "cell_type": "code",
   "execution_count": 251,
   "metadata": {},
   "outputs": [
    {
     "name": "stdout",
     "output_type": "stream",
     "text": [
      "Table results:USOnlyTwins deleted.\n"
     ]
    }
   ],
   "source": [
    "dataset_id = 'results'\n",
    "table_id = 'USOnlyTwins'\n",
    "# Deleting the table\n",
    "table_ref = client.dataset(dataset_id).table(table_id)\n",
    "#client.delete_table(table_ref)\n",
    "\n",
    "print(\"Table {}:{} deleted.\".format(dataset_id, table_id))"
   ]
  },
  {
   "cell_type": "markdown",
   "metadata": {},
   "source": [
    "## 4.5. Exporting Table to CSV on the Bucket"
   ]
  },
  {
   "cell_type": "code",
   "execution_count": 260,
   "metadata": {},
   "outputs": [],
   "source": [
    "# from google.cloud import bigquery\n",
    "client = bigquery.Client()\n",
    "bucket_name = 'patent-results'\n",
    "folder_name = 'exactTwins'\n",
    "\n",
    "project = 'usptobias'\n",
    "dataset_id = 'results'\n",
    "table_id = 'USOnlyTwins'\n",
    "\n",
    "destination_uri = 'gs://{}/{}/{}'.format(bucket_name, folder_name, 'only_exact_twins_inpadoc.csv.gz')\n",
    "dataset_ref = client.dataset(dataset_id, project=project)\n",
    "table_ref = dataset_ref.table(table_id)"
   ]
  },
  {
   "cell_type": "code",
   "execution_count": 261,
   "metadata": {},
   "outputs": [],
   "source": [
    "job_config = bigquery.job.ExtractJobConfig()\n",
    "\n",
    "job_config.compression = \"GZIP\"\n",
    "job_config.destinationFormat = \"CSV\""
   ]
  },
  {
   "cell_type": "code",
   "execution_count": 262,
   "metadata": {},
   "outputs": [
    {
     "name": "stdout",
     "output_type": "stream",
     "text": [
      "Exported usptobias:results.USOnlyTwins to gs://patent-results/exactTwins/only_exact_twins_inpadoc.csv.gz\n"
     ]
    }
   ],
   "source": [
    "extract_job = client.extract_table(\n",
    "    table_ref,\n",
    "    destination_uri,\n",
    "    # Location must match that of the source table.\n",
    "    location='US',\n",
    "    job_config=job_config)  # API request\n",
    "extract_job.result()  # Waits for job to complete.\n",
    "\n",
    "print('Exported {}:{}.{} to {}'.format(\n",
    "    project, dataset_id, table_id, destination_uri))"
   ]
  },
  {
   "cell_type": "markdown",
   "metadata": {},
   "source": [
    "# 5. Adding Priority filing information"
   ]
  },
  {
   "cell_type": "code",
   "execution_count": 54,
   "metadata": {},
   "outputs": [],
   "source": [
    "client = bigquery.Client()"
   ]
  },
  {
   "cell_type": "markdown",
   "metadata": {},
   "source": [
    "## 5.1. Query"
   ]
  },
  {
   "cell_type": "code",
   "execution_count": 59,
   "metadata": {},
   "outputs": [],
   "source": [
    "job_config = bigquery.QueryJobConfig()\n",
    "job_config.user_query_cache = False\n",
    "\n",
    "# Set destination table\n",
    "dataset_id = 'results'\n",
    "table_id = 'familyInfo'\n",
    "table_ref = client.dataset(dataset_id).table(table_id)\n",
    "job_config.destination = table_ref"
   ]
  },
  {
   "cell_type": "code",
   "execution_count": 60,
   "metadata": {},
   "outputs": [],
   "source": [
    "sql= \"\"\"\n",
    "    SELECT\n",
    "            *,\n",
    "            (\n",
    "            CASE \n",
    "                    WHEN appln_id_1 NOT IN(\n",
    "                                    SELECT DISTINCT appln_id\n",
    "                                    FROM `usptobias.patstat.tls204`) THEN 1\n",
    "                    ELSE 0\n",
    "            END\n",
    "            ) AS is_1_pf,\n",
    "            (\n",
    "            CASE \n",
    "                    WHEN appln_id_2 NOT IN(\n",
    "                                    SELECT DISTINCT appln_id\n",
    "                                    FROM `usptobias.patstat.tls204`) THEN 1\n",
    "                    ELSE 0\n",
    "            END\n",
    "            ) AS is_2_pf\n",
    "    FROM\n",
    "            `usptobias.results.USOnlyTwins`\n",
    "    \"\"\"\n",
    "\n",
    "# Defining the query job\n",
    "query_job = client.query(sql, location='US', job_config=job_config)"
   ]
  },
  {
   "cell_type": "code",
   "execution_count": 61,
   "metadata": {},
   "outputs": [
    {
     "data": {
      "text/plain": [
       "<google.cloud.bigquery.table.RowIterator at 0x1d6e4d273c8>"
      ]
     },
     "execution_count": 61,
     "metadata": {},
     "output_type": "execute_result"
    }
   ],
   "source": [
    "query_job.result()"
   ]
  },
  {
   "cell_type": "markdown",
   "metadata": {},
   "source": [
    "# 5.2. Getting the resulting table info"
   ]
  },
  {
   "cell_type": "code",
   "execution_count": 62,
   "metadata": {},
   "outputs": [
    {
     "name": "stdout",
     "output_type": "stream",
     "text": [
      "[SchemaField('appln_id_1', 'INTEGER', 'NULLABLE', None, ()), SchemaField('appln_id_2', 'INTEGER', 'NULLABLE', None, ()), SchemaField('appln_auth_2', 'STRING', 'NULLABLE', None, ()), SchemaField('inpadoc_family_id', 'INTEGER', 'NULLABLE', None, ()), SchemaField('inpadoc_family_size', 'INTEGER', 'NULLABLE', None, ()), SchemaField('is_1_pf', 'INTEGER', 'NULLABLE', None, ()), SchemaField('is_2_pf', 'INTEGER', 'NULLABLE', None, ())]\n",
      "None\n",
      "\n",
      "There are 29,978,803 number of records in total!\n"
     ]
    }
   ],
   "source": [
    "dataset_id = 'results'\n",
    "table_id = 'familyInfo'\n",
    "# Getting the table's information\n",
    "table_ref = client.dataset(dataset_id).table(table_id)\n",
    "table = client.get_table(table_ref)\n",
    "\n",
    "# Print tables information\n",
    "print(table.schema)\n",
    "print(table.description)\n",
    "print(\"\\nThere are {:,} number of records in total!\".format(table.num_rows))"
   ]
  },
  {
   "cell_type": "markdown",
   "metadata": {},
   "source": [
    "## 5.3. Loading the first 1000 rows"
   ]
  },
  {
   "cell_type": "code",
   "execution_count": 196,
   "metadata": {},
   "outputs": [],
   "source": [
    "dataset_id = 'results'\n",
    "table_id = 'familyInfo'\n",
    "# Getting the table object\n",
    "table_ref = client.dataset(dataset_id).table(table_id)\n",
    "table = client.get_table(table_ref)\n",
    "\n",
    "# Load the first 10000 rows into RowIterator object\n",
    "rows = client.list_rows(table, max_results=10000)\n",
    "\n",
    "# Loading the RowIterator object into Pandas dataframe\n",
    "df = rows.to_dataframe()"
   ]
  },
  {
   "cell_type": "code",
   "execution_count": 197,
   "metadata": {},
   "outputs": [
    {
     "data": {
      "text/html": [
       "<div>\n",
       "<style scoped>\n",
       "    .dataframe tbody tr th:only-of-type {\n",
       "        vertical-align: middle;\n",
       "    }\n",
       "\n",
       "    .dataframe tbody tr th {\n",
       "        vertical-align: top;\n",
       "    }\n",
       "\n",
       "    .dataframe thead th {\n",
       "        text-align: right;\n",
       "    }\n",
       "</style>\n",
       "<table border=\"1\" class=\"dataframe\">\n",
       "  <thead>\n",
       "    <tr style=\"text-align: right;\">\n",
       "      <th></th>\n",
       "      <th>appln_id_1</th>\n",
       "      <th>appln_id_2</th>\n",
       "      <th>appln_auth_2</th>\n",
       "      <th>inpadoc_family_id</th>\n",
       "      <th>inpadoc_family_size</th>\n",
       "      <th>is_1_pf</th>\n",
       "      <th>is_2_pf</th>\n",
       "    </tr>\n",
       "  </thead>\n",
       "  <tbody>\n",
       "    <tr>\n",
       "      <th>0</th>\n",
       "      <td>51510977</td>\n",
       "      <td>42482209</td>\n",
       "      <td>PL</td>\n",
       "      <td>1522825</td>\n",
       "      <td>1</td>\n",
       "      <td>0</td>\n",
       "      <td>0</td>\n",
       "    </tr>\n",
       "    <tr>\n",
       "      <th>1</th>\n",
       "      <td>57949540</td>\n",
       "      <td>416251870</td>\n",
       "      <td>MY</td>\n",
       "      <td>4923495</td>\n",
       "      <td>1</td>\n",
       "      <td>0</td>\n",
       "      <td>0</td>\n",
       "    </tr>\n",
       "    <tr>\n",
       "      <th>2</th>\n",
       "      <td>51997843</td>\n",
       "      <td>417445404</td>\n",
       "      <td>UA</td>\n",
       "      <td>347404</td>\n",
       "      <td>1</td>\n",
       "      <td>0</td>\n",
       "      <td>0</td>\n",
       "    </tr>\n",
       "    <tr>\n",
       "      <th>3</th>\n",
       "      <td>51019701</td>\n",
       "      <td>329489966</td>\n",
       "      <td>PE</td>\n",
       "      <td>351050</td>\n",
       "      <td>1</td>\n",
       "      <td>0</td>\n",
       "      <td>0</td>\n",
       "    </tr>\n",
       "    <tr>\n",
       "      <th>4</th>\n",
       "      <td>45795525</td>\n",
       "      <td>341866030</td>\n",
       "      <td>MY</td>\n",
       "      <td>1437853</td>\n",
       "      <td>1</td>\n",
       "      <td>0</td>\n",
       "      <td>0</td>\n",
       "    </tr>\n",
       "    <tr>\n",
       "      <th>5</th>\n",
       "      <td>440492173</td>\n",
       "      <td>483990226</td>\n",
       "      <td>CL</td>\n",
       "      <td>9684563</td>\n",
       "      <td>1</td>\n",
       "      <td>0</td>\n",
       "      <td>0</td>\n",
       "    </tr>\n",
       "    <tr>\n",
       "      <th>6</th>\n",
       "      <td>49126293</td>\n",
       "      <td>41501576</td>\n",
       "      <td>NL</td>\n",
       "      <td>1488896</td>\n",
       "      <td>1</td>\n",
       "      <td>0</td>\n",
       "      <td>0</td>\n",
       "    </tr>\n",
       "    <tr>\n",
       "      <th>7</th>\n",
       "      <td>273397156</td>\n",
       "      <td>54687583</td>\n",
       "      <td>UY</td>\n",
       "      <td>7303993</td>\n",
       "      <td>1</td>\n",
       "      <td>0</td>\n",
       "      <td>0</td>\n",
       "    </tr>\n",
       "  </tbody>\n",
       "</table>\n",
       "</div>"
      ],
      "text/plain": [
       "   appln_id_1  appln_id_2 appln_auth_2  inpadoc_family_id  \\\n",
       "0    51510977    42482209           PL            1522825   \n",
       "1    57949540   416251870           MY            4923495   \n",
       "2    51997843   417445404           UA             347404   \n",
       "3    51019701   329489966           PE             351050   \n",
       "4    45795525   341866030           MY            1437853   \n",
       "5   440492173   483990226           CL            9684563   \n",
       "6    49126293    41501576           NL            1488896   \n",
       "7   273397156    54687583           UY            7303993   \n",
       "\n",
       "   inpadoc_family_size  is_1_pf  is_2_pf  \n",
       "0                    1        0        0  \n",
       "1                    1        0        0  \n",
       "2                    1        0        0  \n",
       "3                    1        0        0  \n",
       "4                    1        0        0  \n",
       "5                    1        0        0  \n",
       "6                    1        0        0  \n",
       "7                    1        0        0  "
      ]
     },
     "execution_count": 197,
     "metadata": {},
     "output_type": "execute_result"
    }
   ],
   "source": [
    "df.head(8)"
   ]
  },
  {
   "cell_type": "markdown",
   "metadata": {},
   "source": [
    "## 5.4. Deleting the table"
   ]
  },
  {
   "cell_type": "code",
   "execution_count": 58,
   "metadata": {},
   "outputs": [
    {
     "name": "stdout",
     "output_type": "stream",
     "text": [
      "Table results:familyInfo deleted.\n"
     ]
    }
   ],
   "source": [
    "dataset_id = 'results'\n",
    "table_id = 'familyInfo'\n",
    "# Deleting the table\n",
    "table_ref = client.dataset(dataset_id).table(table_id)\n",
    "client.delete_table(table_ref)\n",
    "\n",
    "print(\"Table {}:{} deleted.\".format(dataset_id, table_id))"
   ]
  },
  {
   "cell_type": "markdown",
   "metadata": {},
   "source": [
    "# 6. Comparing the final results with the existing Family_Information"
   ]
  },
  {
   "cell_type": "code",
   "execution_count": 211,
   "metadata": {},
   "outputs": [],
   "source": [
    "import os\n",
    "import zipfile"
   ]
  },
  {
   "cell_type": "code",
   "execution_count": 204,
   "metadata": {},
   "outputs": [],
   "source": [
    "data_folder = '../family_patents/data/'"
   ]
  },
  {
   "cell_type": "code",
   "execution_count": 208,
   "metadata": {},
   "outputs": [],
   "source": [
    "# Checking the number of records in family_information\n",
    "family_zip = zipfile.ZipFile(data_folder+'familyInformation.csv.zip')\n",
    "lines = sum(1 for line in family_zip.open('familyInformation.csv'))\n",
    "#lines = sum(1 for line in open(data_folder+'familyInformation.csv'))"
   ]
  },
  {
   "cell_type": "code",
   "execution_count": 209,
   "metadata": {},
   "outputs": [
    {
     "name": "stdout",
     "output_type": "stream",
     "text": [
      "There are 17,218,990 records in familyInformation CSV file, in total!\n"
     ]
    }
   ],
   "source": [
    "print('There are {:,} records in familyInformation CSV file, in total!'.format(lines))"
   ]
  },
  {
   "cell_type": "code",
   "execution_count": 267,
   "metadata": {},
   "outputs": [
    {
     "data": {
      "text/html": [
       "<div>\n",
       "<style scoped>\n",
       "    .dataframe tbody tr th:only-of-type {\n",
       "        vertical-align: middle;\n",
       "    }\n",
       "\n",
       "    .dataframe tbody tr th {\n",
       "        vertical-align: top;\n",
       "    }\n",
       "\n",
       "    .dataframe thead th {\n",
       "        text-align: right;\n",
       "    }\n",
       "</style>\n",
       "<table border=\"1\" class=\"dataframe\">\n",
       "  <thead>\n",
       "    <tr style=\"text-align: right;\">\n",
       "      <th></th>\n",
       "      <th>docdb_family_id</th>\n",
       "      <th>appln_id_1</th>\n",
       "      <th>appln_id_2</th>\n",
       "      <th>family_size_in_auth2</th>\n",
       "      <th>exact_twins</th>\n",
       "    </tr>\n",
       "  </thead>\n",
       "  <tbody>\n",
       "    <tr>\n",
       "      <th>0</th>\n",
       "      <td>8164667</td>\n",
       "      <td>448453</td>\n",
       "      <td>267441867</td>\n",
       "      <td>1</td>\n",
       "      <td>1</td>\n",
       "    </tr>\n",
       "    <tr>\n",
       "      <th>1</th>\n",
       "      <td>8164667</td>\n",
       "      <td>448453</td>\n",
       "      <td>267566903</td>\n",
       "      <td>1</td>\n",
       "      <td>1</td>\n",
       "    </tr>\n",
       "    <tr>\n",
       "      <th>2</th>\n",
       "      <td>39810287</td>\n",
       "      <td>448454</td>\n",
       "      <td>448456</td>\n",
       "      <td>12</td>\n",
       "      <td>0</td>\n",
       "    </tr>\n",
       "    <tr>\n",
       "      <th>3</th>\n",
       "      <td>39810287</td>\n",
       "      <td>448454</td>\n",
       "      <td>449293</td>\n",
       "      <td>12</td>\n",
       "      <td>0</td>\n",
       "    </tr>\n",
       "    <tr>\n",
       "      <th>4</th>\n",
       "      <td>39810287</td>\n",
       "      <td>448454</td>\n",
       "      <td>449431</td>\n",
       "      <td>12</td>\n",
       "      <td>0</td>\n",
       "    </tr>\n",
       "  </tbody>\n",
       "</table>\n",
       "</div>"
      ],
      "text/plain": [
       "   docdb_family_id  appln_id_1  appln_id_2  family_size_in_auth2  exact_twins\n",
       "0          8164667      448453   267441867                     1            1\n",
       "1          8164667      448453   267566903                     1            1\n",
       "2         39810287      448454      448456                    12            0\n",
       "3         39810287      448454      449293                    12            0\n",
       "4         39810287      448454      449431                    12            0"
      ]
     },
     "execution_count": 267,
     "metadata": {},
     "output_type": "execute_result"
    }
   ],
   "source": [
    "df_twins = pd.read_csv(data_folder+'familyInformation.csv.zip', sep=';',\n",
    "                 usecols=[0,1,7,12,13], compression='zip')\n",
    "\n",
    "df_twins.head()"
   ]
  },
  {
   "cell_type": "code",
   "execution_count": 268,
   "metadata": {},
   "outputs": [
    {
     "name": "stdout",
     "output_type": "stream",
     "text": [
      "There are 17,218,989 rows in df_twins!\n"
     ]
    }
   ],
   "source": [
    "print('There are {:,} rows in df_twins!'.format(df_twins.shape[0]))"
   ]
  },
  {
   "cell_type": "code",
   "execution_count": 270,
   "metadata": {},
   "outputs": [
    {
     "name": "stdout",
     "output_type": "stream",
     "text": [
      "There are 5,638,804 exact twins in df_twins!\n"
     ]
    }
   ],
   "source": [
    "# Number of pairs which are exact twins\n",
    "print('There are {:,} exact twins in df_twins!'.format(df_twins[df_twins.exact_twins==1].shape[0]))"
   ]
  },
  {
   "cell_type": "code",
   "execution_count": 21,
   "metadata": {},
   "outputs": [
    {
     "name": "stdout",
     "output_type": "stream",
     "text": [
      "There are 5,638,804 rows!\n"
     ]
    },
    {
     "data": {
      "text/html": [
       "<div>\n",
       "<style scoped>\n",
       "    .dataframe tbody tr th:only-of-type {\n",
       "        vertical-align: middle;\n",
       "    }\n",
       "\n",
       "    .dataframe tbody tr th {\n",
       "        vertical-align: top;\n",
       "    }\n",
       "\n",
       "    .dataframe thead th {\n",
       "        text-align: right;\n",
       "    }\n",
       "</style>\n",
       "<table border=\"1\" class=\"dataframe\">\n",
       "  <thead>\n",
       "    <tr style=\"text-align: right;\">\n",
       "      <th></th>\n",
       "      <th>docdb_family_id</th>\n",
       "      <th>appln_id_1</th>\n",
       "      <th>appln_id_2</th>\n",
       "      <th>family_size_in_auth2</th>\n",
       "      <th>exact_twins</th>\n",
       "      <th>docdb_family_size</th>\n",
       "    </tr>\n",
       "  </thead>\n",
       "  <tbody>\n",
       "    <tr>\n",
       "      <th>0</th>\n",
       "      <td>8164667</td>\n",
       "      <td>448453</td>\n",
       "      <td>267441867</td>\n",
       "      <td>1</td>\n",
       "      <td>1</td>\n",
       "      <td>2</td>\n",
       "    </tr>\n",
       "    <tr>\n",
       "      <th>1</th>\n",
       "      <td>8164667</td>\n",
       "      <td>448453</td>\n",
       "      <td>267566903</td>\n",
       "      <td>1</td>\n",
       "      <td>1</td>\n",
       "      <td>2</td>\n",
       "    </tr>\n",
       "    <tr>\n",
       "      <th>2</th>\n",
       "      <td>32696793</td>\n",
       "      <td>453655</td>\n",
       "      <td>16252011</td>\n",
       "      <td>1</td>\n",
       "      <td>1</td>\n",
       "      <td>2</td>\n",
       "    </tr>\n",
       "    <tr>\n",
       "      <th>3</th>\n",
       "      <td>32696793</td>\n",
       "      <td>453655</td>\n",
       "      <td>21448310</td>\n",
       "      <td>1</td>\n",
       "      <td>1</td>\n",
       "      <td>2</td>\n",
       "    </tr>\n",
       "    <tr>\n",
       "      <th>4</th>\n",
       "      <td>37430888</td>\n",
       "      <td>453656</td>\n",
       "      <td>2748891</td>\n",
       "      <td>1</td>\n",
       "      <td>1</td>\n",
       "      <td>4</td>\n",
       "    </tr>\n",
       "  </tbody>\n",
       "</table>\n",
       "</div>"
      ],
      "text/plain": [
       "   docdb_family_id  appln_id_1  appln_id_2  family_size_in_auth2  exact_twins  \\\n",
       "0          8164667      448453   267441867                     1            1   \n",
       "1          8164667      448453   267566903                     1            1   \n",
       "2         32696793      453655    16252011                     1            1   \n",
       "3         32696793      453655    21448310                     1            1   \n",
       "4         37430888      453656     2748891                     1            1   \n",
       "\n",
       "   docdb_family_size  \n",
       "0                  2  \n",
       "1                  2  \n",
       "2                  2  \n",
       "3                  2  \n",
       "4                  4  "
      ]
     },
     "execution_count": 21,
     "metadata": {},
     "output_type": "execute_result"
    }
   ],
   "source": [
    "# Counting real family size\n",
    "df_family = df_twins.groupby(by=['docdb_family_id'])[['appln_id_1']].count()\\\n",
    "                    .rename(columns={'appln_id_1':'docdb_family_size'}).reset_index()\n",
    "# Adding the family size column to df_twins\n",
    "df_twins = pd.merge(df_twins, df_family, how='left', on='docdb_family_id')\n",
    "\n",
    "print(\"There are {:,} rows!\".format(df_twins.shape[0]))\n",
    "df_twins.head()"
   ]
  },
  {
   "cell_type": "code",
   "execution_count": 22,
   "metadata": {},
   "outputs": [
    {
     "name": "stdout",
     "output_type": "stream",
     "text": [
      "There are 642,114 records of exact twins!\n"
     ]
    }
   ],
   "source": [
    "# Counting the real \"exact twins\"\n",
    "print(\"There are {:,} records of exact twins!\"\n",
    "      .format((df_twins[df_twins.docdb_family_size==1]).shape[0]))"
   ]
  },
  {
   "cell_type": "code",
   "execution_count": null,
   "metadata": {},
   "outputs": [],
   "source": []
  }
 ],
 "metadata": {
  "kernelspec": {
   "display_name": "Python 3",
   "language": "python",
   "name": "python3"
  },
  "language_info": {
   "codemirror_mode": {
    "name": "ipython",
    "version": 3
   },
   "file_extension": ".py",
   "mimetype": "text/x-python",
   "name": "python",
   "nbconvert_exporter": "python",
   "pygments_lexer": "ipython3",
   "version": "3.7.2"
  }
 },
 "nbformat": 4,
 "nbformat_minor": 2
}
