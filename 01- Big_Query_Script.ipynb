{
 "cells": [
  {
   "cell_type": "markdown",
   "metadata": {},
   "source": [
    "## Importing"
   ]
  },
  {
   "cell_type": "code",
   "execution_count": 1,
   "metadata": {},
   "outputs": [],
   "source": [
    "from google.cloud import bigquery\n",
    "\n",
    "from open_patstat.utils.gcp import create_table, load_gcs_file, delete_table\n",
    "from open_patstat.utils.schema import Schema"
   ]
  },
  {
   "cell_type": "markdown",
   "metadata": {},
   "source": [
    "## Initializing the Client anf Job Config"
   ]
  },
  {
   "cell_type": "code",
   "execution_count": 2,
   "metadata": {},
   "outputs": [],
   "source": [
    "# Before running this line, make sure that you have defined the environment variable...\n",
    "# ...\"GOOGLE_APPLICATION_CREDENTIALS\" which points to the JSON file containing authentication key\n",
    "client = bigquery.Client()"
   ]
  },
  {
   "cell_type": "code",
   "execution_count": 3,
   "metadata": {},
   "outputs": [],
   "source": [
    "# Initializing the Job_config\n",
    "job_config = bigquery.LoadJobConfig()\n",
    "job_config.skip_leading_rows = 1\n",
    "job_config.max_bad_records = 10\n",
    "job_config.source_format = bigquery.SourceFormat.CSV\n",
    "dataset_ref = client.dataset('patstat')"
   ]
  },
  {
   "cell_type": "code",
   "execution_count": 5,
   "metadata": {},
   "outputs": [
    {
     "data": {
      "text/plain": [
       "[SchemaField('person_id', 'INTEGER', 'REQUIRED', None, ()),\n",
       " SchemaField('person_name', 'STRING', 'NULLABLE', None, ()),\n",
       " SchemaField('person_address', 'STRING', 'NULLABLE', None, ()),\n",
       " SchemaField('person_ctry_code', 'STRING', 'NULLABLE', None, ()),\n",
       " SchemaField('doc_std_name_id', 'INTEGER', 'NULLABLE', None, ()),\n",
       " SchemaField('doc_std_name', 'STRING', 'NULLABLE', None, ()),\n",
       " SchemaField('psn_id', 'INTEGER', 'NULLABLE', None, ()),\n",
       " SchemaField('psn_name', 'STRING', 'NULLABLE', None, ()),\n",
       " SchemaField('psn_level', 'INTEGER', 'NULLABLE', None, ()),\n",
       " SchemaField('psn_sector', 'STRING', 'NULLABLE', None, ())]"
      ]
     },
     "execution_count": 5,
     "metadata": {},
     "output_type": "execute_result"
    }
   ],
   "source": [
    "Schema().tls206"
   ]
  },
  {
   "cell_type": "markdown",
   "metadata": {},
   "source": [
    "## Creating and Adding Tables"
   ]
  },
  {
   "cell_type": "code",
   "execution_count": 7,
   "metadata": {},
   "outputs": [
    {
     "name": "stdout",
     "output_type": "stream",
     "text": [
      "Step 0 has started! tls206 is creating...\n"
     ]
    }
   ],
   "source": [
    "########## Creating and Loading tables ##########\n",
    "#################################################\n",
    "\n",
    "# Tables list to be loaded\n",
    "#tables_list = ['tls201', 'tls209', 'tls204', 'tls207', 'tls206', 'tls211', 'tls212']\n",
    "tables_list = ['tls206']\n",
    "               #'tls202', 'tls203', 'tls205', 'tls210', \n",
    "               #'tls214', 'tls215', 'tls216', 'tls222', \n",
    "               #'tls223', 'tls224', 'tls226', 'tls227', \n",
    "               #'tls229', 'tls230', \n",
    "               #'tls231', 'tls801', 'tls803',\n",
    "               #'tls901', 'tls902', 'tls904', 'tls906' ]\n",
    "\n",
    "# Google Bucket directory address, which contains all data files\n",
    "#gs_add = 'gs://patstat_2018g/new/'\n",
    "gs_add = 'gs://patstat_2018g/data_PATSTAT_Global_2018_Autumn/'\n",
    "\n",
    "# Loading the tables in the list\n",
    "for i, table in enumerate(tables_list):\n",
    "    # Creating the table\n",
    "    print('Step {} has started! {} is creating...'.format(i, table))\n",
    "    create_table(client,\n",
    "             dataset_id='patstat',\n",
    "             table_id=table,\n",
    "             schema=getattr(Schema(),table))\n",
    "    # Adding files to the table from GCP bucket\n",
    "    table_ref = dataset_ref.table(table)\n",
    "    job_config.schema = getattr(Schema(),table)\n",
    "    #load_gcs_file(client, gs_add+table+'_*.gz', \n",
    "    #              table_ref, job_config)\n",
    "    \n",
    "    load_job = client.load_table_from_uri(\n",
    "        source_uris=gs_add+table+'_*.gz',\n",
    "        destination=table_ref,\n",
    "        # job_id=job_id,\n",
    "        job_id_prefix='lgs-',\n",
    "        job_config=job_config,\n",
    "    )\n",
    "    load_job.result()"
   ]
  },
  {
   "cell_type": "code",
   "execution_count": 7,
   "metadata": {},
   "outputs": [
    {
     "data": {
      "text/plain": [
       "[{'reason': 'invalid',\n",
       "  'message': 'Provided Schema does not match Table usptobias:patstat.tls231. Field fee_renewal_year has changed type from DATE to INTEGER'}]"
      ]
     },
     "execution_count": 7,
     "metadata": {},
     "output_type": "execute_result"
    }
   ],
   "source": [
    "load_job.errors"
   ]
  },
  {
   "cell_type": "markdown",
   "metadata": {},
   "source": [
    "# Creating PAtentsview tables"
   ]
  },
  {
   "cell_type": "code",
   "execution_count": 2,
   "metadata": {},
   "outputs": [],
   "source": [
    "client = bigquery.Client()\n",
    "# Initializing the Job_config\n",
    "job_config = bigquery.LoadJobConfig()\n",
    "job_config.skip_leading_rows = 1\n",
    "job_config.max_bad_records = 20000\n",
    "job_config.source_format = bigquery.SourceFormat.CSV\n",
    "#job_config.field_delimiter = '\\t'\n",
    "dataset_ref = client.dataset('patentsview')"
   ]
  },
  {
   "cell_type": "code",
   "execution_count": 3,
   "metadata": {},
   "outputs": [
    {
     "name": "stdout",
     "output_type": "stream",
     "text": [
      "Step 0 has started! mapping is creating...\n"
     ]
    },
    {
     "ename": "BadRequest",
     "evalue": "400 Error while reading data, error message: CSV table encountered too many errors, giving up. Rows: 20001; errors: 20001. Please look into the errors[] collection for more details.",
     "output_type": "error",
     "traceback": [
      "\u001b[0;31m---------------------------------------------------------------------------\u001b[0m",
      "\u001b[0;31mBadRequest\u001b[0m                                Traceback (most recent call last)",
      "\u001b[0;32m<ipython-input-3-055973660198>\u001b[0m in \u001b[0;36m<module>\u001b[0;34m\u001b[0m\n\u001b[1;32m     32\u001b[0m         \u001b[0mjob_config\u001b[0m\u001b[0;34m=\u001b[0m\u001b[0mjob_config\u001b[0m\u001b[0;34m,\u001b[0m\u001b[0;34m\u001b[0m\u001b[0;34m\u001b[0m\u001b[0m\n\u001b[1;32m     33\u001b[0m     )\n\u001b[0;32m---> 34\u001b[0;31m     \u001b[0mload_job\u001b[0m\u001b[0;34m.\u001b[0m\u001b[0mresult\u001b[0m\u001b[0;34m(\u001b[0m\u001b[0;34m)\u001b[0m\u001b[0;34m\u001b[0m\u001b[0;34m\u001b[0m\u001b[0m\n\u001b[0m",
      "\u001b[0;32m~/anaconda3/envs/ip2019/lib/python3.7/site-packages/google/cloud/bigquery/job.py\u001b[0m in \u001b[0;36mresult\u001b[0;34m(self, timeout)\u001b[0m\n\u001b[1;32m    695\u001b[0m             \u001b[0mself\u001b[0m\u001b[0;34m.\u001b[0m\u001b[0m_begin\u001b[0m\u001b[0;34m(\u001b[0m\u001b[0;34m)\u001b[0m\u001b[0;34m\u001b[0m\u001b[0;34m\u001b[0m\u001b[0m\n\u001b[1;32m    696\u001b[0m         \u001b[0;31m# TODO: modify PollingFuture so it can pass a retry argument to done().\u001b[0m\u001b[0;34m\u001b[0m\u001b[0;34m\u001b[0m\u001b[0;34m\u001b[0m\u001b[0m\n\u001b[0;32m--> 697\u001b[0;31m         \u001b[0;32mreturn\u001b[0m \u001b[0msuper\u001b[0m\u001b[0;34m(\u001b[0m\u001b[0m_AsyncJob\u001b[0m\u001b[0;34m,\u001b[0m \u001b[0mself\u001b[0m\u001b[0;34m)\u001b[0m\u001b[0;34m.\u001b[0m\u001b[0mresult\u001b[0m\u001b[0;34m(\u001b[0m\u001b[0mtimeout\u001b[0m\u001b[0;34m=\u001b[0m\u001b[0mtimeout\u001b[0m\u001b[0;34m)\u001b[0m\u001b[0;34m\u001b[0m\u001b[0;34m\u001b[0m\u001b[0m\n\u001b[0m\u001b[1;32m    698\u001b[0m \u001b[0;34m\u001b[0m\u001b[0m\n\u001b[1;32m    699\u001b[0m     \u001b[0;32mdef\u001b[0m \u001b[0mcancelled\u001b[0m\u001b[0;34m(\u001b[0m\u001b[0mself\u001b[0m\u001b[0;34m)\u001b[0m\u001b[0;34m:\u001b[0m\u001b[0;34m\u001b[0m\u001b[0;34m\u001b[0m\u001b[0m\n",
      "\u001b[0;32m~/anaconda3/envs/ip2019/lib/python3.7/site-packages/google/api_core/future/polling.py\u001b[0m in \u001b[0;36mresult\u001b[0;34m(self, timeout)\u001b[0m\n\u001b[1;32m    125\u001b[0m             \u001b[0;31m# pylint: disable=raising-bad-type\u001b[0m\u001b[0;34m\u001b[0m\u001b[0;34m\u001b[0m\u001b[0;34m\u001b[0m\u001b[0m\n\u001b[1;32m    126\u001b[0m             \u001b[0;31m# Pylint doesn't recognize that this is valid in this case.\u001b[0m\u001b[0;34m\u001b[0m\u001b[0;34m\u001b[0m\u001b[0;34m\u001b[0m\u001b[0m\n\u001b[0;32m--> 127\u001b[0;31m             \u001b[0;32mraise\u001b[0m \u001b[0mself\u001b[0m\u001b[0;34m.\u001b[0m\u001b[0m_exception\u001b[0m\u001b[0;34m\u001b[0m\u001b[0;34m\u001b[0m\u001b[0m\n\u001b[0m\u001b[1;32m    128\u001b[0m \u001b[0;34m\u001b[0m\u001b[0m\n\u001b[1;32m    129\u001b[0m         \u001b[0;32mreturn\u001b[0m \u001b[0mself\u001b[0m\u001b[0;34m.\u001b[0m\u001b[0m_result\u001b[0m\u001b[0;34m\u001b[0m\u001b[0;34m\u001b[0m\u001b[0m\n",
      "\u001b[0;31mBadRequest\u001b[0m: 400 Error while reading data, error message: CSV table encountered too many errors, giving up. Rows: 20001; errors: 20001. Please look into the errors[] collection for more details."
     ]
    }
   ],
   "source": [
    "########## Creating and Loading tables ##########\n",
    "#################################################\n",
    "\n",
    "# Tables list to be loaded\n",
    "#tables_list = ['rawexaminer', 'rawlawyer']\n",
    "#tables_list = ['patent', 'application']\n",
    "tables_list = ['mapping']\n",
    "\n",
    "# Google Bucket directory address, which contains all data files\n",
    "#gs_add = 'gs://patstat_2018g/new/'\n",
    "gs_add = 'gs://uspto-data/'\n",
    "\n",
    "# Loading the tables in the list\n",
    "for i, table in enumerate(tables_list):\n",
    "    # Creating the table\n",
    "    print('Step {} has started! {} is creating...'.format(i, table))\n",
    "    create_table(client,\n",
    "             dataset_id='patentsview',\n",
    "             table_id=table,\n",
    "             schema=getattr(Schema(),table))\n",
    "    # Adding files to the table from GCP bucket\n",
    "    table_ref = dataset_ref.table(table)\n",
    "    job_config.schema = getattr(Schema(),table)\n",
    "    #load_gcs_file(client, gs_add+table+'_*.gz', \n",
    "    #              table_ref, job_config)\n",
    "    \n",
    "    load_job = client.load_table_from_uri(\n",
    "        source_uris=gs_add+table+'.csv.gz',\n",
    "        destination=table_ref,\n",
    "        # job_id=job_id,\n",
    "        job_id_prefix='lgs-',\n",
    "        job_config=job_config,\n",
    "    )\n",
    "    load_job.result()"
   ]
  },
  {
   "cell_type": "code",
   "execution_count": 7,
   "metadata": {},
   "outputs": [
    {
     "data": {
      "text/plain": [
       "[{'reason': 'invalid',\n",
       "  'location': 'gs://uspto-data/patent.tsv.gz',\n",
       "  'message': 'Error while reading data, error message: CSV table encountered too many errors, giving up. Rows: 6181207; errors: 201. Please look into the errors[] collection for more details.'},\n",
       " {'reason': 'invalid',\n",
       "  'location': 'gs://uspto-data/patent.tsv.gz',\n",
       "  'message': 'Error while reading data, error message: CSV table references column position 10, but line starting at position:2411318766 contains only 6 columns.'},\n",
       " {'reason': 'invalid',\n",
       "  'location': 'gs://uspto-data/patent.tsv.gz',\n",
       "  'message': 'Error while reading data, error message: CSV table references column position 10, but line starting at position:2411318947 contains only 1 columns.'},\n",
       " {'reason': 'invalid',\n",
       "  'location': 'gs://uspto-data/patent.tsv.gz',\n",
       "  'message': 'Error while reading data, error message: CSV table references column position 10, but line starting at position:2411319002 contains only 1 columns.'},\n",
       " {'reason': 'invalid',\n",
       "  'location': 'gs://uspto-data/patent.tsv.gz',\n",
       "  'message': 'Error while reading data, error message: CSV table references column position 10, but line starting at position:2411319165 contains only 1 columns.'},\n",
       " {'reason': 'invalid',\n",
       "  'location': 'gs://uspto-data/patent.tsv.gz',\n",
       "  'message': 'Error while reading data, error message: CSV table references column position 10, but line starting at position:2411319231 contains only 6 columns.'}]"
      ]
     },
     "execution_count": 7,
     "metadata": {},
     "output_type": "execute_result"
    }
   ],
   "source": [
    "load_job.errors"
   ]
  },
  {
   "cell_type": "code",
   "execution_count": null,
   "metadata": {},
   "outputs": [],
   "source": []
  }
 ],
 "metadata": {
  "kernelspec": {
   "display_name": "Python 3",
   "language": "python",
   "name": "python3"
  },
  "language_info": {
   "codemirror_mode": {
    "name": "ipython",
    "version": 3
   },
   "file_extension": ".py",
   "mimetype": "text/x-python",
   "name": "python",
   "nbconvert_exporter": "python",
   "pygments_lexer": "ipython3",
   "version": "3.6.7"
  }
 },
 "nbformat": 4,
 "nbformat_minor": 2
}
