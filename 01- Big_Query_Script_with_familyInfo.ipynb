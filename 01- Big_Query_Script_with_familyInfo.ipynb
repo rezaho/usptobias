{
 "cells": [
  {
   "cell_type": "markdown",
   "metadata": {},
   "source": [
    "## Importing"
   ]
  },
  {
   "cell_type": "code",
   "execution_count": 2,
   "metadata": {},
   "outputs": [],
   "source": [
    "from google.cloud import bigquery\n",
    "\n",
    "from open_patstat.utils.gcp import create_table, load_gcs_file, delete_table\n",
    "from open_patstat.utils.schema import Schema"
   ]
  },
  {
   "cell_type": "markdown",
   "metadata": {},
   "source": [
    "## Initializing the Client anf Job Config"
   ]
  },
  {
   "cell_type": "code",
   "execution_count": 4,
   "metadata": {},
   "outputs": [],
   "source": [
    "# Before running this line, make sure that you have defined the environment variable...\n",
    "# ...\"GOOGLE_APPLICATION_CREDENTIALS\" which points to the JSON file containing authentication key\n",
    "client = bigquery.Client()"
   ]
  },
  {
   "cell_type": "code",
   "execution_count": 3,
   "metadata": {},
   "outputs": [],
   "source": [
    "# Initializing the Job_config\n",
    "job_config = bigquery.LoadJobConfig()\n",
    "job_config.skip_leading_rows = 1\n",
    "job_config.max_bad_records = 10\n",
    "job_config.source_format = bigquery.SourceFormat.CSV\n",
    "dataset_ref = client.dataset('patstat')"
   ]
  },
  {
   "cell_type": "markdown",
   "metadata": {},
   "source": [
    "## Creating and Adding Tables"
   ]
  },
  {
   "cell_type": "code",
   "execution_count": null,
   "metadata": {},
   "outputs": [],
   "source": [
    "########## Creating and Loading tables ##########\n",
    "#################################################\n",
    "\n",
    "# Tables list to be loaded\n",
    "tables_list = ['tls201', 'tls209', 'tls204', 'tls207', 'tls206', 'tls211', 'tls212']\n",
    "\n",
    "# Google Bucket directory address, which contains all data files\n",
    "gs_add = 'gs://patstat_2018g/data_PATSTAT_Global_2018_Autumn/'\n",
    "\n",
    "# Loading the tables in the list\n",
    "for table in tables_list:\n",
    "    # Creating the table\n",
    "    create_table(client,\n",
    "             dataset_id='patstat',\n",
    "             table_id=table,\n",
    "             schema=getattr(Schema(),table))\n",
    "    # Adding files to the table from GCP bucket\n",
    "    table_ref = dataset_ref.table(table)\n",
    "    job_config.schema = getattr(Schema(),table)\n",
    "    load_gcs_file(client, gs_add+table+'_*.gz', \n",
    "                  table_ref, job_config)"
   ]
  },
  {
   "cell_type": "code",
   "execution_count": null,
   "metadata": {},
   "outputs": [],
   "source": []
  },
  {
   "cell_type": "code",
   "execution_count": null,
   "metadata": {},
   "outputs": [],
   "source": []
  },
  {
   "cell_type": "code",
   "execution_count": 29,
   "metadata": {},
   "outputs": [
    {
     "data": {
      "text/plain": [
       "['__class__',\n",
       " '__delattr__',\n",
       " '__dict__',\n",
       " '__dir__',\n",
       " '__doc__',\n",
       " '__eq__',\n",
       " '__format__',\n",
       " '__ge__',\n",
       " '__getattribute__',\n",
       " '__gt__',\n",
       " '__hash__',\n",
       " '__init__',\n",
       " '__init_subclass__',\n",
       " '__le__',\n",
       " '__lt__',\n",
       " '__module__',\n",
       " '__ne__',\n",
       " '__new__',\n",
       " '__reduce__',\n",
       " '__reduce_ex__',\n",
       " '__repr__',\n",
       " '__setattr__',\n",
       " '__sizeof__',\n",
       " '__str__',\n",
       " '__subclasshook__',\n",
       " '__weakref__',\n",
       " '_del_sub_prop',\n",
       " '_fill_from_default',\n",
       " '_get_sub_prop',\n",
       " '_job_type',\n",
       " '_properties',\n",
       " '_set_sub_prop',\n",
       " 'allow_jagged_rows',\n",
       " 'allow_quoted_newlines',\n",
       " 'autodetect',\n",
       " 'clustering_fields',\n",
       " 'create_disposition',\n",
       " 'destination_encryption_configuration',\n",
       " 'destination_table_description',\n",
       " 'destination_table_friendly_name',\n",
       " 'encoding',\n",
       " 'fieldDelimiter',\n",
       " 'field_delimiter',\n",
       " 'from_api_repr',\n",
       " 'ignore_unknown_values',\n",
       " 'labels',\n",
       " 'max_bad_records',\n",
       " 'null_marker',\n",
       " 'quote_character',\n",
       " 'schema',\n",
       " 'schema_update_options',\n",
       " 'skip_leading_rows',\n",
       " 'source_format',\n",
       " 'time_partitioning',\n",
       " 'to_api_repr',\n",
       " 'use_avro_logical_types',\n",
       " 'write_disposition']"
      ]
     },
     "execution_count": 29,
     "metadata": {},
     "output_type": "execute_result"
    }
   ],
   "source": [
    "dir(job_config)"
   ]
  },
  {
   "cell_type": "code",
   "execution_count": 36,
   "metadata": {},
   "outputs": [],
   "source": [
    "client = bigquery.Client()\n",
    "\n",
    "# Initializing the Job_config\n",
    "job_config = bigquery.LoadJobConfig()\n",
    "job_config.skip_leading_rows = 1\n",
    "job_config.max_bad_records = 10\n",
    "job_config.source_format = bigquery.SourceFormat.CSV\n",
    "job_config.fieldDelimiter = ';'\n",
    "job_config.field_delimiter = ';'\n",
    "job_config.encoding = 'ISO-8859-1'\n",
    "\n",
    "dataset_ref = client.dataset('results_docdb')"
   ]
  },
  {
   "cell_type": "code",
   "execution_count": 37,
   "metadata": {},
   "outputs": [],
   "source": [
    "INT = 'INTEGER'\n",
    "STR = 'STRING'\n",
    "NULL = 'NULLABLE'\n",
    "REQ = 'REQUIRED'\n",
    "\n",
    "schema = [\n",
    "    bigquery.SchemaField('docdb_family_id', INT, REQ, None, ()),\n",
    "    bigquery.SchemaField('appln_id_1', INT, REQ, None, ()),\n",
    "    bigquery.SchemaField('appln_kind_1', STR, NULL, None, ()),\n",
    "    bigquery.SchemaField('appln_auth_1', STR, NULL, None, ()),\n",
    "    bigquery.SchemaField('is_1_pf', INT, NULL, None, ()),\n",
    "    bigquery.SchemaField('nb_of_pf_claimed_by1', INT, NULL, None, ()),\n",
    "    bigquery.SchemaField('family_size_in_us', INT, NULL, None, ()),\n",
    "    bigquery.SchemaField('appln_id_2', INT, NULL, None, ()),\n",
    "    bigquery.SchemaField('appln_kind_2', STR, NULL, None, ()),\n",
    "    bigquery.SchemaField('appln_auth_2', STR, NULL, None, ()),\n",
    "    bigquery.SchemaField('is_2_pf', INT, NULL, None, ()),\n",
    "    bigquery.SchemaField('nb_of_pf_claimed_by2', INT, NULL, None, ()),\n",
    "    bigquery.SchemaField('family_size_in_auth2', INT, NULL, None, ()),\n",
    "    bigquery.SchemaField('exact_twins', STR, NULL, None, ())\n",
    "]"
   ]
  },
  {
   "cell_type": "code",
   "execution_count": 38,
   "metadata": {},
   "outputs": [],
   "source": [
    "########## Creating and Loading tables ##########\n",
    "#################################################\n",
    "\n",
    "# Tables list to be loaded\n",
    "tables_list = ['familyInformation']\n",
    "\n",
    "# Google Bucket directory address, which contains all data files\n",
    "gs_add = 'gs://family_information/'\n",
    "\n",
    "# Loading the tables in the list\n",
    "for table in tables_list:\n",
    "    # Creating the table\n",
    "    create_table(client,\n",
    "             dataset_id='results_docdb',\n",
    "             table_id=table,\n",
    "             schema=schema)\n",
    "    # Adding files to the table from GCP bucket\n",
    "    table_ref = dataset_ref.table(table)\n",
    "    job_config.schema = schema\n",
    "    load_job = client.load_table_from_uri(\n",
    "        source_uris=gs_add+table+'.csv.gz',\n",
    "        destination=table_ref,\n",
    "        # job_id=job_id,\n",
    "        job_id_prefix='lgs-',\n",
    "        job_config=job_config,\n",
    "    )\n",
    "    load_job.result()"
   ]
  },
  {
   "cell_type": "code",
   "execution_count": null,
   "metadata": {},
   "outputs": [],
   "source": [
    "load_job.errors"
   ]
  },
  {
   "cell_type": "code",
   "execution_count": 17,
   "metadata": {},
   "outputs": [],
   "source": [
    "? job_config.source_format"
   ]
  }
 ],
 "metadata": {
  "kernelspec": {
   "display_name": "Python 3",
   "language": "python",
   "name": "python3"
  },
  "language_info": {
   "codemirror_mode": {
    "name": "ipython",
    "version": 3
   },
   "file_extension": ".py",
   "mimetype": "text/x-python",
   "name": "python",
   "nbconvert_exporter": "python",
   "pygments_lexer": "ipython3",
   "version": "3.7.2"
  }
 },
 "nbformat": 4,
 "nbformat_minor": 2
}
