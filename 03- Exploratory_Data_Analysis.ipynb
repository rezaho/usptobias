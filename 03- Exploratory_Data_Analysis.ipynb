{
 "cells": [
  {
   "cell_type": "code",
   "execution_count": 2,
   "metadata": {},
   "outputs": [],
   "source": [
    "import pandas as pd\n",
    "from google.cloud import bigquery\n",
    "%load_ext google.cloud.bigquery\n",
    "\n",
    "import matplotlib.pyplot as plt\n",
    "from matplotlib import ticker\n",
    "import seaborn as sns\n",
    "\n",
    "sns.set(style='darkgrid', font_scale=1.5)\n",
    "#sns.set_style('darkgrid', {\"xtick.minor.size\": 10, \"ytick.major.size\": 10})\n",
    "current_palette = sns.color_palette('deep')"
   ]
  },
  {
   "cell_type": "code",
   "execution_count": 175,
   "metadata": {},
   "outputs": [],
   "source": [
    "client = bigquery.Client()\n",
    "\n",
    "dataset_id = 'results_docdb'\n",
    "table_id = 'backbone_0'\n",
    "\n",
    "table_ref = client.dataset(dataset_id).table(table_id)\n",
    "# Getting table object\n",
    "table = client.get_table(table_ref)\n",
    "# Getting RowIterator object with only 10,000 first rows\n",
    "rows = client.list_rows(table, max_results=10000)\n",
    "# Getting the Pandas Dataframe\n",
    "df_ = rows.to_dataframe()"
   ]
  },
  {
   "cell_type": "code",
   "execution_count": 176,
   "metadata": {},
   "outputs": [
    {
     "data": {
      "text/html": [
       "<div>\n",
       "<style scoped>\n",
       "    .dataframe tbody tr th:only-of-type {\n",
       "        vertical-align: middle;\n",
       "    }\n",
       "\n",
       "    .dataframe tbody tr th {\n",
       "        vertical-align: top;\n",
       "    }\n",
       "\n",
       "    .dataframe thead th {\n",
       "        text-align: right;\n",
       "    }\n",
       "</style>\n",
       "<table border=\"1\" class=\"dataframe\">\n",
       "  <thead>\n",
       "    <tr style=\"text-align: right;\">\n",
       "      <th></th>\n",
       "      <th>appln_id_1</th>\n",
       "      <th>appln_nr_1</th>\n",
       "      <th>appln_auth_1</th>\n",
       "      <th>appln_filing_year_1</th>\n",
       "      <th>appln_kind_1</th>\n",
       "      <th>appln_id_2</th>\n",
       "      <th>appln_nr_2</th>\n",
       "      <th>appln_auth_2</th>\n",
       "      <th>appln_filing_year_2</th>\n",
       "      <th>appln_kind_2</th>\n",
       "      <th>docdb_family_id</th>\n",
       "      <th>docdb_nb_pairs</th>\n",
       "      <th>exact_twins</th>\n",
       "      <th>is_1_pf</th>\n",
       "      <th>is_2_pf</th>\n",
       "    </tr>\n",
       "  </thead>\n",
       "  <tbody>\n",
       "    <tr>\n",
       "      <th>0</th>\n",
       "      <td>330388621</td>\n",
       "      <td>83467310</td>\n",
       "      <td>US</td>\n",
       "      <td>2010</td>\n",
       "      <td>A</td>\n",
       "      <td>497159087</td>\n",
       "      <td>181100283</td>\n",
       "      <td>CY</td>\n",
       "      <td>2018</td>\n",
       "      <td>T</td>\n",
       "      <td>42670422</td>\n",
       "      <td>6</td>\n",
       "      <td>0</td>\n",
       "      <td>0</td>\n",
       "      <td>0</td>\n",
       "    </tr>\n",
       "    <tr>\n",
       "      <th>1</th>\n",
       "      <td>54407623</td>\n",
       "      <td>97698007</td>\n",
       "      <td>US</td>\n",
       "      <td>2007</td>\n",
       "      <td>A</td>\n",
       "      <td>15585641</td>\n",
       "      <td>52497</td>\n",
       "      <td>EG</td>\n",
       "      <td>1997</td>\n",
       "      <td>A</td>\n",
       "      <td>25663046</td>\n",
       "      <td>49</td>\n",
       "      <td>0</td>\n",
       "      <td>0</td>\n",
       "      <td>0</td>\n",
       "    </tr>\n",
       "    <tr>\n",
       "      <th>2</th>\n",
       "      <td>50244105</td>\n",
       "      <td>36941006</td>\n",
       "      <td>US</td>\n",
       "      <td>2006</td>\n",
       "      <td>A</td>\n",
       "      <td>43705482</td>\n",
       "      <td>75399</td>\n",
       "      <td>SK</td>\n",
       "      <td>1997</td>\n",
       "      <td>A</td>\n",
       "      <td>26708180</td>\n",
       "      <td>3</td>\n",
       "      <td>0</td>\n",
       "      <td>0</td>\n",
       "      <td>0</td>\n",
       "    </tr>\n",
       "    <tr>\n",
       "      <th>3</th>\n",
       "      <td>49711400</td>\n",
       "      <td>33597803</td>\n",
       "      <td>US</td>\n",
       "      <td>2003</td>\n",
       "      <td>A</td>\n",
       "      <td>42399621</td>\n",
       "      <td>28759290</td>\n",
       "      <td>PL</td>\n",
       "      <td>1990</td>\n",
       "      <td>A</td>\n",
       "      <td>23706597</td>\n",
       "      <td>3</td>\n",
       "      <td>0</td>\n",
       "      <td>1</td>\n",
       "      <td>0</td>\n",
       "    </tr>\n",
       "    <tr>\n",
       "      <th>4</th>\n",
       "      <td>420522490</td>\n",
       "      <td>201214238569</td>\n",
       "      <td>US</td>\n",
       "      <td>2012</td>\n",
       "      <td>A</td>\n",
       "      <td>497159007</td>\n",
       "      <td>181100119</td>\n",
       "      <td>CY</td>\n",
       "      <td>2018</td>\n",
       "      <td>T</td>\n",
       "      <td>47715182</td>\n",
       "      <td>1</td>\n",
       "      <td>1</td>\n",
       "      <td>0</td>\n",
       "      <td>0</td>\n",
       "    </tr>\n",
       "  </tbody>\n",
       "</table>\n",
       "</div>"
      ],
      "text/plain": [
       "   appln_id_1    appln_nr_1 appln_auth_1  appln_filing_year_1 appln_kind_1  \\\n",
       "0   330388621      83467310           US                 2010           A    \n",
       "1    54407623      97698007           US                 2007           A    \n",
       "2    50244105      36941006           US                 2006           A    \n",
       "3    49711400      33597803           US                 2003           A    \n",
       "4   420522490  201214238569           US                 2012           A    \n",
       "\n",
       "   appln_id_2 appln_nr_2 appln_auth_2  appln_filing_year_2 appln_kind_2  \\\n",
       "0   497159087  181100283           CY                 2018           T    \n",
       "1    15585641      52497           EG                 1997           A    \n",
       "2    43705482      75399           SK                 1997           A    \n",
       "3    42399621   28759290           PL                 1990           A    \n",
       "4   497159007  181100119           CY                 2018           T    \n",
       "\n",
       "   docdb_family_id  docdb_nb_pairs  exact_twins  is_1_pf  is_2_pf  \n",
       "0         42670422               6            0        0        0  \n",
       "1         25663046              49            0        0        0  \n",
       "2         26708180               3            0        0        0  \n",
       "3         23706597               3            0        1        0  \n",
       "4         47715182               1            1        0        0  "
      ]
     },
     "execution_count": 176,
     "metadata": {},
     "output_type": "execute_result"
    }
   ],
   "source": [
    "df_.head()"
   ]
  },
  {
   "cell_type": "markdown",
   "metadata": {},
   "source": [
    "### What I can explore in this data?\n",
    "- Proportion of exact twins to all cases\n",
    "- number of cases in each authority office\n",
    "- number of cases in each application kind\n",
    "- how many exact twins exists in each Docdb family\n",
    "- Priority Filing Status"
   ]
  },
  {
   "cell_type": "code",
   "execution_count": 11,
   "metadata": {},
   "outputs": [],
   "source": [
    "# Proportion of twins to all cases"
   ]
  },
  {
   "cell_type": "code",
   "execution_count": null,
   "metadata": {},
   "outputs": [],
   "source": [
    "%%bigquery df_\n",
    "SELECT \n",
    "    *\n",
    "FROM `usptobias.results_docdb.familyInformation`\n",
    "WHERE exact_twins='1'\n",
    "    AND nb_of_pf_claimed_by1=0\n",
    "    AND nb_of_pf_claimed_by2=0"
   ]
  },
  {
   "cell_type": "code",
   "execution_count": 4,
   "metadata": {},
   "outputs": [
    {
     "data": {
      "text/html": [
       "<div>\n",
       "<style scoped>\n",
       "    .dataframe tbody tr th:only-of-type {\n",
       "        vertical-align: middle;\n",
       "    }\n",
       "\n",
       "    .dataframe tbody tr th {\n",
       "        vertical-align: top;\n",
       "    }\n",
       "\n",
       "    .dataframe thead th {\n",
       "        text-align: right;\n",
       "    }\n",
       "</style>\n",
       "<table border=\"1\" class=\"dataframe\">\n",
       "  <thead>\n",
       "    <tr style=\"text-align: right;\">\n",
       "      <th></th>\n",
       "      <th>docdb_family_id</th>\n",
       "      <th>appln_id_1</th>\n",
       "      <th>appln_kind_1</th>\n",
       "      <th>appln_auth_1</th>\n",
       "      <th>is_1_pf</th>\n",
       "      <th>nb_of_pf_claimed_by1</th>\n",
       "      <th>family_size_in_us</th>\n",
       "      <th>appln_id_2</th>\n",
       "      <th>appln_kind_2</th>\n",
       "      <th>appln_auth_2</th>\n",
       "      <th>is_2_pf</th>\n",
       "      <th>nb_of_pf_claimed_by2</th>\n",
       "      <th>family_size_in_auth2</th>\n",
       "      <th>exact_twins</th>\n",
       "    </tr>\n",
       "  </thead>\n",
       "  <tbody>\n",
       "    <tr>\n",
       "      <th>0</th>\n",
       "      <td>19911220</td>\n",
       "      <td>48927882</td>\n",
       "      <td>A</td>\n",
       "      <td>US</td>\n",
       "      <td>1</td>\n",
       "      <td>0</td>\n",
       "      <td>1</td>\n",
       "      <td>42079888</td>\n",
       "      <td>A</td>\n",
       "      <td>NO</td>\n",
       "      <td>1</td>\n",
       "      <td>0</td>\n",
       "      <td>1</td>\n",
       "      <td>1</td>\n",
       "    </tr>\n",
       "    <tr>\n",
       "      <th>1</th>\n",
       "      <td>34863273</td>\n",
       "      <td>53271730</td>\n",
       "      <td>A</td>\n",
       "      <td>US</td>\n",
       "      <td>1</td>\n",
       "      <td>0</td>\n",
       "      <td>1</td>\n",
       "      <td>24293845</td>\n",
       "      <td>A</td>\n",
       "      <td>IL</td>\n",
       "      <td>1</td>\n",
       "      <td>0</td>\n",
       "      <td>1</td>\n",
       "      <td>1</td>\n",
       "    </tr>\n",
       "    <tr>\n",
       "      <th>2</th>\n",
       "      <td>54256405</td>\n",
       "      <td>55389969</td>\n",
       "      <td>A</td>\n",
       "      <td>US</td>\n",
       "      <td>1</td>\n",
       "      <td>0</td>\n",
       "      <td>1</td>\n",
       "      <td>2765157</td>\n",
       "      <td>A</td>\n",
       "      <td>AU</td>\n",
       "      <td>1</td>\n",
       "      <td>0</td>\n",
       "      <td>1</td>\n",
       "      <td>1</td>\n",
       "    </tr>\n",
       "    <tr>\n",
       "      <th>3</th>\n",
       "      <td>32396408</td>\n",
       "      <td>48670238</td>\n",
       "      <td>A</td>\n",
       "      <td>US</td>\n",
       "      <td>1</td>\n",
       "      <td>0</td>\n",
       "      <td>1</td>\n",
       "      <td>42738619</td>\n",
       "      <td>A</td>\n",
       "      <td>RU</td>\n",
       "      <td>1</td>\n",
       "      <td>0</td>\n",
       "      <td>1</td>\n",
       "      <td>1</td>\n",
       "    </tr>\n",
       "    <tr>\n",
       "      <th>4</th>\n",
       "      <td>34139839</td>\n",
       "      <td>50499177</td>\n",
       "      <td>A</td>\n",
       "      <td>US</td>\n",
       "      <td>1</td>\n",
       "      <td>0</td>\n",
       "      <td>1</td>\n",
       "      <td>42208048</td>\n",
       "      <td>A</td>\n",
       "      <td>NZ</td>\n",
       "      <td>1</td>\n",
       "      <td>0</td>\n",
       "      <td>1</td>\n",
       "      <td>1</td>\n",
       "    </tr>\n",
       "  </tbody>\n",
       "</table>\n",
       "</div>"
      ],
      "text/plain": [
       "   docdb_family_id  appln_id_1 appln_kind_1 appln_auth_1  is_1_pf  \\\n",
       "0         19911220    48927882            A           US        1   \n",
       "1         34863273    53271730            A           US        1   \n",
       "2         54256405    55389969            A           US        1   \n",
       "3         32396408    48670238            A           US        1   \n",
       "4         34139839    50499177            A           US        1   \n",
       "\n",
       "   nb_of_pf_claimed_by1  family_size_in_us  appln_id_2 appln_kind_2  \\\n",
       "0                     0                  1    42079888            A   \n",
       "1                     0                  1    24293845            A   \n",
       "2                     0                  1     2765157            A   \n",
       "3                     0                  1    42738619            A   \n",
       "4                     0                  1    42208048            A   \n",
       "\n",
       "  appln_auth_2  is_2_pf  nb_of_pf_claimed_by2  family_size_in_auth2  \\\n",
       "0           NO        1                     0                     1   \n",
       "1           IL        1                     0                     1   \n",
       "2           AU        1                     0                     1   \n",
       "3           RU        1                     0                     1   \n",
       "4           NZ        1                     0                     1   \n",
       "\n",
       "  exact_twins  \n",
       "0           1  \n",
       "1           1  \n",
       "2           1  \n",
       "3           1  \n",
       "4           1  "
      ]
     },
     "execution_count": 4,
     "metadata": {},
     "output_type": "execute_result"
    }
   ],
   "source": [
    "df_.head()"
   ]
  },
  {
   "cell_type": "code",
   "execution_count": 55,
   "metadata": {},
   "outputs": [],
   "source": [
    "%%bigquery df_nb_twins\n",
    "SELECT \n",
    "    exact_twins,\n",
    "    COUNT(*) AS nb_pairs\n",
    "FROM `usptobias.results_docdb.backbone_0`\n",
    "GROUP BY exact_twins"
   ]
  },
  {
   "cell_type": "code",
   "execution_count": 40,
   "metadata": {},
   "outputs": [],
   "source": [
    "dict_map = {0:'not Twins', 1:'Exact Twins'}\n",
    "df_nb = df_nb_twins.copy()\n",
    "df_nb['exact_twins'] = df_nb_twins['exact_twins'].map(dict_map)"
   ]
  },
  {
   "cell_type": "code",
   "execution_count": null,
   "metadata": {},
   "outputs": [],
   "source": [
    "df_nb['twins'] = 'Twins Category'\n",
    "df_nb.pivot(values='nb_pairs', columns='exact_twins', index='twins').plot(kind='bar', stacked=True)#.stack().reset_index()#.unstack(level=-1)"
   ]
  },
  {
   "cell_type": "code",
   "execution_count": null,
   "metadata": {},
   "outputs": [],
   "source": [
    "dir(g.ax.yaxis)"
   ]
  },
  {
   "cell_type": "code",
   "execution_count": 79,
   "metadata": {},
   "outputs": [
    {
     "data": {
      "text/plain": [
       "['0', '1']"
      ]
     },
     "execution_count": 79,
     "metadata": {},
     "output_type": "execute_result"
    }
   ],
   "source": [
    "labels = [item.get_text() for item in g.ax.xaxis.get_ticklabels()]\n"
   ]
  },
  {
   "cell_type": "code",
   "execution_count": 144,
   "metadata": {},
   "outputs": [
    {
     "data": {
      "image/png": "[encoded data removed]",
      "text/plain": [
       "<Figure size 388.8x432 with 1 Axes>"
      ]
     },
     "metadata": {},
     "output_type": "display_data"
    }
   ],
   "source": [
    "g = sns.catplot(x=\"exact_twins\", y=\"nb_pairs\", ci=95, #hue=\"class\", #col=\"alone\", #col_wrap=2 , #ci='sd',\n",
    "                data=df_nb_twins, kind='bar', height=6, aspect=0.9, palette='Set1') #\n",
    "#g.set_ylabels('Counts', fontsize=18)\n",
    "#g.set_xlabels('X axis', fontsize=18)\n",
    "#g.set(xscale=\"log\")\n",
    "\n",
    "## Changing label names\n",
    "## replace labels\n",
    "new_labels = ['Not twins', 'Exact Twins']\n",
    "g.ax.xaxis.set_ticklabels(new_labels)\n",
    "g.set(xlabel='Twins', ylabel='Number of Cases')\n",
    "\n",
    "#ax.set_yscale('log')\n",
    "#g.set_xticklabels(ax.get_xticklabels(), fontdict={'fontsize':16}, rotation=45, ha='right') #or rotation='horizontal'\n",
    "g.ax.yaxis.get_major_formatter().set_scientific(False)\n",
    "g.ax.yaxis.set_major_formatter(ticker.StrMethodFormatter('{x:,.0f}'))\n",
    "\n",
    "#plt.setp(g._legend.get_title(),fontsize=20)\n",
    "plt.title('Number of \"Exact Twins\" cases!', fontsize=18) # comment this line if you are using 'col' feature\n",
    "plt.show()"
   ]
  },
  {
   "cell_type": "markdown",
   "metadata": {},
   "source": [
    "## Visualizing the Schema of the table `'Backbone_0'`"
   ]
  },
  {
   "cell_type": "code",
   "execution_count": 10,
   "metadata": {},
   "outputs": [
    {
     "data": {
      "text/html": [
       "<div>\n",
       "<style scoped>\n",
       "    .dataframe tbody tr th:only-of-type {\n",
       "        vertical-align: middle;\n",
       "    }\n",
       "\n",
       "    .dataframe tbody tr th {\n",
       "        vertical-align: top;\n",
       "    }\n",
       "\n",
       "    .dataframe thead th {\n",
       "        text-align: right;\n",
       "    }\n",
       "</style>\n",
       "<table border=\"1\" class=\"dataframe\">\n",
       "  <thead>\n",
       "    <tr style=\"text-align: right;\">\n",
       "      <th></th>\n",
       "      <th>Type</th>\n",
       "      <th>Mode</th>\n",
       "    </tr>\n",
       "    <tr>\n",
       "      <th>Name</th>\n",
       "      <th></th>\n",
       "      <th></th>\n",
       "    </tr>\n",
       "  </thead>\n",
       "  <tbody>\n",
       "    <tr>\n",
       "      <th>appln_id_1</th>\n",
       "      <td>INTEGER</td>\n",
       "      <td>NULLABLE</td>\n",
       "    </tr>\n",
       "    <tr>\n",
       "      <th>appln_nr_1</th>\n",
       "      <td>STRING</td>\n",
       "      <td>NULLABLE</td>\n",
       "    </tr>\n",
       "    <tr>\n",
       "      <th>appln_auth_1</th>\n",
       "      <td>STRING</td>\n",
       "      <td>NULLABLE</td>\n",
       "    </tr>\n",
       "    <tr>\n",
       "      <th>appln_filing_year_1</th>\n",
       "      <td>INTEGER</td>\n",
       "      <td>NULLABLE</td>\n",
       "    </tr>\n",
       "    <tr>\n",
       "      <th>appln_kind_1</th>\n",
       "      <td>STRING</td>\n",
       "      <td>NULLABLE</td>\n",
       "    </tr>\n",
       "    <tr>\n",
       "      <th>appln_id_2</th>\n",
       "      <td>INTEGER</td>\n",
       "      <td>NULLABLE</td>\n",
       "    </tr>\n",
       "    <tr>\n",
       "      <th>appln_nr_2</th>\n",
       "      <td>STRING</td>\n",
       "      <td>NULLABLE</td>\n",
       "    </tr>\n",
       "    <tr>\n",
       "      <th>appln_auth_2</th>\n",
       "      <td>STRING</td>\n",
       "      <td>NULLABLE</td>\n",
       "    </tr>\n",
       "    <tr>\n",
       "      <th>appln_filing_year_2</th>\n",
       "      <td>INTEGER</td>\n",
       "      <td>NULLABLE</td>\n",
       "    </tr>\n",
       "    <tr>\n",
       "      <th>appln_kind_2</th>\n",
       "      <td>STRING</td>\n",
       "      <td>NULLABLE</td>\n",
       "    </tr>\n",
       "    <tr>\n",
       "      <th>docdb_family_id</th>\n",
       "      <td>INTEGER</td>\n",
       "      <td>NULLABLE</td>\n",
       "    </tr>\n",
       "    <tr>\n",
       "      <th>docdb_nb_pairs</th>\n",
       "      <td>INTEGER</td>\n",
       "      <td>NULLABLE</td>\n",
       "    </tr>\n",
       "    <tr>\n",
       "      <th>exact_twins</th>\n",
       "      <td>INTEGER</td>\n",
       "      <td>NULLABLE</td>\n",
       "    </tr>\n",
       "    <tr>\n",
       "      <th>is_1_pf</th>\n",
       "      <td>INTEGER</td>\n",
       "      <td>NULLABLE</td>\n",
       "    </tr>\n",
       "    <tr>\n",
       "      <th>is_2_pf</th>\n",
       "      <td>INTEGER</td>\n",
       "      <td>NULLABLE</td>\n",
       "    </tr>\n",
       "  </tbody>\n",
       "</table>\n",
       "</div>"
      ],
      "text/plain": [
       "                        Type      Mode\n",
       "Name                                  \n",
       "appln_id_1           INTEGER  NULLABLE\n",
       "appln_nr_1            STRING  NULLABLE\n",
       "appln_auth_1          STRING  NULLABLE\n",
       "appln_filing_year_1  INTEGER  NULLABLE\n",
       "appln_kind_1          STRING  NULLABLE\n",
       "appln_id_2           INTEGER  NULLABLE\n",
       "appln_nr_2            STRING  NULLABLE\n",
       "appln_auth_2          STRING  NULLABLE\n",
       "appln_filing_year_2  INTEGER  NULLABLE\n",
       "appln_kind_2          STRING  NULLABLE\n",
       "docdb_family_id      INTEGER  NULLABLE\n",
       "docdb_nb_pairs       INTEGER  NULLABLE\n",
       "exact_twins          INTEGER  NULLABLE\n",
       "is_1_pf              INTEGER  NULLABLE\n",
       "is_2_pf              INTEGER  NULLABLE"
      ]
     },
     "execution_count": 10,
     "metadata": {},
     "output_type": "execute_result"
    }
   ],
   "source": [
    "# Showing the Schema\n",
    "dataset_id = 'results_docdb'\n",
    "table_id = 'backbone_0'\n",
    "# Getting the table's information\n",
    "table_ref = client.dataset(dataset_id).table(table_id)\n",
    "table = client.get_table(table_ref)\n",
    "\n",
    "list_schema = [[x.name, x.field_type, x.mode] for x in table.schema]\n",
    "pd.DataFrame(list_schema, columns=['Name', 'Type', 'Mode']).set_index('Name')"
   ]
  },
  {
   "cell_type": "markdown",
   "metadata": {},
   "source": [
    "## Counting Number of Cases in each Authority office"
   ]
  },
  {
   "cell_type": "code",
   "execution_count": 86,
   "metadata": {},
   "outputs": [],
   "source": [
    "%%bigquery df_nb_auth\n",
    "SELECT \n",
    "    appln_auth_2,\n",
    "    exact_twins,\n",
    "    COUNT(*) AS nb_cases\n",
    "FROM `usptobias.results_docdb.backbone_0`\n",
    "GROUP BY appln_auth_2, exact_twins\n",
    "ORDER BY nb_cases DESC"
   ]
  },
  {
   "cell_type": "code",
   "execution_count": 88,
   "metadata": {},
   "outputs": [],
   "source": [
    "# Changing the values in 'exact_twins' column\n",
    "dict_map = {0:'not Twins', 1:'Exact Twins'}\n",
    "df_nb_auth['exact_twins'] = df_nb_auth['exact_twins'].map(dict_map)"
   ]
  },
  {
   "cell_type": "code",
   "execution_count": 100,
   "metadata": {},
   "outputs": [],
   "source": [
    "# Keeping the 15 offices with highest number of cases\n",
    "auth_list = df_nb_auth.groupby(by=['appln_auth_2'])[['nb_cases']].sum()\\\n",
    "                      .reset_index().sort_values(by=['nb_cases'], ascending=False)\\\n",
    "                      .appln_auth_2.values[:15]"
   ]
  },
  {
   "cell_type": "code",
   "execution_count": 122,
   "metadata": {},
   "outputs": [],
   "source": [
    "# Preparing the dataframe for plotting\n",
    "df_nb_auth.columns = ['Authority Office', 'Is a twin?', 'nb_cases']\n",
    "df_plot = df_nb_auth[df_nb_auth['Authority Office'].isin(auth_list)].pivot(values='nb_cases', columns='Is a twin?', index='Authority Office')"
   ]
  },
  {
   "cell_type": "code",
   "execution_count": 121,
   "metadata": {},
   "outputs": [
    {
     "data": {
      "image/png": "[encoded data removed]",
      "text/plain": [
       "<Figure size 864x504 with 1 Axes>"
      ]
     },
     "metadata": {},
     "output_type": "display_data"
    }
   ],
   "source": [
    "# Plotting\n",
    "fig, ax = plt.subplots(1, 1, figsize=(12,7))\n",
    "df_plot.reindex(index=auth_list).plot(ax=ax, kind='bar', stacked=True, colormap='Spectral')\n",
    "ax.bar\n",
    "#ax.set_xlabel('Sex', fontsize=18)\n",
    "ax.set_ylabel('Counts', fontsize=20)\n",
    "#ax.set_title('My title', fontsize=20)\n",
    "#ax.legend(#['First', 'Second', 'Third'], # you can send a list to change the legends\n",
    "#          loc='center left', bbox_to_anchor=(1., 0.5)) # bbox_to_anchor is for putting legend outside the plot\n",
    "#ax.set_yscale('log')\n",
    "#ax.set_xticks(ax.get_xticks()) # list of xticks positions\n",
    "#ax.set_xticklabels(ax.get_xticklabels(), fontdict={'fontsize':16}, rotation=45, ha='right') #or rotation='horizontal'\n",
    "ax.yaxis.set_major_formatter(ticker.StrMethodFormatter('{x:,.0f}'))\n",
    "plt.show()"
   ]
  },
  {
   "cell_type": "markdown",
   "metadata": {},
   "source": [
    "## Counting Distinct number of applications"
   ]
  },
  {
   "cell_type": "code",
   "execution_count": 136,
   "metadata": {},
   "outputs": [],
   "source": [
    "%%bigquery df_nb_auth_2\n",
    "SELECT \n",
    "    appln_auth_2,\n",
    "    exact_twins,\n",
    "    COUNT(DISTINCT appln_id_2) AS nb_unique_cases\n",
    "FROM `usptobias.results_docdb.backbone_0`\n",
    "GROUP BY appln_auth_2, exact_twins\n",
    "ORDER BY nb_unique_cases DESC"
   ]
  },
  {
   "cell_type": "code",
   "execution_count": 137,
   "metadata": {},
   "outputs": [],
   "source": [
    "# Changing the values in 'exact_twins' column\n",
    "dict_map = {0:'not Twins', 1:'Exact Twins'}\n",
    "df_nb_auth_2['exact_twins'] = df_nb_auth_2['exact_twins'].map(dict_map)"
   ]
  },
  {
   "cell_type": "code",
   "execution_count": 138,
   "metadata": {},
   "outputs": [],
   "source": [
    "# Keeping the 15 offices with highest number of cases\n",
    "auth_list2 = df_nb_auth_2.groupby(by=['appln_auth_2'])[['nb_unique_cases']].sum()\\\n",
    "                         .reset_index().sort_values(by=['nb_unique_cases'], ascending=False)\\\n",
    "                         .appln_auth_2.values[:15]"
   ]
  },
  {
   "cell_type": "code",
   "execution_count": 139,
   "metadata": {},
   "outputs": [],
   "source": [
    "# Preparing the dataframe for plotting\n",
    "df_nb_auth_2.columns = ['Authority Office', 'Is a twin?', 'nb_unique_cases']\n",
    "df_plot = df_nb_auth_2[df_nb_auth_2['Authority Office'].isin(auth_list2)]\\\n",
    "            .pivot(values='nb_unique_cases', columns='Is a twin?', index='Authority Office')"
   ]
  },
  {
   "cell_type": "code",
   "execution_count": 141,
   "metadata": {},
   "outputs": [
    {
     "data": {
      "image/png": "[encoded data removed]",
      "text/plain": [
       "<Figure size 864x504 with 1 Axes>"
      ]
     },
     "metadata": {},
     "output_type": "display_data"
    }
   ],
   "source": [
    "# Plotting\n",
    "fig, ax = plt.subplots(1, 1, figsize=(12,7))\n",
    "df_plot.reindex(index=auth_list2).plot(ax=ax, kind='bar', stacked=True, colormap='Spectral')\n",
    "ax.bar\n",
    "#ax.set_xlabel('Sex', fontsize=18)\n",
    "ax.set_ylabel('Unique Counts', fontsize=20)\n",
    "#ax.set_title('My title', fontsize=20)\n",
    "#ax.legend(#['First', 'Second', 'Third'], # you can send a list to change the legends\n",
    "#          loc='center left', bbox_to_anchor=(1., 0.5)) # bbox_to_anchor is for putting legend outside the plot\n",
    "#ax.set_yscale('log')\n",
    "#ax.set_xticks(ax.get_xticks()) # list of xticks positions\n",
    "#ax.set_xticklabels(ax.get_xticklabels(), fontdict={'fontsize':16}, rotation=45, ha='right') #or rotation='horizontal'\n",
    "ax.yaxis.set_major_formatter(ticker.StrMethodFormatter('{x:,.0f}'))\n",
    "plt.show()"
   ]
  },
  {
   "cell_type": "markdown",
   "metadata": {},
   "source": [
    "## Priority Filing Status"
   ]
  },
  {
   "cell_type": "code",
   "execution_count": 161,
   "metadata": {},
   "outputs": [],
   "source": [
    "%%bigquery df_pf_1\n",
    "SELECT \n",
    "    'US' AS appln_auth,\n",
    "    exact_twins,\n",
    "    COUNT(DISTINCT appln_id_1) AS nb_cases\n",
    "FROM `usptobias.results_docdb.backbone_0`\n",
    "GROUP BY appln_auth_1, exact_twins\n",
    "ORDER BY nb_cases DESC"
   ]
  },
  {
   "cell_type": "code",
   "execution_count": 162,
   "metadata": {},
   "outputs": [],
   "source": [
    "%%bigquery df_pf_2\n",
    "SELECT \n",
    "    appln_auth_2 AS appln_auth,\n",
    "    exact_twins,\n",
    "    COUNT(DISTINCT appln_id_2) AS nb_cases\n",
    "FROM `usptobias.results_docdb.backbone_0`\n",
    "GROUP BY appln_auth_2, exact_twins\n",
    "ORDER BY nb_cases DESC"
   ]
  },
  {
   "cell_type": "code",
   "execution_count": 171,
   "metadata": {},
   "outputs": [],
   "source": [
    "df_pf = pd.concat([df_pf_1, df_pf_2])\n",
    "auth_list = df_pf.groupby(by=['appln_auth'])[['nb_cases']].sum()\\\n",
    "                 .reset_index().sort_values(by=['nb_cases'], ascending=False)\\\n",
    "                 .reset_index(drop=True).appln_auth.values[:15]"
   ]
  },
  {
   "cell_type": "code",
   "execution_count": 166,
   "metadata": {},
   "outputs": [
    {
     "data": {
      "text/plain": [
       "array(['US', 'WO', 'EP', 'JP', 'CN', 'KR', 'DE', 'CA', 'AU', 'TW', 'BR',\n",
       "       'ES', 'AT', 'MX', 'RU'], dtype=object)"
      ]
     },
     "execution_count": 166,
     "metadata": {},
     "output_type": "execute_result"
    }
   ],
   "source": [
    "auth_list"
   ]
  },
  {
   "cell_type": "code",
   "execution_count": 172,
   "metadata": {},
   "outputs": [],
   "source": [
    "# Changing the values in 'exact_twins' column\n",
    "dict_map = {0:'not Twins', 1:'Exact Twins'}\n",
    "df_pf['exact_twins'] = df_pf['exact_twins'].map(dict_map)"
   ]
  },
  {
   "cell_type": "code",
   "execution_count": 173,
   "metadata": {},
   "outputs": [],
   "source": [
    "# Preparing the dataframe for plotting\n",
    "df_pf.columns = ['Authority Office', 'Is a twin?', 'nb_cases']\n",
    "df_plot = df_pf[df_pf['Authority Office'].isin(auth_list)]\\\n",
    "            .pivot(values='nb_cases', columns='Is a twin?', index='Authority Office')"
   ]
  },
  {
   "cell_type": "code",
   "execution_count": 181,
   "metadata": {},
   "outputs": [
    {
     "data": {
      "image/png": "[encoded data removed]",
      "text/plain": [
       "<Figure size 864x504 with 1 Axes>"
      ]
     },
     "metadata": {},
     "output_type": "display_data"
    }
   ],
   "source": [
    "# Plotting\n",
    "fig, ax = plt.subplots(1, 1, figsize=(12,7))\n",
    "df_plot.reindex(index=auth_list).plot(ax=ax, kind='bar', stacked=True, colormap='Spectral')\n",
    "ax.bar\n",
    "#ax.set_xlabel('Sex', fontsize=18)\n",
    "ax.set_ylabel('Unique Counts', fontsize=20)\n",
    "#ax.set_title('My title', fontsize=20)\n",
    "#ax.legend(#['First', 'Second', 'Third'], # you can send a list to change the legends\n",
    "#          loc='center left', bbox_to_anchor=(1., 0.5)) # bbox_to_anchor is for putting legend outside the plot\n",
    "#ax.set_yscale('log')\n",
    "#ax.set_xticks(ax.get_xticks()) # list of xticks positions\n",
    "#ax.set_xticklabels(ax.get_xticklabels(), fontdict={'fontsize':16}, rotation=45, ha='right') #or rotation='horizontal'\n",
    "ax.yaxis.set_major_formatter(ticker.StrMethodFormatter('{x:,.0f}'))\n",
    "plt.show()"
   ]
  },
  {
   "cell_type": "code",
   "execution_count": null,
   "metadata": {},
   "outputs": [],
   "source": []
  }
 ],
 "metadata": {
  "kernelspec": {
   "display_name": "Python 3",
   "language": "python",
   "name": "python3"
  },
  "language_info": {
   "codemirror_mode": {
    "name": "ipython",
    "version": 3
   },
   "file_extension": ".py",
   "mimetype": "text/x-python",
   "name": "python",
   "nbconvert_exporter": "python",
   "pygments_lexer": "ipython3",
   "version": "3.7.2"
  }
 },
 "nbformat": 4,
 "nbformat_minor": 2
}
